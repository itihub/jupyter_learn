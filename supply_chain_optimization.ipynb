{
 "cells": [
  {
   "cell_type": "markdown",
   "metadata": {},
   "source": [
    "# 供应链网络优化模型\n",
    "\n",
    "本 Notebook 旨在构建一个快消品供应链网络优化模型，目标是最小化总成本（生产、运输、库存和惩罚成本）。模型考虑了工厂、分仓、客户之间的多层级关系，以及多周期生产和带有最小/最大产值约束的生产线策略。\n",
    "\n",
    "我们将使用 `pulp` 库进行线性规划，并使用 `pandas`, `plotly` 和 `folium` 进行数据分析和可视化。\n"
   ]
  },
  {
   "cell_type": "markdown",
   "metadata": {},
   "source": [
    "强大的决策支持工具，可以从中挖掘出远超“最优解”本身的商业价值数据和风控数据。以下是你可以从模型结果中提取和分析的一些关键洞察，这些都对商业决策和风险管理至关重要：\n",
    "1. 商业价值数据\n",
    "这些数据可以帮助你优化运营策略，提高利润率。\n",
    "\n",
    "+ 资源利用率：\n",
    "    + 生产线利用率：通过计算 value(produce) 除以生产线的最大产能，你可以知道每条生产线在每个周期的繁忙程度。这有助于你决定是否需要升级、停用或投资新生产线。\n",
    "    + 仓储空间利用率：通过分析 value(factory_inventory) 和 value(warehouse_inventory)，你可以计算出库存的平均占用率。这有助于评估现有仓储能力是否足够，或者是否需要调整租金、寻找新仓库。\n",
    "\n",
    "+ 成本效率分析：\n",
    "    + 单位成本：模型可以计算出每件产品从生产到最终交付给客户的总单位成本。这可以作为定价策略的依据，并帮助你识别成本最高的配送路径或生产线。\n",
    "    + 成本分解细化：你已经实现了总成本的分解。但你可以更进一步，按产品、按客户或按周期来分解成本，找出哪些产品或客户是利润的主要来源，或者哪些时期成本最高。\n",
    "\n",
    "+ 库存策略优化：\n",
    "    + 安全库存量：通过分析模型中的库存水平，你可以了解在满足所有需求的前提下，模型如何管理库存。这可以帮助你设定合理的安全库存量，以平衡库存成本和缺货风险。\n",
    "    + 提前生产策略：如果模型在需求较低的周期安排了大量生产，并将产品存入仓库，这说明模型认为提前生产比在需求高峰期紧急生产更经济。你可以将此作为季节性或周期性生产的指导方针。\n",
    "\n",
    "2. 风控数据\n",
    "这些数据可以帮助你评估和管理供应链中的潜在风险，为制定应急预案提供依据。\n",
    "\n",
    "+ 单点依赖风险：\n",
    "    + 工厂生产集中度：分析 produce 变量，如果某个工厂承担了绝大多数产品的生产，那么该工厂一旦停工，将对整个供应链造成巨大冲击。模型可以量化这种集中度。\n",
    "    + 配送路径集中度：分析 flow 变量，如果某个分仓或运输路线承担了绝大部分的配送任务，那么这条路径的任何中断（如交通管制、自然灾害）都可能导致大规模延误。\n",
    "\n",
    "+ 需求满足风险：\n",
    "    + 缺货惩罚成本：你的模型包含了 penalty_cost_val。这个值如果非零，就意味着模型在最优解中允许了部分缺货，这本身就是一种风险信号。你可以通过分析是哪个客户、哪个周期、哪种产品出现了缺货，来识别最脆弱的环节。\n",
    "\n",
    "+ 产能瓶颈识别：\n",
    "    + 最大生产量约束：如果某个工厂的生产量 value(produce) 总是接近其最大产能约束，这表明该工厂是整个供应链的瓶颈。你可以将此作为投资扩建或寻找备选供应商的决策依据。"
   ]
  },
  {
   "cell_type": "code",
   "execution_count": 17,
   "metadata": {},
   "outputs": [],
   "source": [
    "# 导入所需库\n",
    "from pulp import *\n",
    "import pandas as pd\n",
    "from collections import defaultdict\n",
    "import plotly.express as px\n",
    "import folium\n",
    "from folium.plugins import MarkerCluster, Fullscreen, PolyLineTextPath\n",
    "from IPython.display import display\n"
   ]
  },
  {
   "cell_type": "markdown",
   "metadata": {},
   "source": [
    "## 数据准备"
   ]
  },
  {
   "cell_type": "code",
   "execution_count": null,
   "metadata": {},
   "outputs": [],
   "source": [
    "\n",
    "# --- 1. 数据准备 ---\n",
    "\n",
    "# 定义所有站点、产品和周期\n",
    "factories = ['北京工厂', '广州工厂']\n",
    "warehouses = ['上海分仓', '武汉分仓']\n",
    "customers = ['沈阳客户', '深圳客户', '成都客户']\n",
    "periods = [1, 2, 3]  # 三旬\n",
    "products = ['橙汁', '苹果汁']\n",
    "# 产品数据（原料成本、售价、重量、体积）\n",
    "product_data = {\n",
    "    '橙汁': {'raw_material_cost': 1.5, 'sales_price': 15.0, 'weight': 1.2, 'volume': 0.001},\n",
    "    '苹果汁': {'raw_material_cost': 1.2, 'sales_price': 13.0, 'weight': 1.1, 'volume': 0.0009}\n",
    "}\n",
    "\n",
    "# 生产线信息\n",
    "production_lines_info = {\n",
    "    '北京工厂': {\n",
    "        'Line_1': {\n",
    "            'products': ['橙汁'],\n",
    "            'min_daily_output': {'橙汁': 2000},\n",
    "            'max_daily_output': {'橙汁': 5000}\n",
    "        }\n",
    "    },\n",
    "    '广州工厂': {\n",
    "        'Line_A': {\n",
    "            'products': ['橙汁'],\n",
    "            'min_daily_output': {'橙汁': 1500},\n",
    "            'max_daily_output': {'橙汁': 6000}\n",
    "        },\n",
    "        'Line_B': {\n",
    "            'products': ['苹果汁'],\n",
    "            'min_daily_output': {'苹果汁': 1800},\n",
    "            'max_daily_output': {'苹果汁': 6500}\n",
    "        }\n",
    "    }\n",
    "}\n",
    "\n",
    "all_lines = [line for f in factories for line in production_lines_info[f]]\n",
    "\n",
    "# 成本数据 (单位: 元/件)\n",
    "production_cost = {\n",
    "    ('北京工厂', 'Line_1', '橙汁'): 8,\n",
    "    ('广州工厂', 'Line_A', '橙汁'): 7.5,\n",
    "    ('广州工厂', 'Line_B', '苹果汁'): 7\n",
    "}\n",
    "\n",
    "# 生产线激活成本 (单位: 元/旬)\n",
    "line_activation_cost = {\n",
    "    ('北京工厂', 'Line_1'): 5000,\n",
    "    ('广州工厂', 'Line_A'): 4500,\n",
    "    ('广州工厂', 'Line_B'): 4000\n",
    "}\n",
    "\n",
    "# 仓储成本\n",
    "factory_inventory_cost = {\n",
    "    '北京工厂': {'橙汁': 0.08, '苹果汁': 0.10},\n",
    "    '广州工厂': {'橙汁': 0.07, '苹果汁': 0.09}\n",
    "}\n",
    "\n",
    "warehouse_inventory_cost = {\n",
    "    '上海分仓': {'橙汁': 0.1, '苹果汁': 0.12},\n",
    "    '武汉分仓': {'橙汁': 0.09, '苹果汁': 0.11}\n",
    "}\n",
    "\n",
    "# 运输成本\n",
    "transport_cost_fw = {\n",
    "    ('北京工厂', '上海分仓'): 0.5, ('北京工厂', '武汉分仓'): 0.6,\n",
    "    ('广州工厂', '上海分仓'): 0.4, ('广州工厂', '武汉分仓'): 0.3,\n",
    "}\n",
    "transport_cost_fc = {\n",
    "    ('北京工厂', '沈阳客户'): 0.2, ('广州工厂', '沈阳客户'): 1.5,\n",
    "    ('北京工厂', '深圳客户'): 1.8, ('广州工厂', '深圳客户'): 0.2,\n",
    "    ('北京工厂', '成都客户'): 1.2, ('广州工厂', '成都客户'): 0.9\n",
    "}\n",
    "transport_cost_wc = {\n",
    "    ('上海分仓', '沈阳客户'): 0.8, ('武汉分仓', '沈阳客户'): 1.3,\n",
    "    ('上海分仓', '深圳客户'): 0.6, ('武汉分仓', '深圳客户'): 0.7,\n",
    "    ('上海分仓', '成都客户'): 0.5, ('武汉分仓', '成都客户'): 0.4\n",
    "}\n",
    "\n",
    "# 客户需求数据\n",
    "demand = {\n",
    "    '沈阳客户': {'橙汁': {1: 10000, 2: 12000, 3: 8000}, '苹果汁': {1: 5000, 2: 6000, 3: 7000}},\n",
    "    '深圳客户': {'橙汁': {1: 15000, 2: 18000, 3: 16000}, '苹果汁': {1: 8000, 2: 9000, 3: 10000}},\n",
    "    '成都客户': {'橙汁': {1: 12000, 2: 10000, 3: 14000}, '苹果汁': {1: 7000, 2: 6000, 3: 8000}}\n",
    "}\n",
    "\n",
    "# 惩罚成本\n",
    "penalty_cost_per_unit = 100\n",
    "\n",
    "# 地理位置数据 (用于地图可视化)\n",
    "locations = {\n",
    "    '北京工厂': (39.9042, 116.4074), '广州工厂': (23.1291, 113.2644),\n",
    "    '上海分仓': (31.2304, 121.4737), '武汉分仓': (30.5928, 114.3055),\n",
    "    '沈阳客户': (41.7963, 123.4315), '深圳客户': (22.5431, 114.0579),\n",
    "    '成都客户': (30.5728, 104.0668)\n",
    "}\n"
   ]
  },
  {
   "cell_type": "markdown",
   "metadata": {},
   "source": [
    "## 数据建模"
   ]
  },
  {
   "cell_type": "code",
   "execution_count": 4,
   "metadata": {},
   "outputs": [
    {
     "name": "stdout",
     "output_type": "stream",
     "text": [
      "Welcome to the CBC MILP Solver \n",
      "Version: 2.10.3 \n",
      "Build Date: Dec 15 2019 \n",
      "\n",
      "command line - /home/jizhe/projects/python/jupyter_learn/.venv/lib/python3.10/site-packages/pulp/apis/../solverdir/cbc/linux/i64/cbc /tmp/2e682a7d5a724bc1b7cc6820e1190b7b-pulp.mps -timeMode elapsed -branch -printingOptions all -solution /tmp/2e682a7d5a724bc1b7cc6820e1190b7b-pulp.sol (default strategy 1)\n",
      "At line 2 NAME          MODEL\n",
      "At line 3 ROWS\n",
      "At line 110 COLUMNS\n",
      "At line 715 RHS\n",
      "At line 821 BOUNDS\n",
      "At line 840 ENDATA\n",
      "Problem MODEL has 105 rows, 174 columns and 412 elements\n",
      "Coin0008I MODEL read with 0 errors\n",
      "Option for timeMode changed from cpu to elapsed\n",
      "Continuous objective value is 1.43564e+06 - 0.00 seconds\n",
      "Cgl0002I 9 variables fixed\n",
      "Cgl0004I processed model has 57 rows, 114 columns (8 integer (8 of which binary)) and 314 elements\n",
      "Cbc0038I Initial state - 8 integers unsatisfied sum - 2.72436\n",
      "Cbc0038I Pass   1: suminf.    0.69872 (3) obj. 1.468e+06 iterations 20\n",
      "Cbc0038I Pass   2: suminf.    0.01538 (1) obj. 1.50944e+06 iterations 2\n",
      "Cbc0038I Pass   3: suminf.    0.00000 (0) obj. 1.96714e+06 iterations 1\n",
      "Cbc0038I Solution found of 1.96714e+06\n",
      "Cbc0038I Relaxing continuous gives 1.46001e+06\n",
      "Cbc0038I Before mini branch and bound, 0 integers at bound fixed and 73 continuous\n",
      "Cbc0038I Full problem 57 rows 114 columns, reduced to 21 rows 33 columns\n",
      "Cbc0038I Mini branch and bound did not improve solution (0.01 seconds)\n",
      "Cbc0038I Round again with cutoff of 1.45785e+06\n",
      "Cbc0038I Pass   4: suminf.    0.69872 (3) obj. 1.45785e+06 iterations 28\n",
      "Cbc0038I Pass   5: suminf.    0.10953 (2) obj. 1.45785e+06 iterations 16\n",
      "Cbc0038I Pass   6: suminf.    0.51292 (2) obj. 1.45785e+06 iterations 9\n",
      "Cbc0038I Pass   7: suminf.    0.00000 (0) obj. 1.45785e+06 iterations 3\n",
      "Cbc0038I Solution found of 1.45785e+06\n",
      "Cbc0038I Relaxing continuous gives 1.45383e+06\n",
      "Cbc0038I Before mini branch and bound, 0 integers at bound fixed and 69 continuous\n",
      "Cbc0038I Full problem 57 rows 114 columns, reduced to 22 rows 34 columns\n",
      "Cbc0038I Mini branch and bound did not improve solution (0.01 seconds)\n",
      "Cbc0038I Round again with cutoff of 1.45075e+06\n",
      "Cbc0038I Pass   8: suminf.    0.95321 (5) obj. 1.45075e+06 iterations 16\n",
      "Cbc0038I Pass   9: suminf.    0.40670 (4) obj. 1.45075e+06 iterations 6\n",
      "Cbc0038I Pass  10: suminf.    1.30281 (3) obj. 1.45075e+06 iterations 15\n",
      "Cbc0038I Pass  11: suminf.    0.15424 (1) obj. 1.45075e+06 iterations 7\n",
      "Cbc0038I Pass  12: suminf.    0.38303 (1) obj. 1.45075e+06 iterations 5\n",
      "Cbc0038I Pass  13: suminf.    0.00000 (0) obj. 1.45075e+06 iterations 2\n",
      "Cbc0038I Solution found of 1.45075e+06\n",
      "Cbc0038I Relaxing continuous gives 1.45043e+06\n",
      "Cbc0038I Before mini branch and bound, 0 integers at bound fixed and 74 continuous\n",
      "Cbc0038I Full problem 57 rows 114 columns, reduced to 16 rows 26 columns\n",
      "Cbc0038I Mini branch and bound did not improve solution (0.02 seconds)\n",
      "Cbc0038I Round again with cutoff of 1.44682e+06\n",
      "Cbc0038I Pass  14: suminf.    1.00953 (6) obj. 1.44682e+06 iterations 1\n",
      "Cbc0038I Pass  15: suminf.    1.00953 (6) obj. 1.44682e+06 iterations 0\n",
      "Cbc0038I Pass  16: suminf.    0.99273 (4) obj. 1.44682e+06 iterations 15\n",
      "Cbc0038I Pass  17: suminf.    0.99273 (4) obj. 1.44682e+06 iterations 0\n",
      "Cbc0038I Pass  18: suminf.    0.75455 (3) obj. 1.44682e+06 iterations 2\n",
      "Cbc0038I Pass  19: suminf.    0.56136 (3) obj. 1.44682e+06 iterations 6\n",
      "Cbc0038I Pass  20: suminf.    0.56136 (3) obj. 1.44682e+06 iterations 0\n",
      "Cbc0038I Pass  21: suminf.    1.39574 (6) obj. 1.44682e+06 iterations 9\n",
      "Cbc0038I Pass  22: suminf.    1.39574 (6) obj. 1.44682e+06 iterations 0\n",
      "Cbc0038I Pass  23: suminf.    1.39574 (6) obj. 1.44682e+06 iterations 0\n",
      "Cbc0038I Pass  24: suminf.    1.39574 (6) obj. 1.44682e+06 iterations 0\n",
      "Cbc0038I Pass  25: suminf.    1.39574 (6) obj. 1.44682e+06 iterations 0\n",
      "Cbc0038I Pass  26: suminf.    1.37928 (5) obj. 1.44682e+06 iterations 4\n",
      "Cbc0038I Pass  27: suminf.    1.07273 (4) obj. 1.44682e+06 iterations 4\n",
      "Cbc0038I Pass  28: suminf.    1.07273 (4) obj. 1.44682e+06 iterations 0\n",
      "Cbc0038I Pass  29: suminf.    0.68255 (3) obj. 1.44682e+06 iterations 2\n",
      "Cbc0038I Pass  30: suminf.    0.57936 (3) obj. 1.44682e+06 iterations 6\n",
      "Cbc0038I Pass  31: suminf.    1.07273 (4) obj. 1.44682e+06 iterations 5\n",
      "Cbc0038I Pass  32: suminf.    0.58636 (3) obj. 1.44682e+06 iterations 7\n",
      "Cbc0038I Pass  33: suminf.    0.65455 (3) obj. 1.44682e+06 iterations 5\n",
      "Cbc0038I Pass  34: suminf.    0.58636 (3) obj. 1.44682e+06 iterations 5\n",
      "Cbc0038I Pass  35: suminf.    0.58636 (3) obj. 1.44682e+06 iterations 0\n",
      "Cbc0038I Pass  36: suminf.    1.01183 (4) obj. 1.44682e+06 iterations 4\n",
      "Cbc0038I Pass  37: suminf.    1.02739 (5) obj. 1.44682e+06 iterations 4\n",
      "Cbc0038I Pass  38: suminf.    0.72655 (3) obj. 1.44682e+06 iterations 11\n",
      "Cbc0038I Pass  39: suminf.    0.56836 (3) obj. 1.44682e+06 iterations 5\n",
      "Cbc0038I Pass  40: suminf.    1.01667 (5) obj. 1.44682e+06 iterations 6\n",
      "Cbc0038I Pass  41: suminf.    1.39495 (5) obj. 1.44682e+06 iterations 6\n",
      "Cbc0038I Pass  42: suminf.    0.89717 (4) obj. 1.44682e+06 iterations 1\n",
      "Cbc0038I Pass  43: suminf.    1.13421 (4) obj. 1.44682e+06 iterations 2\n",
      "Cbc0038I No solution found this major pass\n",
      "Cbc0038I Before mini branch and bound, 0 integers at bound fixed and 74 continuous\n",
      "Cbc0038I Full problem 57 rows 114 columns, reduced to 18 rows 27 columns\n",
      "Cbc0038I Mini branch and bound did not improve solution (0.03 seconds)\n",
      "Cbc0038I After 0.03 seconds - Feasibility pump exiting with objective of 1.45043e+06 - took 0.02 seconds\n",
      "Cbc0012I Integer solution of 1450430 found by feasibility pump after 0 iterations and 0 nodes (0.03 seconds)\n",
      "Cbc0012I Integer solution of 1450290 found by DiveCoefficient after 19 iterations and 0 nodes (0.03 seconds)\n",
      "Cbc0031I 8 added rows had average density of 10.375\n",
      "Cbc0013I At root node, 8 cuts changed objective from 1438405.8 to 1450290 in 5 passes\n",
      "Cbc0014I Cut generator 0 (Probing) - 0 row cuts average 0.0 elements, 0 column cuts (0 active)  in 0.001 seconds - new frequency is -100\n",
      "Cbc0014I Cut generator 1 (Gomory) - 9 row cuts average 15.6 elements, 0 column cuts (0 active)  in 0.000 seconds - new frequency is 1\n",
      "Cbc0014I Cut generator 2 (Knapsack) - 0 row cuts average 0.0 elements, 0 column cuts (0 active)  in 0.000 seconds - new frequency is -100\n",
      "Cbc0014I Cut generator 3 (Clique) - 0 row cuts average 0.0 elements, 0 column cuts (0 active)  in 0.000 seconds - new frequency is -100\n",
      "Cbc0014I Cut generator 4 (MixedIntegerRounding2) - 0 row cuts average 0.0 elements, 0 column cuts (0 active)  in 0.000 seconds - new frequency is -100\n",
      "Cbc0014I Cut generator 5 (FlowCover) - 0 row cuts average 0.0 elements, 0 column cuts (0 active)  in 0.000 seconds - new frequency is -100\n",
      "Cbc0014I Cut generator 6 (TwoMirCuts) - 12 row cuts average 14.0 elements, 0 column cuts (0 active)  in 0.000 seconds - new frequency is 1\n",
      "Cbc0001I Search completed - best objective 1450290, took 19 iterations and 0 nodes (0.03 seconds)\n",
      "Cbc0035I Maximum depth 0, 0 variables fixed on reduced cost\n",
      "Cuts at root node changed objective from 1.43841e+06 to 1.45029e+06\n",
      "Probing was tried 5 times and created 0 cuts of which 0 were active after adding rounds of cuts (0.001 seconds)\n",
      "Gomory was tried 5 times and created 9 cuts of which 0 were active after adding rounds of cuts (0.000 seconds)\n",
      "Knapsack was tried 5 times and created 0 cuts of which 0 were active after adding rounds of cuts (0.000 seconds)\n",
      "Clique was tried 5 times and created 0 cuts of which 0 were active after adding rounds of cuts (0.000 seconds)\n",
      "MixedIntegerRounding2 was tried 5 times and created 0 cuts of which 0 were active after adding rounds of cuts (0.000 seconds)\n",
      "FlowCover was tried 5 times and created 0 cuts of which 0 were active after adding rounds of cuts (0.000 seconds)\n",
      "TwoMirCuts was tried 5 times and created 12 cuts of which 0 were active after adding rounds of cuts (0.000 seconds)\n",
      "ZeroHalf was tried 1 times and created 0 cuts of which 0 were active after adding rounds of cuts (0.000 seconds)\n",
      "\n",
      "Result - Optimal solution found\n",
      "\n",
      "Objective value:                1450290.00000000\n",
      "Enumerated nodes:               0\n",
      "Total iterations:               19\n",
      "Time (CPU seconds):             0.03\n",
      "Time (Wallclock seconds):       0.03\n",
      "\n",
      "Option for printingOptions changed from normal to all\n",
      "Total time (CPU seconds):       0.03   (Wallclock seconds):       0.03\n",
      "\n"
     ]
    }
   ],
   "source": [
    "# --- 2. 模型构建与求解 ---\n",
    "\n",
    "\"\"\"构建并求解供应链优化模型\"\"\"\n",
    "model = LpProblem(\"Supply_Chain_Optimization\", LpMinimize)\n",
    "days_per_period = 10\n",
    "\n",
    "# 决策变量\n",
    "line_on = LpVariable.dicts(\"Line_On\", (factories, all_lines, products, periods), 0, 1, LpBinary)\n",
    "produce = LpVariable.dicts(\"Produce\", (factories, all_lines, products, periods), 0, None, LpContinuous)\n",
    "flow_fw = LpVariable.dicts(\"Flow_FW\", (factories, warehouses, products, periods), 0, None, LpContinuous)\n",
    "flow_fc = LpVariable.dicts(\"Flow_FC\", (factories, customers, products, periods), 0, None, LpContinuous)\n",
    "flow_wc = LpVariable.dicts(\"Flow_WC\", (warehouses, customers, products, periods), 0, None, LpContinuous)\n",
    "factory_inventory = LpVariable.dicts(\"Factory_Inventory\", (factories, products, periods), 0, None, LpContinuous)\n",
    "warehouse_inventory = LpVariable.dicts(\"Warehouse_Inventory\", (warehouses, products, periods), 0, None, LpContinuous)\n",
    "\n",
    "# 目标函数：最小化总成本\n",
    "total_cost = []\n",
    "for f in factories:\n",
    "    for line in production_lines_info[f]:\n",
    "        for p in products:\n",
    "            for t in periods:\n",
    "                if p in production_lines_info[f][line]['products']:\n",
    "                    total_cost.append(production_cost[(f, line, p)] * produce[f][line][p][t])\n",
    "                    total_cost.append(line_activation_cost[(f, line)] * line_on[f][line][p][t])\n",
    "for f in factories:\n",
    "    for p in products:\n",
    "        for t in periods:\n",
    "            total_cost.append(factory_inventory_cost[f][p] * factory_inventory[f][p][t])\n",
    "for w in warehouses:\n",
    "    for p in products:\n",
    "        for t in periods:\n",
    "            total_cost.append(warehouse_inventory_cost[w][p] * warehouse_inventory[w][p][t])\n",
    "for f in factories:\n",
    "    for w in warehouses:\n",
    "        for p in products:\n",
    "            for t in periods:\n",
    "                total_cost.append(transport_cost_fw[(f, w)] * flow_fw[f][w][p][t])\n",
    "for f in factories:\n",
    "    for c in customers:\n",
    "        for p in products:\n",
    "            for t in periods:\n",
    "                total_cost.append(transport_cost_fc.get((f, c), 0) * flow_fc[f][c][p][t])\n",
    "for w in warehouses:\n",
    "    for c in customers:\n",
    "        for p in products:\n",
    "            for t in periods:\n",
    "                total_cost.append(transport_cost_wc.get((w, c), 0) * flow_wc[w][c][p][t])\n",
    "for c in customers:\n",
    "    for p in products:\n",
    "        for t in periods:\n",
    "            unmet_demand_var = LpVariable(f\"Unmet_Demand_{c}_{p}_{t}\", 0, None)\n",
    "            received_flow = lpSum([flow_fc[f][c][p][t] for f in factories]) + lpSum([flow_wc[w][c][p][t] for w in warehouses])\n",
    "            model += unmet_demand_var >= demand[c][p][t] - received_flow\n",
    "            total_cost.append(penalty_cost_per_unit * unmet_demand_var)\n",
    "\n",
    "model += lpSum(total_cost)\n",
    "\n",
    "# 约束条件\n",
    "for c in customers:\n",
    "    for p in products:\n",
    "        for t in periods:\n",
    "            model += lpSum([flow_fc[f][c][p][t] for f in factories] + [flow_wc[w][c][p][t] for w in warehouses]) >= demand[c][p][t]\n",
    "\n",
    "for f in factories:\n",
    "    for line in production_lines_info[f]:\n",
    "        for p in products:\n",
    "            for t in periods:\n",
    "                if p in production_lines_info[f][line]['products']:\n",
    "                    min_val = production_lines_info[f][line]['min_daily_output'][p] * days_per_period\n",
    "                    max_val = production_lines_info[f][line]['max_daily_output'][p] * days_per_period\n",
    "                    model += produce[f][line][p][t] >= min_val * line_on[f][line][p][t]\n",
    "                    model += produce[f][line][p][t] <= max_val * line_on[f][line][p][t]\n",
    "                else:\n",
    "                    model += produce[f][line][p][t] == 0\n",
    "                    model += line_on[f][line][p][t] == 0\n",
    "\n",
    "for f in factories:\n",
    "    for line in production_lines_info[f]:\n",
    "        for t in periods:\n",
    "            model += lpSum([line_on[f][line][p][t] for p in products]) <= 1\n",
    "\n",
    "for f in factories:\n",
    "    for p in products:\n",
    "        for t in periods:\n",
    "            total_produced = lpSum([produce[f][line][p][t] for line in production_lines_info[f]])\n",
    "            total_shipped = lpSum([flow_fw[f][w][p][t] for w in warehouses] + [flow_fc[f][c][p][t] for c in customers])\n",
    "            if t == periods[0]:\n",
    "                model += factory_inventory[f][p][t] == total_produced - total_shipped\n",
    "            else:\n",
    "                model += factory_inventory[f][p][t] == factory_inventory[f][p][t-1] + total_produced - total_shipped\n",
    "\n",
    "for w in warehouses:\n",
    "    for p in products:\n",
    "        for t in periods:\n",
    "            inflow = lpSum([flow_fw[f][w][p][t] for f in factories])\n",
    "            outflow = lpSum([flow_wc[w][c][p][t] for c in customers])\n",
    "            if t == periods[0]:\n",
    "                model += warehouse_inventory[w][p][t] == inflow - outflow\n",
    "            else:\n",
    "                model += warehouse_inventory[w][p][t] == warehouse_inventory[w][p][t-1] + inflow - outflow\n",
    "\n",
    "# 求解模型\n",
    "model.solve()\n",
    "if LpStatus[model.status] != 'Optimal':\n",
    "    print(\"模型求解失败，未找到最优解。\")"
   ]
  },
  {
   "cell_type": "markdown",
   "metadata": {},
   "source": [
    "## 成本可视化"
   ]
  },
  {
   "cell_type": "code",
   "execution_count": 24,
   "metadata": {},
   "outputs": [
    {
     "name": "stdout",
     "output_type": "stream",
     "text": [
      "总成本：1,450,290.00 元\n"
     ]
    },
    {
     "data": {
      "application/vnd.plotly.v1+json": {
       "config": {
        "plotlyServerURL": "https://plot.ly"
       },
       "data": [
        {
         "domain": {
          "x": [
           0,
           1
          ],
          "y": [
           0,
           1
          ]
         },
         "hovertemplate": "Cost Type=%{label}<br>Amount=%{value}<extra></extra>",
         "labels": [
          "生产成本",
          "运输成本",
          "库存成本",
          "生产线激活成本",
          "惩罚成本"
         ],
         "legendgroup": "",
         "name": "",
         "showlegend": true,
         "type": "pie",
         "values": {
          "bdata": "AAAAAGxwNEEAAAAAwDD0QAAAAAAAyrdAAAAAAAB81UAAAAAAAAAAAA==",
          "dtype": "f8"
         }
        }
       ],
       "layout": {
        "legend": {
         "tracegroupgap": 0
        },
        "template": {
         "data": {
          "bar": [
           {
            "error_x": {
             "color": "#2a3f5f"
            },
            "error_y": {
             "color": "#2a3f5f"
            },
            "marker": {
             "line": {
              "color": "#E5ECF6",
              "width": 0.5
             },
             "pattern": {
              "fillmode": "overlay",
              "size": 10,
              "solidity": 0.2
             }
            },
            "type": "bar"
           }
          ],
          "barpolar": [
           {
            "marker": {
             "line": {
              "color": "#E5ECF6",
              "width": 0.5
             },
             "pattern": {
              "fillmode": "overlay",
              "size": 10,
              "solidity": 0.2
             }
            },
            "type": "barpolar"
           }
          ],
          "carpet": [
           {
            "aaxis": {
             "endlinecolor": "#2a3f5f",
             "gridcolor": "white",
             "linecolor": "white",
             "minorgridcolor": "white",
             "startlinecolor": "#2a3f5f"
            },
            "baxis": {
             "endlinecolor": "#2a3f5f",
             "gridcolor": "white",
             "linecolor": "white",
             "minorgridcolor": "white",
             "startlinecolor": "#2a3f5f"
            },
            "type": "carpet"
           }
          ],
          "choropleth": [
           {
            "colorbar": {
             "outlinewidth": 0,
             "ticks": ""
            },
            "type": "choropleth"
           }
          ],
          "contour": [
           {
            "colorbar": {
             "outlinewidth": 0,
             "ticks": ""
            },
            "colorscale": [
             [
              0,
              "#0d0887"
             ],
             [
              0.1111111111111111,
              "#46039f"
             ],
             [
              0.2222222222222222,
              "#7201a8"
             ],
             [
              0.3333333333333333,
              "#9c179e"
             ],
             [
              0.4444444444444444,
              "#bd3786"
             ],
             [
              0.5555555555555556,
              "#d8576b"
             ],
             [
              0.6666666666666666,
              "#ed7953"
             ],
             [
              0.7777777777777778,
              "#fb9f3a"
             ],
             [
              0.8888888888888888,
              "#fdca26"
             ],
             [
              1,
              "#f0f921"
             ]
            ],
            "type": "contour"
           }
          ],
          "contourcarpet": [
           {
            "colorbar": {
             "outlinewidth": 0,
             "ticks": ""
            },
            "type": "contourcarpet"
           }
          ],
          "heatmap": [
           {
            "colorbar": {
             "outlinewidth": 0,
             "ticks": ""
            },
            "colorscale": [
             [
              0,
              "#0d0887"
             ],
             [
              0.1111111111111111,
              "#46039f"
             ],
             [
              0.2222222222222222,
              "#7201a8"
             ],
             [
              0.3333333333333333,
              "#9c179e"
             ],
             [
              0.4444444444444444,
              "#bd3786"
             ],
             [
              0.5555555555555556,
              "#d8576b"
             ],
             [
              0.6666666666666666,
              "#ed7953"
             ],
             [
              0.7777777777777778,
              "#fb9f3a"
             ],
             [
              0.8888888888888888,
              "#fdca26"
             ],
             [
              1,
              "#f0f921"
             ]
            ],
            "type": "heatmap"
           }
          ],
          "histogram": [
           {
            "marker": {
             "pattern": {
              "fillmode": "overlay",
              "size": 10,
              "solidity": 0.2
             }
            },
            "type": "histogram"
           }
          ],
          "histogram2d": [
           {
            "colorbar": {
             "outlinewidth": 0,
             "ticks": ""
            },
            "colorscale": [
             [
              0,
              "#0d0887"
             ],
             [
              0.1111111111111111,
              "#46039f"
             ],
             [
              0.2222222222222222,
              "#7201a8"
             ],
             [
              0.3333333333333333,
              "#9c179e"
             ],
             [
              0.4444444444444444,
              "#bd3786"
             ],
             [
              0.5555555555555556,
              "#d8576b"
             ],
             [
              0.6666666666666666,
              "#ed7953"
             ],
             [
              0.7777777777777778,
              "#fb9f3a"
             ],
             [
              0.8888888888888888,
              "#fdca26"
             ],
             [
              1,
              "#f0f921"
             ]
            ],
            "type": "histogram2d"
           }
          ],
          "histogram2dcontour": [
           {
            "colorbar": {
             "outlinewidth": 0,
             "ticks": ""
            },
            "colorscale": [
             [
              0,
              "#0d0887"
             ],
             [
              0.1111111111111111,
              "#46039f"
             ],
             [
              0.2222222222222222,
              "#7201a8"
             ],
             [
              0.3333333333333333,
              "#9c179e"
             ],
             [
              0.4444444444444444,
              "#bd3786"
             ],
             [
              0.5555555555555556,
              "#d8576b"
             ],
             [
              0.6666666666666666,
              "#ed7953"
             ],
             [
              0.7777777777777778,
              "#fb9f3a"
             ],
             [
              0.8888888888888888,
              "#fdca26"
             ],
             [
              1,
              "#f0f921"
             ]
            ],
            "type": "histogram2dcontour"
           }
          ],
          "mesh3d": [
           {
            "colorbar": {
             "outlinewidth": 0,
             "ticks": ""
            },
            "type": "mesh3d"
           }
          ],
          "parcoords": [
           {
            "line": {
             "colorbar": {
              "outlinewidth": 0,
              "ticks": ""
             }
            },
            "type": "parcoords"
           }
          ],
          "pie": [
           {
            "automargin": true,
            "type": "pie"
           }
          ],
          "scatter": [
           {
            "fillpattern": {
             "fillmode": "overlay",
             "size": 10,
             "solidity": 0.2
            },
            "type": "scatter"
           }
          ],
          "scatter3d": [
           {
            "line": {
             "colorbar": {
              "outlinewidth": 0,
              "ticks": ""
             }
            },
            "marker": {
             "colorbar": {
              "outlinewidth": 0,
              "ticks": ""
             }
            },
            "type": "scatter3d"
           }
          ],
          "scattercarpet": [
           {
            "marker": {
             "colorbar": {
              "outlinewidth": 0,
              "ticks": ""
             }
            },
            "type": "scattercarpet"
           }
          ],
          "scattergeo": [
           {
            "marker": {
             "colorbar": {
              "outlinewidth": 0,
              "ticks": ""
             }
            },
            "type": "scattergeo"
           }
          ],
          "scattergl": [
           {
            "marker": {
             "colorbar": {
              "outlinewidth": 0,
              "ticks": ""
             }
            },
            "type": "scattergl"
           }
          ],
          "scattermap": [
           {
            "marker": {
             "colorbar": {
              "outlinewidth": 0,
              "ticks": ""
             }
            },
            "type": "scattermap"
           }
          ],
          "scattermapbox": [
           {
            "marker": {
             "colorbar": {
              "outlinewidth": 0,
              "ticks": ""
             }
            },
            "type": "scattermapbox"
           }
          ],
          "scatterpolar": [
           {
            "marker": {
             "colorbar": {
              "outlinewidth": 0,
              "ticks": ""
             }
            },
            "type": "scatterpolar"
           }
          ],
          "scatterpolargl": [
           {
            "marker": {
             "colorbar": {
              "outlinewidth": 0,
              "ticks": ""
             }
            },
            "type": "scatterpolargl"
           }
          ],
          "scatterternary": [
           {
            "marker": {
             "colorbar": {
              "outlinewidth": 0,
              "ticks": ""
             }
            },
            "type": "scatterternary"
           }
          ],
          "surface": [
           {
            "colorbar": {
             "outlinewidth": 0,
             "ticks": ""
            },
            "colorscale": [
             [
              0,
              "#0d0887"
             ],
             [
              0.1111111111111111,
              "#46039f"
             ],
             [
              0.2222222222222222,
              "#7201a8"
             ],
             [
              0.3333333333333333,
              "#9c179e"
             ],
             [
              0.4444444444444444,
              "#bd3786"
             ],
             [
              0.5555555555555556,
              "#d8576b"
             ],
             [
              0.6666666666666666,
              "#ed7953"
             ],
             [
              0.7777777777777778,
              "#fb9f3a"
             ],
             [
              0.8888888888888888,
              "#fdca26"
             ],
             [
              1,
              "#f0f921"
             ]
            ],
            "type": "surface"
           }
          ],
          "table": [
           {
            "cells": {
             "fill": {
              "color": "#EBF0F8"
             },
             "line": {
              "color": "white"
             }
            },
            "header": {
             "fill": {
              "color": "#C8D4E3"
             },
             "line": {
              "color": "white"
             }
            },
            "type": "table"
           }
          ]
         },
         "layout": {
          "annotationdefaults": {
           "arrowcolor": "#2a3f5f",
           "arrowhead": 0,
           "arrowwidth": 1
          },
          "autotypenumbers": "strict",
          "coloraxis": {
           "colorbar": {
            "outlinewidth": 0,
            "ticks": ""
           }
          },
          "colorscale": {
           "diverging": [
            [
             0,
             "#8e0152"
            ],
            [
             0.1,
             "#c51b7d"
            ],
            [
             0.2,
             "#de77ae"
            ],
            [
             0.3,
             "#f1b6da"
            ],
            [
             0.4,
             "#fde0ef"
            ],
            [
             0.5,
             "#f7f7f7"
            ],
            [
             0.6,
             "#e6f5d0"
            ],
            [
             0.7,
             "#b8e186"
            ],
            [
             0.8,
             "#7fbc41"
            ],
            [
             0.9,
             "#4d9221"
            ],
            [
             1,
             "#276419"
            ]
           ],
           "sequential": [
            [
             0,
             "#0d0887"
            ],
            [
             0.1111111111111111,
             "#46039f"
            ],
            [
             0.2222222222222222,
             "#7201a8"
            ],
            [
             0.3333333333333333,
             "#9c179e"
            ],
            [
             0.4444444444444444,
             "#bd3786"
            ],
            [
             0.5555555555555556,
             "#d8576b"
            ],
            [
             0.6666666666666666,
             "#ed7953"
            ],
            [
             0.7777777777777778,
             "#fb9f3a"
            ],
            [
             0.8888888888888888,
             "#fdca26"
            ],
            [
             1,
             "#f0f921"
            ]
           ],
           "sequentialminus": [
            [
             0,
             "#0d0887"
            ],
            [
             0.1111111111111111,
             "#46039f"
            ],
            [
             0.2222222222222222,
             "#7201a8"
            ],
            [
             0.3333333333333333,
             "#9c179e"
            ],
            [
             0.4444444444444444,
             "#bd3786"
            ],
            [
             0.5555555555555556,
             "#d8576b"
            ],
            [
             0.6666666666666666,
             "#ed7953"
            ],
            [
             0.7777777777777778,
             "#fb9f3a"
            ],
            [
             0.8888888888888888,
             "#fdca26"
            ],
            [
             1,
             "#f0f921"
            ]
           ]
          },
          "colorway": [
           "#636efa",
           "#EF553B",
           "#00cc96",
           "#ab63fa",
           "#FFA15A",
           "#19d3f3",
           "#FF6692",
           "#B6E880",
           "#FF97FF",
           "#FECB52"
          ],
          "font": {
           "color": "#2a3f5f"
          },
          "geo": {
           "bgcolor": "white",
           "lakecolor": "white",
           "landcolor": "#E5ECF6",
           "showlakes": true,
           "showland": true,
           "subunitcolor": "white"
          },
          "hoverlabel": {
           "align": "left"
          },
          "hovermode": "closest",
          "mapbox": {
           "style": "light"
          },
          "paper_bgcolor": "white",
          "plot_bgcolor": "#E5ECF6",
          "polar": {
           "angularaxis": {
            "gridcolor": "white",
            "linecolor": "white",
            "ticks": ""
           },
           "bgcolor": "#E5ECF6",
           "radialaxis": {
            "gridcolor": "white",
            "linecolor": "white",
            "ticks": ""
           }
          },
          "scene": {
           "xaxis": {
            "backgroundcolor": "#E5ECF6",
            "gridcolor": "white",
            "gridwidth": 2,
            "linecolor": "white",
            "showbackground": true,
            "ticks": "",
            "zerolinecolor": "white"
           },
           "yaxis": {
            "backgroundcolor": "#E5ECF6",
            "gridcolor": "white",
            "gridwidth": 2,
            "linecolor": "white",
            "showbackground": true,
            "ticks": "",
            "zerolinecolor": "white"
           },
           "zaxis": {
            "backgroundcolor": "#E5ECF6",
            "gridcolor": "white",
            "gridwidth": 2,
            "linecolor": "white",
            "showbackground": true,
            "ticks": "",
            "zerolinecolor": "white"
           }
          },
          "shapedefaults": {
           "line": {
            "color": "#2a3f5f"
           }
          },
          "ternary": {
           "aaxis": {
            "gridcolor": "white",
            "linecolor": "white",
            "ticks": ""
           },
           "baxis": {
            "gridcolor": "white",
            "linecolor": "white",
            "ticks": ""
           },
           "bgcolor": "#E5ECF6",
           "caxis": {
            "gridcolor": "white",
            "linecolor": "white",
            "ticks": ""
           }
          },
          "title": {
           "x": 0.05
          },
          "xaxis": {
           "automargin": true,
           "gridcolor": "white",
           "linecolor": "white",
           "ticks": "",
           "title": {
            "standoff": 15
           },
           "zerolinecolor": "white",
           "zerolinewidth": 2
          },
          "yaxis": {
           "automargin": true,
           "gridcolor": "white",
           "linecolor": "white",
           "ticks": "",
           "title": {
            "standoff": 15
           },
           "zerolinecolor": "white",
           "zerolinewidth": 2
          }
         }
        },
        "title": {
         "text": "总成本分解"
        }
       }
      }
     },
     "metadata": {},
     "output_type": "display_data"
    }
   ],
   "source": [
    "# --- 3. 结果分析与可视化 ---\n",
    "\n",
    "\"\"\"分析模型结果并进行可视化\"\"\"\n",
    "print(f\"总成本：{value(model.objective):,.2f} 元\")\n",
    "\n",
    "# 提取成本数据\n",
    "# 生产成本\n",
    "prod_cost_val = 0\n",
    "for f in factories:\n",
    "    for line in production_lines_info[f]:\n",
    "        for p in products:\n",
    "            for t in periods:\n",
    "                if value(produce[f][line][p][t]) > 0:\n",
    "                    prod_cost_val += value(produce[f][line][p][t]) * production_cost[(f, line, p)]\n",
    "\n",
    "# 生产线激活成本\n",
    "act_cost_val = 0\n",
    "for f in factories:\n",
    "    for line in production_lines_info[f]:\n",
    "        for p in products:\n",
    "            for t in periods:\n",
    "                if value(line_on[f][line][p][t]) > 0:\n",
    "                    act_cost_val += value(line_on[f][line][p][t]) * line_activation_cost[(f, line)]\n",
    "\n",
    "# 运输成本\n",
    "transport_cost_val = 0\n",
    "# 工厂到分仓\n",
    "for f in factories:\n",
    "    for w in warehouses:\n",
    "        for p in products:\n",
    "            for t in periods:\n",
    "                if value(flow_fw[f][w][p][t]) > 0:\n",
    "                    transport_cost_val += value(flow_fw[f][w][p][t]) * transport_cost_fw.get((f, w), 0)\n",
    "# 工厂到客户\n",
    "for f in factories:\n",
    "    for c in customers:\n",
    "        for p in products:\n",
    "            for t in periods:\n",
    "                if value(flow_fc[f][c][p][t]) > 0:\n",
    "                    transport_cost_val += value(flow_fc[f][c][p][t]) * transport_cost_fc.get((f, c), 0)\n",
    "# 分仓到客户\n",
    "for w in warehouses:\n",
    "    for c in customers:\n",
    "        for p in products:\n",
    "            for t in periods:\n",
    "                if value(flow_wc[w][c][p][t]) > 0:\n",
    "                    transport_cost_val += value(flow_wc[w][c][p][t]) * transport_cost_wc.get((w, c), 0)\n",
    "\n",
    "# 工厂库存成本\n",
    "factory_inv_cost_val = 0\n",
    "for f in factories:\n",
    "    for p in products:\n",
    "        for t in periods:\n",
    "            if value(factory_inventory[f][p][t]) > 0:\n",
    "                factory_inv_cost_val += value(factory_inventory[f][p][t]) * factory_inventory_cost[f][p]\n",
    "\n",
    "# 分仓库存成本\n",
    "warehouse_inv_cost_val = 0\n",
    "for w in warehouses:\n",
    "    for p in products:\n",
    "        for t in periods:\n",
    "            if value(warehouse_inventory[w][p][t]) > 0:\n",
    "                warehouse_inv_cost_val += value(warehouse_inventory[w][p][t]) * warehouse_inventory_cost[w][p]\n",
    "\n",
    "# 惩罚成本\n",
    "penalty_cost_val = 0\n",
    "for c in customers:\n",
    "    for p in products:\n",
    "        for t in periods:\n",
    "            unmet_demand_var = model.variablesDict()[f\"Unmet_Demand_{c}_{p}_{t}\"]\n",
    "            if value(unmet_demand_var) > 0:\n",
    "                penalty_cost_val += value(unmet_demand_var) * penalty_cost_per_unit\n",
    "    cost_breakdown = {\n",
    "        '生产成本': prod_cost_val,\n",
    "        '运输成本': transport_cost_val,\n",
    "        '库存成本': factory_inv_cost_val + warehouse_inv_cost_val,\n",
    "        '生产线激活成本': act_cost_val,\n",
    "        '惩罚成本': penalty_cost_val\n",
    "    }\n",
    "\n",
    "# 可视化1: 成本分解饼图\n",
    "cost_df = pd.DataFrame(list(cost_breakdown.items()), columns=['Cost Type', 'Amount'])\n",
    "fig1 = px.pie(cost_df, values='Amount', names='Cost Type', title='总成本分解')\n",
    "fig1.show()\n"
   ]
  },
  {
   "cell_type": "markdown",
   "metadata": {},
   "source": [
    "## 供应链的生产-需求平衡"
   ]
  },
  {
   "cell_type": "code",
   "execution_count": 15,
   "metadata": {},
   "outputs": [
    {
     "name": "stdout",
     "output_type": "stream",
     "text": [
      "\n",
      "--- 工厂/客户产量与需求对照（细化到产品） ---\n"
     ]
    },
    {
     "data": {
      "text/html": [
       "<div>\n",
       "<style scoped>\n",
       "    .dataframe tbody tr th:only-of-type {\n",
       "        vertical-align: middle;\n",
       "    }\n",
       "\n",
       "    .dataframe tbody tr th {\n",
       "        vertical-align: top;\n",
       "    }\n",
       "\n",
       "    .dataframe thead th {\n",
       "        text-align: right;\n",
       "    }\n",
       "</style>\n",
       "<table border=\"1\" class=\"dataframe\">\n",
       "  <thead>\n",
       "    <tr style=\"text-align: right;\">\n",
       "      <th></th>\n",
       "      <th>地点</th>\n",
       "      <th>周期（旬）</th>\n",
       "      <th>产品</th>\n",
       "      <th>数量</th>\n",
       "      <th>类型</th>\n",
       "    </tr>\n",
       "  </thead>\n",
       "  <tbody>\n",
       "    <tr>\n",
       "      <th>0</th>\n",
       "      <td>北京工厂</td>\n",
       "      <td>1</td>\n",
       "      <td>橙汁</td>\n",
       "      <td>30000.0</td>\n",
       "      <td>产量</td>\n",
       "    </tr>\n",
       "    <tr>\n",
       "      <th>1</th>\n",
       "      <td>广州工厂</td>\n",
       "      <td>1</td>\n",
       "      <td>橙汁</td>\n",
       "      <td>55000.0</td>\n",
       "      <td>产量</td>\n",
       "    </tr>\n",
       "    <tr>\n",
       "      <th>2</th>\n",
       "      <td>广州工厂</td>\n",
       "      <td>3</td>\n",
       "      <td>橙汁</td>\n",
       "      <td>30000.0</td>\n",
       "      <td>产量</td>\n",
       "    </tr>\n",
       "    <tr>\n",
       "      <th>3</th>\n",
       "      <td>广州工厂</td>\n",
       "      <td>1</td>\n",
       "      <td>苹果汁</td>\n",
       "      <td>41000.0</td>\n",
       "      <td>产量</td>\n",
       "    </tr>\n",
       "    <tr>\n",
       "      <th>4</th>\n",
       "      <td>广州工厂</td>\n",
       "      <td>3</td>\n",
       "      <td>苹果汁</td>\n",
       "      <td>25000.0</td>\n",
       "      <td>产量</td>\n",
       "    </tr>\n",
       "    <tr>\n",
       "      <th>5</th>\n",
       "      <td>沈阳客户</td>\n",
       "      <td>1</td>\n",
       "      <td>橙汁</td>\n",
       "      <td>10000.0</td>\n",
       "      <td>需求量</td>\n",
       "    </tr>\n",
       "    <tr>\n",
       "      <th>6</th>\n",
       "      <td>沈阳客户</td>\n",
       "      <td>2</td>\n",
       "      <td>橙汁</td>\n",
       "      <td>12000.0</td>\n",
       "      <td>需求量</td>\n",
       "    </tr>\n",
       "    <tr>\n",
       "      <th>7</th>\n",
       "      <td>沈阳客户</td>\n",
       "      <td>3</td>\n",
       "      <td>橙汁</td>\n",
       "      <td>8000.0</td>\n",
       "      <td>需求量</td>\n",
       "    </tr>\n",
       "    <tr>\n",
       "      <th>8</th>\n",
       "      <td>沈阳客户</td>\n",
       "      <td>1</td>\n",
       "      <td>苹果汁</td>\n",
       "      <td>5000.0</td>\n",
       "      <td>需求量</td>\n",
       "    </tr>\n",
       "    <tr>\n",
       "      <th>9</th>\n",
       "      <td>沈阳客户</td>\n",
       "      <td>2</td>\n",
       "      <td>苹果汁</td>\n",
       "      <td>6000.0</td>\n",
       "      <td>需求量</td>\n",
       "    </tr>\n",
       "    <tr>\n",
       "      <th>10</th>\n",
       "      <td>沈阳客户</td>\n",
       "      <td>3</td>\n",
       "      <td>苹果汁</td>\n",
       "      <td>7000.0</td>\n",
       "      <td>需求量</td>\n",
       "    </tr>\n",
       "    <tr>\n",
       "      <th>11</th>\n",
       "      <td>深圳客户</td>\n",
       "      <td>1</td>\n",
       "      <td>橙汁</td>\n",
       "      <td>15000.0</td>\n",
       "      <td>需求量</td>\n",
       "    </tr>\n",
       "    <tr>\n",
       "      <th>12</th>\n",
       "      <td>深圳客户</td>\n",
       "      <td>2</td>\n",
       "      <td>橙汁</td>\n",
       "      <td>18000.0</td>\n",
       "      <td>需求量</td>\n",
       "    </tr>\n",
       "    <tr>\n",
       "      <th>13</th>\n",
       "      <td>深圳客户</td>\n",
       "      <td>3</td>\n",
       "      <td>橙汁</td>\n",
       "      <td>16000.0</td>\n",
       "      <td>需求量</td>\n",
       "    </tr>\n",
       "    <tr>\n",
       "      <th>14</th>\n",
       "      <td>深圳客户</td>\n",
       "      <td>1</td>\n",
       "      <td>苹果汁</td>\n",
       "      <td>8000.0</td>\n",
       "      <td>需求量</td>\n",
       "    </tr>\n",
       "    <tr>\n",
       "      <th>15</th>\n",
       "      <td>深圳客户</td>\n",
       "      <td>2</td>\n",
       "      <td>苹果汁</td>\n",
       "      <td>9000.0</td>\n",
       "      <td>需求量</td>\n",
       "    </tr>\n",
       "    <tr>\n",
       "      <th>16</th>\n",
       "      <td>深圳客户</td>\n",
       "      <td>3</td>\n",
       "      <td>苹果汁</td>\n",
       "      <td>10000.0</td>\n",
       "      <td>需求量</td>\n",
       "    </tr>\n",
       "    <tr>\n",
       "      <th>17</th>\n",
       "      <td>成都客户</td>\n",
       "      <td>1</td>\n",
       "      <td>橙汁</td>\n",
       "      <td>12000.0</td>\n",
       "      <td>需求量</td>\n",
       "    </tr>\n",
       "    <tr>\n",
       "      <th>18</th>\n",
       "      <td>成都客户</td>\n",
       "      <td>2</td>\n",
       "      <td>橙汁</td>\n",
       "      <td>10000.0</td>\n",
       "      <td>需求量</td>\n",
       "    </tr>\n",
       "    <tr>\n",
       "      <th>19</th>\n",
       "      <td>成都客户</td>\n",
       "      <td>3</td>\n",
       "      <td>橙汁</td>\n",
       "      <td>14000.0</td>\n",
       "      <td>需求量</td>\n",
       "    </tr>\n",
       "    <tr>\n",
       "      <th>20</th>\n",
       "      <td>成都客户</td>\n",
       "      <td>1</td>\n",
       "      <td>苹果汁</td>\n",
       "      <td>7000.0</td>\n",
       "      <td>需求量</td>\n",
       "    </tr>\n",
       "    <tr>\n",
       "      <th>21</th>\n",
       "      <td>成都客户</td>\n",
       "      <td>2</td>\n",
       "      <td>苹果汁</td>\n",
       "      <td>6000.0</td>\n",
       "      <td>需求量</td>\n",
       "    </tr>\n",
       "    <tr>\n",
       "      <th>22</th>\n",
       "      <td>成都客户</td>\n",
       "      <td>3</td>\n",
       "      <td>苹果汁</td>\n",
       "      <td>8000.0</td>\n",
       "      <td>需求量</td>\n",
       "    </tr>\n",
       "  </tbody>\n",
       "</table>\n",
       "</div>"
      ],
      "text/plain": [
       "      地点  周期（旬）   产品       数量   类型\n",
       "0   北京工厂      1   橙汁  30000.0   产量\n",
       "1   广州工厂      1   橙汁  55000.0   产量\n",
       "2   广州工厂      3   橙汁  30000.0   产量\n",
       "3   广州工厂      1  苹果汁  41000.0   产量\n",
       "4   广州工厂      3  苹果汁  25000.0   产量\n",
       "5   沈阳客户      1   橙汁  10000.0  需求量\n",
       "6   沈阳客户      2   橙汁  12000.0  需求量\n",
       "7   沈阳客户      3   橙汁   8000.0  需求量\n",
       "8   沈阳客户      1  苹果汁   5000.0  需求量\n",
       "9   沈阳客户      2  苹果汁   6000.0  需求量\n",
       "10  沈阳客户      3  苹果汁   7000.0  需求量\n",
       "11  深圳客户      1   橙汁  15000.0  需求量\n",
       "12  深圳客户      2   橙汁  18000.0  需求量\n",
       "13  深圳客户      3   橙汁  16000.0  需求量\n",
       "14  深圳客户      1  苹果汁   8000.0  需求量\n",
       "15  深圳客户      2  苹果汁   9000.0  需求量\n",
       "16  深圳客户      3  苹果汁  10000.0  需求量\n",
       "17  成都客户      1   橙汁  12000.0  需求量\n",
       "18  成都客户      2   橙汁  10000.0  需求量\n",
       "19  成都客户      3   橙汁  14000.0  需求量\n",
       "20  成都客户      1  苹果汁   7000.0  需求量\n",
       "21  成都客户      2  苹果汁   6000.0  需求量\n",
       "22  成都客户      3  苹果汁   8000.0  需求量"
      ]
     },
     "metadata": {},
     "output_type": "display_data"
    },
    {
     "data": {
      "application/vnd.plotly.v1+json": {
       "config": {
        "plotlyServerURL": "https://plot.ly"
       },
       "data": [
        {
         "alignmentgroup": "True",
         "hovertemplate": "产品=橙汁<br>地点=北京工厂<br>周期（旬）=%{x}<br>数量 (件)=%{y}<extra></extra>",
         "legendgroup": "橙汁",
         "marker": {
          "color": "#636efa",
          "pattern": {
           "shape": ""
          }
         },
         "name": "橙汁",
         "offsetgroup": "橙汁",
         "orientation": "v",
         "showlegend": true,
         "textposition": "auto",
         "type": "bar",
         "x": {
          "bdata": "AQ==",
          "dtype": "i1"
         },
         "xaxis": "x",
         "y": {
          "bdata": "AAAAAABM3UA=",
          "dtype": "f8"
         },
         "yaxis": "y"
        },
        {
         "alignmentgroup": "True",
         "hovertemplate": "产品=橙汁<br>地点=广州工厂<br>周期（旬）=%{x}<br>数量 (件)=%{y}<extra></extra>",
         "legendgroup": "橙汁",
         "marker": {
          "color": "#636efa",
          "pattern": {
           "shape": ""
          }
         },
         "name": "橙汁",
         "offsetgroup": "橙汁",
         "orientation": "v",
         "showlegend": false,
         "textposition": "auto",
         "type": "bar",
         "x": {
          "bdata": "AQM=",
          "dtype": "i1"
         },
         "xaxis": "x2",
         "y": {
          "bdata": "AAAAAADb6kAAAAAAAEzdQA==",
          "dtype": "f8"
         },
         "yaxis": "y2"
        },
        {
         "alignmentgroup": "True",
         "hovertemplate": "产品=橙汁<br>地点=沈阳客户<br>周期（旬）=%{x}<br>数量 (件)=%{y}<extra></extra>",
         "legendgroup": "橙汁",
         "marker": {
          "color": "#636efa",
          "pattern": {
           "shape": ""
          }
         },
         "name": "橙汁",
         "offsetgroup": "橙汁",
         "orientation": "v",
         "showlegend": false,
         "textposition": "auto",
         "type": "bar",
         "x": {
          "bdata": "AQID",
          "dtype": "i1"
         },
         "xaxis": "x3",
         "y": {
          "bdata": "AAAAAACIw0AAAAAAAHDHQAAAAAAAQL9A",
          "dtype": "f8"
         },
         "yaxis": "y3"
        },
        {
         "alignmentgroup": "True",
         "hovertemplate": "产品=橙汁<br>地点=深圳客户<br>周期（旬）=%{x}<br>数量 (件)=%{y}<extra></extra>",
         "legendgroup": "橙汁",
         "marker": {
          "color": "#636efa",
          "pattern": {
           "shape": ""
          }
         },
         "name": "橙汁",
         "offsetgroup": "橙汁",
         "orientation": "v",
         "showlegend": false,
         "textposition": "auto",
         "type": "bar",
         "x": {
          "bdata": "AQID",
          "dtype": "i1"
         },
         "xaxis": "x4",
         "y": {
          "bdata": "AAAAAABMzUAAAAAAAJTRQAAAAAAAQM9A",
          "dtype": "f8"
         },
         "yaxis": "y4"
        },
        {
         "alignmentgroup": "True",
         "hovertemplate": "产品=橙汁<br>地点=成都客户<br>周期（旬）=%{x}<br>数量 (件)=%{y}<extra></extra>",
         "legendgroup": "橙汁",
         "marker": {
          "color": "#636efa",
          "pattern": {
           "shape": ""
          }
         },
         "name": "橙汁",
         "offsetgroup": "橙汁",
         "orientation": "v",
         "showlegend": false,
         "textposition": "auto",
         "type": "bar",
         "x": {
          "bdata": "AQID",
          "dtype": "i1"
         },
         "xaxis": "x5",
         "y": {
          "bdata": "AAAAAABwx0AAAAAAAIjDQAAAAAAAWMtA",
          "dtype": "f8"
         },
         "yaxis": "y5"
        },
        {
         "alignmentgroup": "True",
         "hovertemplate": "产品=苹果汁<br>地点=广州工厂<br>周期（旬）=%{x}<br>数量 (件)=%{y}<extra></extra>",
         "legendgroup": "苹果汁",
         "marker": {
          "color": "#EF553B",
          "pattern": {
           "shape": ""
          }
         },
         "name": "苹果汁",
         "offsetgroup": "苹果汁",
         "orientation": "v",
         "showlegend": true,
         "textposition": "auto",
         "type": "bar",
         "x": {
          "bdata": "AQM=",
          "dtype": "i1"
         },
         "xaxis": "x2",
         "y": {
          "bdata": "AAAAAAAF5EAAAAAAAGrYQA==",
          "dtype": "f8"
         },
         "yaxis": "y2"
        },
        {
         "alignmentgroup": "True",
         "hovertemplate": "产品=苹果汁<br>地点=沈阳客户<br>周期（旬）=%{x}<br>数量 (件)=%{y}<extra></extra>",
         "legendgroup": "苹果汁",
         "marker": {
          "color": "#EF553B",
          "pattern": {
           "shape": ""
          }
         },
         "name": "苹果汁",
         "offsetgroup": "苹果汁",
         "orientation": "v",
         "showlegend": false,
         "textposition": "auto",
         "type": "bar",
         "x": {
          "bdata": "AQID",
          "dtype": "i1"
         },
         "xaxis": "x3",
         "y": {
          "bdata": "AAAAAACIs0AAAAAAAHC3QAAAAAAAWLtA",
          "dtype": "f8"
         },
         "yaxis": "y3"
        },
        {
         "alignmentgroup": "True",
         "hovertemplate": "产品=苹果汁<br>地点=深圳客户<br>周期（旬）=%{x}<br>数量 (件)=%{y}<extra></extra>",
         "legendgroup": "苹果汁",
         "marker": {
          "color": "#EF553B",
          "pattern": {
           "shape": ""
          }
         },
         "name": "苹果汁",
         "offsetgroup": "苹果汁",
         "orientation": "v",
         "showlegend": false,
         "textposition": "auto",
         "type": "bar",
         "x": {
          "bdata": "AQID",
          "dtype": "i1"
         },
         "xaxis": "x4",
         "y": {
          "bdata": "AAAAAABAv0AAAAAAAJTBQAAAAAAAiMNA",
          "dtype": "f8"
         },
         "yaxis": "y4"
        },
        {
         "alignmentgroup": "True",
         "hovertemplate": "产品=苹果汁<br>地点=成都客户<br>周期（旬）=%{x}<br>数量 (件)=%{y}<extra></extra>",
         "legendgroup": "苹果汁",
         "marker": {
          "color": "#EF553B",
          "pattern": {
           "shape": ""
          }
         },
         "name": "苹果汁",
         "offsetgroup": "苹果汁",
         "orientation": "v",
         "showlegend": false,
         "textposition": "auto",
         "type": "bar",
         "x": {
          "bdata": "AQID",
          "dtype": "i1"
         },
         "xaxis": "x5",
         "y": {
          "bdata": "AAAAAABYu0AAAAAAAHC3QAAAAAAAQL9A",
          "dtype": "f8"
         },
         "yaxis": "y5"
        }
       ],
       "layout": {
        "annotations": [
         {
          "font": {},
          "showarrow": false,
          "text": "地点=北京工厂",
          "x": 0.09200000000000001,
          "xanchor": "center",
          "xref": "paper",
          "y": 1,
          "yanchor": "bottom",
          "yref": "paper"
         },
         {
          "font": {},
          "showarrow": false,
          "text": "地点=广州工厂",
          "x": 0.29600000000000004,
          "xanchor": "center",
          "xref": "paper",
          "y": 1,
          "yanchor": "bottom",
          "yref": "paper"
         },
         {
          "font": {},
          "showarrow": false,
          "text": "地点=沈阳客户",
          "x": 0.5,
          "xanchor": "center",
          "xref": "paper",
          "y": 1,
          "yanchor": "bottom",
          "yref": "paper"
         },
         {
          "font": {},
          "showarrow": false,
          "text": "地点=深圳客户",
          "x": 0.7040000000000002,
          "xanchor": "center",
          "xref": "paper",
          "y": 1,
          "yanchor": "bottom",
          "yref": "paper"
         },
         {
          "font": {},
          "showarrow": false,
          "text": "地点=成都客户",
          "x": 0.908,
          "xanchor": "center",
          "xref": "paper",
          "y": 1,
          "yanchor": "bottom",
          "yref": "paper"
         }
        ],
        "barmode": "group",
        "height": 400,
        "legend": {
         "orientation": "h",
         "title": {
          "text": "产品"
         },
         "tracegroupgap": 0,
         "x": 1,
         "xanchor": "right",
         "y": 1.02,
         "yanchor": "bottom"
        },
        "template": {
         "data": {
          "bar": [
           {
            "error_x": {
             "color": "#2a3f5f"
            },
            "error_y": {
             "color": "#2a3f5f"
            },
            "marker": {
             "line": {
              "color": "#E5ECF6",
              "width": 0.5
             },
             "pattern": {
              "fillmode": "overlay",
              "size": 10,
              "solidity": 0.2
             }
            },
            "type": "bar"
           }
          ],
          "barpolar": [
           {
            "marker": {
             "line": {
              "color": "#E5ECF6",
              "width": 0.5
             },
             "pattern": {
              "fillmode": "overlay",
              "size": 10,
              "solidity": 0.2
             }
            },
            "type": "barpolar"
           }
          ],
          "carpet": [
           {
            "aaxis": {
             "endlinecolor": "#2a3f5f",
             "gridcolor": "white",
             "linecolor": "white",
             "minorgridcolor": "white",
             "startlinecolor": "#2a3f5f"
            },
            "baxis": {
             "endlinecolor": "#2a3f5f",
             "gridcolor": "white",
             "linecolor": "white",
             "minorgridcolor": "white",
             "startlinecolor": "#2a3f5f"
            },
            "type": "carpet"
           }
          ],
          "choropleth": [
           {
            "colorbar": {
             "outlinewidth": 0,
             "ticks": ""
            },
            "type": "choropleth"
           }
          ],
          "contour": [
           {
            "colorbar": {
             "outlinewidth": 0,
             "ticks": ""
            },
            "colorscale": [
             [
              0,
              "#0d0887"
             ],
             [
              0.1111111111111111,
              "#46039f"
             ],
             [
              0.2222222222222222,
              "#7201a8"
             ],
             [
              0.3333333333333333,
              "#9c179e"
             ],
             [
              0.4444444444444444,
              "#bd3786"
             ],
             [
              0.5555555555555556,
              "#d8576b"
             ],
             [
              0.6666666666666666,
              "#ed7953"
             ],
             [
              0.7777777777777778,
              "#fb9f3a"
             ],
             [
              0.8888888888888888,
              "#fdca26"
             ],
             [
              1,
              "#f0f921"
             ]
            ],
            "type": "contour"
           }
          ],
          "contourcarpet": [
           {
            "colorbar": {
             "outlinewidth": 0,
             "ticks": ""
            },
            "type": "contourcarpet"
           }
          ],
          "heatmap": [
           {
            "colorbar": {
             "outlinewidth": 0,
             "ticks": ""
            },
            "colorscale": [
             [
              0,
              "#0d0887"
             ],
             [
              0.1111111111111111,
              "#46039f"
             ],
             [
              0.2222222222222222,
              "#7201a8"
             ],
             [
              0.3333333333333333,
              "#9c179e"
             ],
             [
              0.4444444444444444,
              "#bd3786"
             ],
             [
              0.5555555555555556,
              "#d8576b"
             ],
             [
              0.6666666666666666,
              "#ed7953"
             ],
             [
              0.7777777777777778,
              "#fb9f3a"
             ],
             [
              0.8888888888888888,
              "#fdca26"
             ],
             [
              1,
              "#f0f921"
             ]
            ],
            "type": "heatmap"
           }
          ],
          "histogram": [
           {
            "marker": {
             "pattern": {
              "fillmode": "overlay",
              "size": 10,
              "solidity": 0.2
             }
            },
            "type": "histogram"
           }
          ],
          "histogram2d": [
           {
            "colorbar": {
             "outlinewidth": 0,
             "ticks": ""
            },
            "colorscale": [
             [
              0,
              "#0d0887"
             ],
             [
              0.1111111111111111,
              "#46039f"
             ],
             [
              0.2222222222222222,
              "#7201a8"
             ],
             [
              0.3333333333333333,
              "#9c179e"
             ],
             [
              0.4444444444444444,
              "#bd3786"
             ],
             [
              0.5555555555555556,
              "#d8576b"
             ],
             [
              0.6666666666666666,
              "#ed7953"
             ],
             [
              0.7777777777777778,
              "#fb9f3a"
             ],
             [
              0.8888888888888888,
              "#fdca26"
             ],
             [
              1,
              "#f0f921"
             ]
            ],
            "type": "histogram2d"
           }
          ],
          "histogram2dcontour": [
           {
            "colorbar": {
             "outlinewidth": 0,
             "ticks": ""
            },
            "colorscale": [
             [
              0,
              "#0d0887"
             ],
             [
              0.1111111111111111,
              "#46039f"
             ],
             [
              0.2222222222222222,
              "#7201a8"
             ],
             [
              0.3333333333333333,
              "#9c179e"
             ],
             [
              0.4444444444444444,
              "#bd3786"
             ],
             [
              0.5555555555555556,
              "#d8576b"
             ],
             [
              0.6666666666666666,
              "#ed7953"
             ],
             [
              0.7777777777777778,
              "#fb9f3a"
             ],
             [
              0.8888888888888888,
              "#fdca26"
             ],
             [
              1,
              "#f0f921"
             ]
            ],
            "type": "histogram2dcontour"
           }
          ],
          "mesh3d": [
           {
            "colorbar": {
             "outlinewidth": 0,
             "ticks": ""
            },
            "type": "mesh3d"
           }
          ],
          "parcoords": [
           {
            "line": {
             "colorbar": {
              "outlinewidth": 0,
              "ticks": ""
             }
            },
            "type": "parcoords"
           }
          ],
          "pie": [
           {
            "automargin": true,
            "type": "pie"
           }
          ],
          "scatter": [
           {
            "fillpattern": {
             "fillmode": "overlay",
             "size": 10,
             "solidity": 0.2
            },
            "type": "scatter"
           }
          ],
          "scatter3d": [
           {
            "line": {
             "colorbar": {
              "outlinewidth": 0,
              "ticks": ""
             }
            },
            "marker": {
             "colorbar": {
              "outlinewidth": 0,
              "ticks": ""
             }
            },
            "type": "scatter3d"
           }
          ],
          "scattercarpet": [
           {
            "marker": {
             "colorbar": {
              "outlinewidth": 0,
              "ticks": ""
             }
            },
            "type": "scattercarpet"
           }
          ],
          "scattergeo": [
           {
            "marker": {
             "colorbar": {
              "outlinewidth": 0,
              "ticks": ""
             }
            },
            "type": "scattergeo"
           }
          ],
          "scattergl": [
           {
            "marker": {
             "colorbar": {
              "outlinewidth": 0,
              "ticks": ""
             }
            },
            "type": "scattergl"
           }
          ],
          "scattermap": [
           {
            "marker": {
             "colorbar": {
              "outlinewidth": 0,
              "ticks": ""
             }
            },
            "type": "scattermap"
           }
          ],
          "scattermapbox": [
           {
            "marker": {
             "colorbar": {
              "outlinewidth": 0,
              "ticks": ""
             }
            },
            "type": "scattermapbox"
           }
          ],
          "scatterpolar": [
           {
            "marker": {
             "colorbar": {
              "outlinewidth": 0,
              "ticks": ""
             }
            },
            "type": "scatterpolar"
           }
          ],
          "scatterpolargl": [
           {
            "marker": {
             "colorbar": {
              "outlinewidth": 0,
              "ticks": ""
             }
            },
            "type": "scatterpolargl"
           }
          ],
          "scatterternary": [
           {
            "marker": {
             "colorbar": {
              "outlinewidth": 0,
              "ticks": ""
             }
            },
            "type": "scatterternary"
           }
          ],
          "surface": [
           {
            "colorbar": {
             "outlinewidth": 0,
             "ticks": ""
            },
            "colorscale": [
             [
              0,
              "#0d0887"
             ],
             [
              0.1111111111111111,
              "#46039f"
             ],
             [
              0.2222222222222222,
              "#7201a8"
             ],
             [
              0.3333333333333333,
              "#9c179e"
             ],
             [
              0.4444444444444444,
              "#bd3786"
             ],
             [
              0.5555555555555556,
              "#d8576b"
             ],
             [
              0.6666666666666666,
              "#ed7953"
             ],
             [
              0.7777777777777778,
              "#fb9f3a"
             ],
             [
              0.8888888888888888,
              "#fdca26"
             ],
             [
              1,
              "#f0f921"
             ]
            ],
            "type": "surface"
           }
          ],
          "table": [
           {
            "cells": {
             "fill": {
              "color": "#EBF0F8"
             },
             "line": {
              "color": "white"
             }
            },
            "header": {
             "fill": {
              "color": "#C8D4E3"
             },
             "line": {
              "color": "white"
             }
            },
            "type": "table"
           }
          ]
         },
         "layout": {
          "annotationdefaults": {
           "arrowcolor": "#2a3f5f",
           "arrowhead": 0,
           "arrowwidth": 1
          },
          "autotypenumbers": "strict",
          "coloraxis": {
           "colorbar": {
            "outlinewidth": 0,
            "ticks": ""
           }
          },
          "colorscale": {
           "diverging": [
            [
             0,
             "#8e0152"
            ],
            [
             0.1,
             "#c51b7d"
            ],
            [
             0.2,
             "#de77ae"
            ],
            [
             0.3,
             "#f1b6da"
            ],
            [
             0.4,
             "#fde0ef"
            ],
            [
             0.5,
             "#f7f7f7"
            ],
            [
             0.6,
             "#e6f5d0"
            ],
            [
             0.7,
             "#b8e186"
            ],
            [
             0.8,
             "#7fbc41"
            ],
            [
             0.9,
             "#4d9221"
            ],
            [
             1,
             "#276419"
            ]
           ],
           "sequential": [
            [
             0,
             "#0d0887"
            ],
            [
             0.1111111111111111,
             "#46039f"
            ],
            [
             0.2222222222222222,
             "#7201a8"
            ],
            [
             0.3333333333333333,
             "#9c179e"
            ],
            [
             0.4444444444444444,
             "#bd3786"
            ],
            [
             0.5555555555555556,
             "#d8576b"
            ],
            [
             0.6666666666666666,
             "#ed7953"
            ],
            [
             0.7777777777777778,
             "#fb9f3a"
            ],
            [
             0.8888888888888888,
             "#fdca26"
            ],
            [
             1,
             "#f0f921"
            ]
           ],
           "sequentialminus": [
            [
             0,
             "#0d0887"
            ],
            [
             0.1111111111111111,
             "#46039f"
            ],
            [
             0.2222222222222222,
             "#7201a8"
            ],
            [
             0.3333333333333333,
             "#9c179e"
            ],
            [
             0.4444444444444444,
             "#bd3786"
            ],
            [
             0.5555555555555556,
             "#d8576b"
            ],
            [
             0.6666666666666666,
             "#ed7953"
            ],
            [
             0.7777777777777778,
             "#fb9f3a"
            ],
            [
             0.8888888888888888,
             "#fdca26"
            ],
            [
             1,
             "#f0f921"
            ]
           ]
          },
          "colorway": [
           "#636efa",
           "#EF553B",
           "#00cc96",
           "#ab63fa",
           "#FFA15A",
           "#19d3f3",
           "#FF6692",
           "#B6E880",
           "#FF97FF",
           "#FECB52"
          ],
          "font": {
           "color": "#2a3f5f"
          },
          "geo": {
           "bgcolor": "white",
           "lakecolor": "white",
           "landcolor": "#E5ECF6",
           "showlakes": true,
           "showland": true,
           "subunitcolor": "white"
          },
          "hoverlabel": {
           "align": "left"
          },
          "hovermode": "closest",
          "mapbox": {
           "style": "light"
          },
          "paper_bgcolor": "white",
          "plot_bgcolor": "#E5ECF6",
          "polar": {
           "angularaxis": {
            "gridcolor": "white",
            "linecolor": "white",
            "ticks": ""
           },
           "bgcolor": "#E5ECF6",
           "radialaxis": {
            "gridcolor": "white",
            "linecolor": "white",
            "ticks": ""
           }
          },
          "scene": {
           "xaxis": {
            "backgroundcolor": "#E5ECF6",
            "gridcolor": "white",
            "gridwidth": 2,
            "linecolor": "white",
            "showbackground": true,
            "ticks": "",
            "zerolinecolor": "white"
           },
           "yaxis": {
            "backgroundcolor": "#E5ECF6",
            "gridcolor": "white",
            "gridwidth": 2,
            "linecolor": "white",
            "showbackground": true,
            "ticks": "",
            "zerolinecolor": "white"
           },
           "zaxis": {
            "backgroundcolor": "#E5ECF6",
            "gridcolor": "white",
            "gridwidth": 2,
            "linecolor": "white",
            "showbackground": true,
            "ticks": "",
            "zerolinecolor": "white"
           }
          },
          "shapedefaults": {
           "line": {
            "color": "#2a3f5f"
           }
          },
          "ternary": {
           "aaxis": {
            "gridcolor": "white",
            "linecolor": "white",
            "ticks": ""
           },
           "baxis": {
            "gridcolor": "white",
            "linecolor": "white",
            "ticks": ""
           },
           "bgcolor": "#E5ECF6",
           "caxis": {
            "gridcolor": "white",
            "linecolor": "white",
            "ticks": ""
           }
          },
          "title": {
           "x": 0.05
          },
          "xaxis": {
           "automargin": true,
           "gridcolor": "white",
           "linecolor": "white",
           "ticks": "",
           "title": {
            "standoff": 15
           },
           "zerolinecolor": "white",
           "zerolinewidth": 2
          },
          "yaxis": {
           "automargin": true,
           "gridcolor": "white",
           "linecolor": "white",
           "ticks": "",
           "title": {
            "standoff": 15
           },
           "zerolinecolor": "white",
           "zerolinewidth": 2
          }
         }
        },
        "title": {
         "text": "细化到产品的产量 vs 需求量"
        },
        "xaxis": {
         "anchor": "y",
         "domain": [
          0,
          0.18400000000000002
         ],
         "title": {
          "text": "周期（旬）"
         }
        },
        "xaxis2": {
         "anchor": "y2",
         "domain": [
          0.20400000000000001,
          0.388
         ],
         "matches": "x",
         "title": {
          "text": "周期（旬）"
         }
        },
        "xaxis3": {
         "anchor": "y3",
         "domain": [
          0.40800000000000003,
          0.5920000000000001
         ],
         "matches": "x",
         "title": {
          "text": "周期（旬）"
         }
        },
        "xaxis4": {
         "anchor": "y4",
         "domain": [
          0.6120000000000001,
          0.7960000000000002
         ],
         "matches": "x",
         "title": {
          "text": "周期（旬）"
         }
        },
        "xaxis5": {
         "anchor": "y5",
         "domain": [
          0.8160000000000001,
          1
         ],
         "matches": "x",
         "title": {
          "text": "周期（旬）"
         }
        },
        "yaxis": {
         "anchor": "x",
         "domain": [
          0,
          1
         ],
         "title": {
          "text": "数量 (件)"
         }
        },
        "yaxis2": {
         "anchor": "x2",
         "domain": [
          0,
          1
         ],
         "matches": "y",
         "showticklabels": false
        },
        "yaxis3": {
         "anchor": "x3",
         "domain": [
          0,
          1
         ],
         "matches": "y",
         "showticklabels": false
        },
        "yaxis4": {
         "anchor": "x4",
         "domain": [
          0,
          1
         ],
         "matches": "y",
         "showticklabels": false
        },
        "yaxis5": {
         "anchor": "x5",
         "domain": [
          0,
          1
         ],
         "matches": "y",
         "showticklabels": false
        }
       }
      }
     },
     "metadata": {},
     "output_type": "display_data"
    },
    {
     "data": {
      "application/vnd.plotly.v1+json": {
       "config": {
        "plotlyServerURL": "https://plot.ly"
       },
       "data": [
        {
         "alignmentgroup": "True",
         "hovertemplate": "类型=产量<br>产品=橙汁<br>地点=北京工厂<br>周期（旬）=%{x}<br>数量 (件)=%{y}<extra></extra>",
         "legendgroup": "产量",
         "marker": {
          "color": "#636efa",
          "pattern": {
           "shape": ""
          }
         },
         "name": "产量",
         "offsetgroup": "产量",
         "orientation": "v",
         "showlegend": true,
         "textposition": "auto",
         "type": "bar",
         "x": {
          "bdata": "AQ==",
          "dtype": "i1"
         },
         "xaxis": "x6",
         "y": {
          "bdata": "AAAAAABM3UA=",
          "dtype": "f8"
         },
         "yaxis": "y6"
        },
        {
         "alignmentgroup": "True",
         "hovertemplate": "类型=产量<br>产品=橙汁<br>地点=广州工厂<br>周期（旬）=%{x}<br>数量 (件)=%{y}<extra></extra>",
         "legendgroup": "产量",
         "marker": {
          "color": "#636efa",
          "pattern": {
           "shape": ""
          }
         },
         "name": "产量",
         "offsetgroup": "产量",
         "orientation": "v",
         "showlegend": false,
         "textposition": "auto",
         "type": "bar",
         "x": {
          "bdata": "AQM=",
          "dtype": "i1"
         },
         "xaxis": "x7",
         "y": {
          "bdata": "AAAAAADb6kAAAAAAAEzdQA==",
          "dtype": "f8"
         },
         "yaxis": "y7"
        },
        {
         "alignmentgroup": "True",
         "hovertemplate": "类型=产量<br>产品=苹果汁<br>地点=广州工厂<br>周期（旬）=%{x}<br>数量 (件)=%{y}<extra></extra>",
         "legendgroup": "产量",
         "marker": {
          "color": "#636efa",
          "pattern": {
           "shape": ""
          }
         },
         "name": "产量",
         "offsetgroup": "产量",
         "orientation": "v",
         "showlegend": false,
         "textposition": "auto",
         "type": "bar",
         "x": {
          "bdata": "AQM=",
          "dtype": "i1"
         },
         "xaxis": "x2",
         "y": {
          "bdata": "AAAAAAAF5EAAAAAAAGrYQA==",
          "dtype": "f8"
         },
         "yaxis": "y2"
        },
        {
         "alignmentgroup": "True",
         "hovertemplate": "类型=需求量<br>产品=橙汁<br>地点=沈阳客户<br>周期（旬）=%{x}<br>数量 (件)=%{y}<extra></extra>",
         "legendgroup": "需求量",
         "marker": {
          "color": "#EF553B",
          "pattern": {
           "shape": ""
          }
         },
         "name": "需求量",
         "offsetgroup": "需求量",
         "orientation": "v",
         "showlegend": true,
         "textposition": "auto",
         "type": "bar",
         "x": {
          "bdata": "AQID",
          "dtype": "i1"
         },
         "xaxis": "x8",
         "y": {
          "bdata": "AAAAAACIw0AAAAAAAHDHQAAAAAAAQL9A",
          "dtype": "f8"
         },
         "yaxis": "y8"
        },
        {
         "alignmentgroup": "True",
         "hovertemplate": "类型=需求量<br>产品=橙汁<br>地点=深圳客户<br>周期（旬）=%{x}<br>数量 (件)=%{y}<extra></extra>",
         "legendgroup": "需求量",
         "marker": {
          "color": "#EF553B",
          "pattern": {
           "shape": ""
          }
         },
         "name": "需求量",
         "offsetgroup": "需求量",
         "orientation": "v",
         "showlegend": false,
         "textposition": "auto",
         "type": "bar",
         "x": {
          "bdata": "AQID",
          "dtype": "i1"
         },
         "xaxis": "x9",
         "y": {
          "bdata": "AAAAAABMzUAAAAAAAJTRQAAAAAAAQM9A",
          "dtype": "f8"
         },
         "yaxis": "y9"
        },
        {
         "alignmentgroup": "True",
         "hovertemplate": "类型=需求量<br>产品=橙汁<br>地点=成都客户<br>周期（旬）=%{x}<br>数量 (件)=%{y}<extra></extra>",
         "legendgroup": "需求量",
         "marker": {
          "color": "#EF553B",
          "pattern": {
           "shape": ""
          }
         },
         "name": "需求量",
         "offsetgroup": "需求量",
         "orientation": "v",
         "showlegend": false,
         "textposition": "auto",
         "type": "bar",
         "x": {
          "bdata": "AQID",
          "dtype": "i1"
         },
         "xaxis": "x10",
         "y": {
          "bdata": "AAAAAABwx0AAAAAAAIjDQAAAAAAAWMtA",
          "dtype": "f8"
         },
         "yaxis": "y10"
        },
        {
         "alignmentgroup": "True",
         "hovertemplate": "类型=需求量<br>产品=苹果汁<br>地点=沈阳客户<br>周期（旬）=%{x}<br>数量 (件)=%{y}<extra></extra>",
         "legendgroup": "需求量",
         "marker": {
          "color": "#EF553B",
          "pattern": {
           "shape": ""
          }
         },
         "name": "需求量",
         "offsetgroup": "需求量",
         "orientation": "v",
         "showlegend": false,
         "textposition": "auto",
         "type": "bar",
         "x": {
          "bdata": "AQID",
          "dtype": "i1"
         },
         "xaxis": "x3",
         "y": {
          "bdata": "AAAAAACIs0AAAAAAAHC3QAAAAAAAWLtA",
          "dtype": "f8"
         },
         "yaxis": "y3"
        },
        {
         "alignmentgroup": "True",
         "hovertemplate": "类型=需求量<br>产品=苹果汁<br>地点=深圳客户<br>周期（旬）=%{x}<br>数量 (件)=%{y}<extra></extra>",
         "legendgroup": "需求量",
         "marker": {
          "color": "#EF553B",
          "pattern": {
           "shape": ""
          }
         },
         "name": "需求量",
         "offsetgroup": "需求量",
         "orientation": "v",
         "showlegend": false,
         "textposition": "auto",
         "type": "bar",
         "x": {
          "bdata": "AQID",
          "dtype": "i1"
         },
         "xaxis": "x4",
         "y": {
          "bdata": "AAAAAABAv0AAAAAAAJTBQAAAAAAAiMNA",
          "dtype": "f8"
         },
         "yaxis": "y4"
        },
        {
         "alignmentgroup": "True",
         "hovertemplate": "类型=需求量<br>产品=苹果汁<br>地点=成都客户<br>周期（旬）=%{x}<br>数量 (件)=%{y}<extra></extra>",
         "legendgroup": "需求量",
         "marker": {
          "color": "#EF553B",
          "pattern": {
           "shape": ""
          }
         },
         "name": "需求量",
         "offsetgroup": "需求量",
         "orientation": "v",
         "showlegend": false,
         "textposition": "auto",
         "type": "bar",
         "x": {
          "bdata": "AQID",
          "dtype": "i1"
         },
         "xaxis": "x5",
         "y": {
          "bdata": "AAAAAABYu0AAAAAAAHC3QAAAAAAAQL9A",
          "dtype": "f8"
         },
         "yaxis": "y5"
        }
       ],
       "layout": {
        "annotations": [
         {
          "font": {},
          "showarrow": false,
          "text": "地点=北京工厂",
          "x": 0.09000000000000001,
          "xanchor": "center",
          "xref": "paper",
          "y": 1,
          "yanchor": "bottom",
          "yref": "paper"
         },
         {
          "font": {},
          "showarrow": false,
          "text": "地点=广州工厂",
          "x": 0.29000000000000004,
          "xanchor": "center",
          "xref": "paper",
          "y": 1,
          "yanchor": "bottom",
          "yref": "paper"
         },
         {
          "font": {},
          "showarrow": false,
          "text": "地点=沈阳客户",
          "x": 0.49000000000000005,
          "xanchor": "center",
          "xref": "paper",
          "y": 1,
          "yanchor": "bottom",
          "yref": "paper"
         },
         {
          "font": {},
          "showarrow": false,
          "text": "地点=深圳客户",
          "x": 0.6900000000000002,
          "xanchor": "center",
          "xref": "paper",
          "y": 1,
          "yanchor": "bottom",
          "yref": "paper"
         },
         {
          "font": {},
          "showarrow": false,
          "text": "地点=成都客户",
          "x": 0.8900000000000001,
          "xanchor": "center",
          "xref": "paper",
          "y": 1,
          "yanchor": "bottom",
          "yref": "paper"
         },
         {
          "font": {},
          "showarrow": false,
          "text": "产品=苹果汁",
          "textangle": 90,
          "x": 0.9800000000000001,
          "xanchor": "left",
          "xref": "paper",
          "y": 0.2425,
          "yanchor": "middle",
          "yref": "paper"
         },
         {
          "font": {},
          "showarrow": false,
          "text": "产品=橙汁",
          "textangle": 90,
          "x": 0.9800000000000001,
          "xanchor": "left",
          "xref": "paper",
          "y": 0.7575000000000001,
          "yanchor": "middle",
          "yref": "paper"
         }
        ],
        "barmode": "group",
        "height": 600,
        "legend": {
         "orientation": "h",
         "title": {
          "text": "类型"
         },
         "tracegroupgap": 0,
         "x": 1,
         "xanchor": "right",
         "y": 1.02,
         "yanchor": "bottom"
        },
        "template": {
         "data": {
          "bar": [
           {
            "error_x": {
             "color": "#2a3f5f"
            },
            "error_y": {
             "color": "#2a3f5f"
            },
            "marker": {
             "line": {
              "color": "#E5ECF6",
              "width": 0.5
             },
             "pattern": {
              "fillmode": "overlay",
              "size": 10,
              "solidity": 0.2
             }
            },
            "type": "bar"
           }
          ],
          "barpolar": [
           {
            "marker": {
             "line": {
              "color": "#E5ECF6",
              "width": 0.5
             },
             "pattern": {
              "fillmode": "overlay",
              "size": 10,
              "solidity": 0.2
             }
            },
            "type": "barpolar"
           }
          ],
          "carpet": [
           {
            "aaxis": {
             "endlinecolor": "#2a3f5f",
             "gridcolor": "white",
             "linecolor": "white",
             "minorgridcolor": "white",
             "startlinecolor": "#2a3f5f"
            },
            "baxis": {
             "endlinecolor": "#2a3f5f",
             "gridcolor": "white",
             "linecolor": "white",
             "minorgridcolor": "white",
             "startlinecolor": "#2a3f5f"
            },
            "type": "carpet"
           }
          ],
          "choropleth": [
           {
            "colorbar": {
             "outlinewidth": 0,
             "ticks": ""
            },
            "type": "choropleth"
           }
          ],
          "contour": [
           {
            "colorbar": {
             "outlinewidth": 0,
             "ticks": ""
            },
            "colorscale": [
             [
              0,
              "#0d0887"
             ],
             [
              0.1111111111111111,
              "#46039f"
             ],
             [
              0.2222222222222222,
              "#7201a8"
             ],
             [
              0.3333333333333333,
              "#9c179e"
             ],
             [
              0.4444444444444444,
              "#bd3786"
             ],
             [
              0.5555555555555556,
              "#d8576b"
             ],
             [
              0.6666666666666666,
              "#ed7953"
             ],
             [
              0.7777777777777778,
              "#fb9f3a"
             ],
             [
              0.8888888888888888,
              "#fdca26"
             ],
             [
              1,
              "#f0f921"
             ]
            ],
            "type": "contour"
           }
          ],
          "contourcarpet": [
           {
            "colorbar": {
             "outlinewidth": 0,
             "ticks": ""
            },
            "type": "contourcarpet"
           }
          ],
          "heatmap": [
           {
            "colorbar": {
             "outlinewidth": 0,
             "ticks": ""
            },
            "colorscale": [
             [
              0,
              "#0d0887"
             ],
             [
              0.1111111111111111,
              "#46039f"
             ],
             [
              0.2222222222222222,
              "#7201a8"
             ],
             [
              0.3333333333333333,
              "#9c179e"
             ],
             [
              0.4444444444444444,
              "#bd3786"
             ],
             [
              0.5555555555555556,
              "#d8576b"
             ],
             [
              0.6666666666666666,
              "#ed7953"
             ],
             [
              0.7777777777777778,
              "#fb9f3a"
             ],
             [
              0.8888888888888888,
              "#fdca26"
             ],
             [
              1,
              "#f0f921"
             ]
            ],
            "type": "heatmap"
           }
          ],
          "histogram": [
           {
            "marker": {
             "pattern": {
              "fillmode": "overlay",
              "size": 10,
              "solidity": 0.2
             }
            },
            "type": "histogram"
           }
          ],
          "histogram2d": [
           {
            "colorbar": {
             "outlinewidth": 0,
             "ticks": ""
            },
            "colorscale": [
             [
              0,
              "#0d0887"
             ],
             [
              0.1111111111111111,
              "#46039f"
             ],
             [
              0.2222222222222222,
              "#7201a8"
             ],
             [
              0.3333333333333333,
              "#9c179e"
             ],
             [
              0.4444444444444444,
              "#bd3786"
             ],
             [
              0.5555555555555556,
              "#d8576b"
             ],
             [
              0.6666666666666666,
              "#ed7953"
             ],
             [
              0.7777777777777778,
              "#fb9f3a"
             ],
             [
              0.8888888888888888,
              "#fdca26"
             ],
             [
              1,
              "#f0f921"
             ]
            ],
            "type": "histogram2d"
           }
          ],
          "histogram2dcontour": [
           {
            "colorbar": {
             "outlinewidth": 0,
             "ticks": ""
            },
            "colorscale": [
             [
              0,
              "#0d0887"
             ],
             [
              0.1111111111111111,
              "#46039f"
             ],
             [
              0.2222222222222222,
              "#7201a8"
             ],
             [
              0.3333333333333333,
              "#9c179e"
             ],
             [
              0.4444444444444444,
              "#bd3786"
             ],
             [
              0.5555555555555556,
              "#d8576b"
             ],
             [
              0.6666666666666666,
              "#ed7953"
             ],
             [
              0.7777777777777778,
              "#fb9f3a"
             ],
             [
              0.8888888888888888,
              "#fdca26"
             ],
             [
              1,
              "#f0f921"
             ]
            ],
            "type": "histogram2dcontour"
           }
          ],
          "mesh3d": [
           {
            "colorbar": {
             "outlinewidth": 0,
             "ticks": ""
            },
            "type": "mesh3d"
           }
          ],
          "parcoords": [
           {
            "line": {
             "colorbar": {
              "outlinewidth": 0,
              "ticks": ""
             }
            },
            "type": "parcoords"
           }
          ],
          "pie": [
           {
            "automargin": true,
            "type": "pie"
           }
          ],
          "scatter": [
           {
            "fillpattern": {
             "fillmode": "overlay",
             "size": 10,
             "solidity": 0.2
            },
            "type": "scatter"
           }
          ],
          "scatter3d": [
           {
            "line": {
             "colorbar": {
              "outlinewidth": 0,
              "ticks": ""
             }
            },
            "marker": {
             "colorbar": {
              "outlinewidth": 0,
              "ticks": ""
             }
            },
            "type": "scatter3d"
           }
          ],
          "scattercarpet": [
           {
            "marker": {
             "colorbar": {
              "outlinewidth": 0,
              "ticks": ""
             }
            },
            "type": "scattercarpet"
           }
          ],
          "scattergeo": [
           {
            "marker": {
             "colorbar": {
              "outlinewidth": 0,
              "ticks": ""
             }
            },
            "type": "scattergeo"
           }
          ],
          "scattergl": [
           {
            "marker": {
             "colorbar": {
              "outlinewidth": 0,
              "ticks": ""
             }
            },
            "type": "scattergl"
           }
          ],
          "scattermap": [
           {
            "marker": {
             "colorbar": {
              "outlinewidth": 0,
              "ticks": ""
             }
            },
            "type": "scattermap"
           }
          ],
          "scattermapbox": [
           {
            "marker": {
             "colorbar": {
              "outlinewidth": 0,
              "ticks": ""
             }
            },
            "type": "scattermapbox"
           }
          ],
          "scatterpolar": [
           {
            "marker": {
             "colorbar": {
              "outlinewidth": 0,
              "ticks": ""
             }
            },
            "type": "scatterpolar"
           }
          ],
          "scatterpolargl": [
           {
            "marker": {
             "colorbar": {
              "outlinewidth": 0,
              "ticks": ""
             }
            },
            "type": "scatterpolargl"
           }
          ],
          "scatterternary": [
           {
            "marker": {
             "colorbar": {
              "outlinewidth": 0,
              "ticks": ""
             }
            },
            "type": "scatterternary"
           }
          ],
          "surface": [
           {
            "colorbar": {
             "outlinewidth": 0,
             "ticks": ""
            },
            "colorscale": [
             [
              0,
              "#0d0887"
             ],
             [
              0.1111111111111111,
              "#46039f"
             ],
             [
              0.2222222222222222,
              "#7201a8"
             ],
             [
              0.3333333333333333,
              "#9c179e"
             ],
             [
              0.4444444444444444,
              "#bd3786"
             ],
             [
              0.5555555555555556,
              "#d8576b"
             ],
             [
              0.6666666666666666,
              "#ed7953"
             ],
             [
              0.7777777777777778,
              "#fb9f3a"
             ],
             [
              0.8888888888888888,
              "#fdca26"
             ],
             [
              1,
              "#f0f921"
             ]
            ],
            "type": "surface"
           }
          ],
          "table": [
           {
            "cells": {
             "fill": {
              "color": "#EBF0F8"
             },
             "line": {
              "color": "white"
             }
            },
            "header": {
             "fill": {
              "color": "#C8D4E3"
             },
             "line": {
              "color": "white"
             }
            },
            "type": "table"
           }
          ]
         },
         "layout": {
          "annotationdefaults": {
           "arrowcolor": "#2a3f5f",
           "arrowhead": 0,
           "arrowwidth": 1
          },
          "autotypenumbers": "strict",
          "coloraxis": {
           "colorbar": {
            "outlinewidth": 0,
            "ticks": ""
           }
          },
          "colorscale": {
           "diverging": [
            [
             0,
             "#8e0152"
            ],
            [
             0.1,
             "#c51b7d"
            ],
            [
             0.2,
             "#de77ae"
            ],
            [
             0.3,
             "#f1b6da"
            ],
            [
             0.4,
             "#fde0ef"
            ],
            [
             0.5,
             "#f7f7f7"
            ],
            [
             0.6,
             "#e6f5d0"
            ],
            [
             0.7,
             "#b8e186"
            ],
            [
             0.8,
             "#7fbc41"
            ],
            [
             0.9,
             "#4d9221"
            ],
            [
             1,
             "#276419"
            ]
           ],
           "sequential": [
            [
             0,
             "#0d0887"
            ],
            [
             0.1111111111111111,
             "#46039f"
            ],
            [
             0.2222222222222222,
             "#7201a8"
            ],
            [
             0.3333333333333333,
             "#9c179e"
            ],
            [
             0.4444444444444444,
             "#bd3786"
            ],
            [
             0.5555555555555556,
             "#d8576b"
            ],
            [
             0.6666666666666666,
             "#ed7953"
            ],
            [
             0.7777777777777778,
             "#fb9f3a"
            ],
            [
             0.8888888888888888,
             "#fdca26"
            ],
            [
             1,
             "#f0f921"
            ]
           ],
           "sequentialminus": [
            [
             0,
             "#0d0887"
            ],
            [
             0.1111111111111111,
             "#46039f"
            ],
            [
             0.2222222222222222,
             "#7201a8"
            ],
            [
             0.3333333333333333,
             "#9c179e"
            ],
            [
             0.4444444444444444,
             "#bd3786"
            ],
            [
             0.5555555555555556,
             "#d8576b"
            ],
            [
             0.6666666666666666,
             "#ed7953"
            ],
            [
             0.7777777777777778,
             "#fb9f3a"
            ],
            [
             0.8888888888888888,
             "#fdca26"
            ],
            [
             1,
             "#f0f921"
            ]
           ]
          },
          "colorway": [
           "#636efa",
           "#EF553B",
           "#00cc96",
           "#ab63fa",
           "#FFA15A",
           "#19d3f3",
           "#FF6692",
           "#B6E880",
           "#FF97FF",
           "#FECB52"
          ],
          "font": {
           "color": "#2a3f5f"
          },
          "geo": {
           "bgcolor": "white",
           "lakecolor": "white",
           "landcolor": "#E5ECF6",
           "showlakes": true,
           "showland": true,
           "subunitcolor": "white"
          },
          "hoverlabel": {
           "align": "left"
          },
          "hovermode": "closest",
          "mapbox": {
           "style": "light"
          },
          "paper_bgcolor": "white",
          "plot_bgcolor": "#E5ECF6",
          "polar": {
           "angularaxis": {
            "gridcolor": "white",
            "linecolor": "white",
            "ticks": ""
           },
           "bgcolor": "#E5ECF6",
           "radialaxis": {
            "gridcolor": "white",
            "linecolor": "white",
            "ticks": ""
           }
          },
          "scene": {
           "xaxis": {
            "backgroundcolor": "#E5ECF6",
            "gridcolor": "white",
            "gridwidth": 2,
            "linecolor": "white",
            "showbackground": true,
            "ticks": "",
            "zerolinecolor": "white"
           },
           "yaxis": {
            "backgroundcolor": "#E5ECF6",
            "gridcolor": "white",
            "gridwidth": 2,
            "linecolor": "white",
            "showbackground": true,
            "ticks": "",
            "zerolinecolor": "white"
           },
           "zaxis": {
            "backgroundcolor": "#E5ECF6",
            "gridcolor": "white",
            "gridwidth": 2,
            "linecolor": "white",
            "showbackground": true,
            "ticks": "",
            "zerolinecolor": "white"
           }
          },
          "shapedefaults": {
           "line": {
            "color": "#2a3f5f"
           }
          },
          "ternary": {
           "aaxis": {
            "gridcolor": "white",
            "linecolor": "white",
            "ticks": ""
           },
           "baxis": {
            "gridcolor": "white",
            "linecolor": "white",
            "ticks": ""
           },
           "bgcolor": "#E5ECF6",
           "caxis": {
            "gridcolor": "white",
            "linecolor": "white",
            "ticks": ""
           }
          },
          "title": {
           "x": 0.05
          },
          "xaxis": {
           "automargin": true,
           "gridcolor": "white",
           "linecolor": "white",
           "ticks": "",
           "title": {
            "standoff": 15
           },
           "zerolinecolor": "white",
           "zerolinewidth": 2
          },
          "yaxis": {
           "automargin": true,
           "gridcolor": "white",
           "linecolor": "white",
           "ticks": "",
           "title": {
            "standoff": 15
           },
           "zerolinecolor": "white",
           "zerolinewidth": 2
          }
         }
        },
        "title": {
         "text": "产量 vs 需求量（按产品和地点）"
        },
        "xaxis": {
         "anchor": "y",
         "domain": [
          0,
          0.18000000000000002
         ],
         "title": {
          "text": "周期（旬）"
         }
        },
        "xaxis10": {
         "anchor": "y10",
         "domain": [
          0.8,
          0.9800000000000001
         ],
         "matches": "x",
         "showticklabels": false
        },
        "xaxis2": {
         "anchor": "y2",
         "domain": [
          0.2,
          0.38
         ],
         "matches": "x",
         "title": {
          "text": "周期（旬）"
         }
        },
        "xaxis3": {
         "anchor": "y3",
         "domain": [
          0.4,
          0.5800000000000001
         ],
         "matches": "x",
         "title": {
          "text": "周期（旬）"
         }
        },
        "xaxis4": {
         "anchor": "y4",
         "domain": [
          0.6000000000000001,
          0.7800000000000001
         ],
         "matches": "x",
         "title": {
          "text": "周期（旬）"
         }
        },
        "xaxis5": {
         "anchor": "y5",
         "domain": [
          0.8,
          0.9800000000000001
         ],
         "matches": "x",
         "title": {
          "text": "周期（旬）"
         }
        },
        "xaxis6": {
         "anchor": "y6",
         "domain": [
          0,
          0.18000000000000002
         ],
         "matches": "x",
         "showticklabels": false
        },
        "xaxis7": {
         "anchor": "y7",
         "domain": [
          0.2,
          0.38
         ],
         "matches": "x",
         "showticklabels": false
        },
        "xaxis8": {
         "anchor": "y8",
         "domain": [
          0.4,
          0.5800000000000001
         ],
         "matches": "x",
         "showticklabels": false
        },
        "xaxis9": {
         "anchor": "y9",
         "domain": [
          0.6000000000000001,
          0.7800000000000001
         ],
         "matches": "x",
         "showticklabels": false
        },
        "yaxis": {
         "anchor": "x",
         "domain": [
          0,
          0.485
         ],
         "title": {
          "text": "数量 (件)"
         }
        },
        "yaxis10": {
         "anchor": "x10",
         "domain": [
          0.515,
          1
         ],
         "matches": "y",
         "showticklabels": false
        },
        "yaxis2": {
         "anchor": "x2",
         "domain": [
          0,
          0.485
         ],
         "matches": "y",
         "showticklabels": false
        },
        "yaxis3": {
         "anchor": "x3",
         "domain": [
          0,
          0.485
         ],
         "matches": "y",
         "showticklabels": false
        },
        "yaxis4": {
         "anchor": "x4",
         "domain": [
          0,
          0.485
         ],
         "matches": "y",
         "showticklabels": false
        },
        "yaxis5": {
         "anchor": "x5",
         "domain": [
          0,
          0.485
         ],
         "matches": "y",
         "showticklabels": false
        },
        "yaxis6": {
         "anchor": "x6",
         "domain": [
          0.515,
          1
         ],
         "matches": "y",
         "title": {
          "text": "数量 (件)"
         }
        },
        "yaxis7": {
         "anchor": "x7",
         "domain": [
          0.515,
          1
         ],
         "matches": "y",
         "showticklabels": false
        },
        "yaxis8": {
         "anchor": "x8",
         "domain": [
          0.515,
          1
         ],
         "matches": "y",
         "showticklabels": false
        },
        "yaxis9": {
         "anchor": "x9",
         "domain": [
          0.515,
          1
         ],
         "matches": "y",
         "showticklabels": false
        }
       }
      }
     },
     "metadata": {},
     "output_type": "display_data"
    }
   ],
   "source": [
    "# 1. 提取工厂每旬每种产品的产量\n",
    "production_data_fine = []\n",
    "for f in factories:\n",
    "    for p in products:\n",
    "        for t in periods:\n",
    "            total_produced = sum(\n",
    "                value(produce[f][line][p][t])\n",
    "                for line in production_lines_info[f]\n",
    "            )\n",
    "            if total_produced > 0:\n",
    "                production_data_fine.append({\n",
    "                    '地点': f,\n",
    "                    '周期（旬）': t,\n",
    "                    '产品': p,\n",
    "                    '数量': total_produced,\n",
    "                    '类型': '产量'\n",
    "                })\n",
    "\n",
    "# 2. 提取客户每旬每种产品的需求量\n",
    "demand_data_fine = []\n",
    "for c in customers:\n",
    "    for p in products:\n",
    "        for t in periods:\n",
    "            total_demanded = demand[c][p][t]\n",
    "            if total_demanded > 0:\n",
    "                demand_data_fine.append({\n",
    "                    '地点': c,\n",
    "                    '周期（旬）': t,\n",
    "                    '产品': p,\n",
    "                    '数量': total_demanded,\n",
    "                    '类型': '需求量'\n",
    "                })\n",
    "\n",
    "# 合并生产和需求细化数据\n",
    "production_demand_fine_df = pd.DataFrame(production_data_fine + demand_data_fine)\n",
    "\n",
    "print(\"\\n--- 工厂/客户产量与需求对照（细化到产品） ---\")\n",
    "if not production_demand_fine_df.empty:\n",
    "    display(production_demand_fine_df)\n",
    "    \n",
    "    # --- 可视化：细化到产品的产量与需求对照 ---\n",
    "    # 使用 facet_col 来按地点切分，使用 color 来区分产品\n",
    "    fig = px.bar(\n",
    "        production_demand_fine_df,\n",
    "        x='周期（旬）',\n",
    "        y='数量',\n",
    "        color='产品',\n",
    "        facet_col='地点',\n",
    "        barmode='group',\n",
    "        title='细化到产品的产量 vs 需求量',\n",
    "        height=400,\n",
    "        labels={'数量': '数量 (件)', '地点': '地点', '产品': '产品'}\n",
    "    )\n",
    "    fig.update_layout(\n",
    "        legend=dict(\n",
    "            orientation=\"h\",\n",
    "            yanchor=\"bottom\",\n",
    "            y=1.02,\n",
    "            xanchor=\"right\",\n",
    "            x=1\n",
    "        )\n",
    "    )\n",
    "    fig.show()\n",
    "\n",
    "    # 另一个更清晰的方案：按产品切分\n",
    "    fig2 = px.bar(\n",
    "        production_demand_fine_df,\n",
    "        x='周期（旬）',\n",
    "        y='数量',\n",
    "        color='类型',\n",
    "        facet_row='产品', # 按产品切分\n",
    "        facet_col='地点', # 按地点切分\n",
    "        barmode='group',\n",
    "        title='产量 vs 需求量（按产品和地点）',\n",
    "        height=600,\n",
    "        labels={'数量': '数量 (件)', '地点': '地点', '类型': '类型'}\n",
    "    )\n",
    "    fig2.update_layout(\n",
    "        legend=dict(\n",
    "            orientation=\"h\",\n",
    "            yanchor=\"bottom\",\n",
    "            y=1.02,\n",
    "            xanchor=\"right\",\n",
    "            x=1\n",
    "        )\n",
    "    )\n",
    "    fig2.show()\n",
    "\n",
    "else:\n",
    "    print(\"没有可展示的细化产量与需求数据。\")"
   ]
  },
  {
   "cell_type": "markdown",
   "metadata": {},
   "source": [
    "## 最优生产计划"
   ]
  },
  {
   "cell_type": "code",
   "execution_count": 10,
   "metadata": {},
   "outputs": [
    {
     "name": "stdout",
     "output_type": "stream",
     "text": [
      "\n",
      "--- 最优生产计划 ---\n"
     ]
    },
    {
     "data": {
      "text/html": [
       "<div>\n",
       "<style scoped>\n",
       "    .dataframe tbody tr th:only-of-type {\n",
       "        vertical-align: middle;\n",
       "    }\n",
       "\n",
       "    .dataframe tbody tr th {\n",
       "        vertical-align: top;\n",
       "    }\n",
       "\n",
       "    .dataframe thead th {\n",
       "        text-align: right;\n",
       "    }\n",
       "</style>\n",
       "<table border=\"1\" class=\"dataframe\">\n",
       "  <thead>\n",
       "    <tr style=\"text-align: right;\">\n",
       "      <th></th>\n",
       "      <th>工厂</th>\n",
       "      <th>生产线</th>\n",
       "      <th>产品</th>\n",
       "      <th>周期（旬）</th>\n",
       "      <th>生产量</th>\n",
       "      <th>单位生产成本</th>\n",
       "    </tr>\n",
       "  </thead>\n",
       "  <tbody>\n",
       "    <tr>\n",
       "      <th>0</th>\n",
       "      <td>北京工厂</td>\n",
       "      <td>Line_1</td>\n",
       "      <td>橙汁</td>\n",
       "      <td>1</td>\n",
       "      <td>30000</td>\n",
       "      <td>8.0</td>\n",
       "    </tr>\n",
       "    <tr>\n",
       "      <th>1</th>\n",
       "      <td>广州工厂</td>\n",
       "      <td>Line_A</td>\n",
       "      <td>橙汁</td>\n",
       "      <td>1</td>\n",
       "      <td>55000</td>\n",
       "      <td>7.5</td>\n",
       "    </tr>\n",
       "    <tr>\n",
       "      <th>2</th>\n",
       "      <td>广州工厂</td>\n",
       "      <td>Line_A</td>\n",
       "      <td>橙汁</td>\n",
       "      <td>3</td>\n",
       "      <td>30000</td>\n",
       "      <td>7.5</td>\n",
       "    </tr>\n",
       "    <tr>\n",
       "      <th>3</th>\n",
       "      <td>广州工厂</td>\n",
       "      <td>Line_B</td>\n",
       "      <td>苹果汁</td>\n",
       "      <td>1</td>\n",
       "      <td>41000</td>\n",
       "      <td>7.0</td>\n",
       "    </tr>\n",
       "    <tr>\n",
       "      <th>4</th>\n",
       "      <td>广州工厂</td>\n",
       "      <td>Line_B</td>\n",
       "      <td>苹果汁</td>\n",
       "      <td>3</td>\n",
       "      <td>25000</td>\n",
       "      <td>7.0</td>\n",
       "    </tr>\n",
       "  </tbody>\n",
       "</table>\n",
       "</div>"
      ],
      "text/plain": [
       "     工厂     生产线   产品  周期（旬）    生产量  单位生产成本\n",
       "0  北京工厂  Line_1   橙汁      1  30000     8.0\n",
       "1  广州工厂  Line_A   橙汁      1  55000     7.5\n",
       "2  广州工厂  Line_A   橙汁      3  30000     7.5\n",
       "3  广州工厂  Line_B  苹果汁      1  41000     7.0\n",
       "4  广州工厂  Line_B  苹果汁      3  25000     7.0"
      ]
     },
     "metadata": {},
     "output_type": "display_data"
    },
    {
     "data": {
      "application/vnd.plotly.v1+json": {
       "config": {
        "plotlyServerURL": "https://plot.ly"
       },
       "data": [
        {
         "alignmentgroup": "True",
         "hovertemplate": "产品=橙汁<br>工厂=%{x}<br>生产量=%{y}<extra></extra>",
         "legendgroup": "橙汁",
         "marker": {
          "color": "#636efa",
          "pattern": {
           "shape": ""
          }
         },
         "name": "橙汁",
         "offsetgroup": "橙汁",
         "orientation": "v",
         "showlegend": true,
         "textposition": "auto",
         "type": "bar",
         "x": [
          "北京工厂",
          "广州工厂",
          "广州工厂"
         ],
         "xaxis": "x",
         "y": {
          "bdata": "MHUAANjWAAAwdQAA",
          "dtype": "i4"
         },
         "yaxis": "y"
        },
        {
         "alignmentgroup": "True",
         "hovertemplate": "产品=苹果汁<br>工厂=%{x}<br>生产量=%{y}<extra></extra>",
         "legendgroup": "苹果汁",
         "marker": {
          "color": "#EF553B",
          "pattern": {
           "shape": ""
          }
         },
         "name": "苹果汁",
         "offsetgroup": "苹果汁",
         "orientation": "v",
         "showlegend": true,
         "textposition": "auto",
         "type": "bar",
         "x": [
          "广州工厂",
          "广州工厂"
         ],
         "xaxis": "x",
         "y": {
          "bdata": "KKAAAKhhAAA=",
          "dtype": "i4"
         },
         "yaxis": "y"
        }
       ],
       "layout": {
        "barmode": "group",
        "legend": {
         "title": {
          "text": "产品"
         },
         "tracegroupgap": 0
        },
        "template": {
         "data": {
          "bar": [
           {
            "error_x": {
             "color": "#2a3f5f"
            },
            "error_y": {
             "color": "#2a3f5f"
            },
            "marker": {
             "line": {
              "color": "#E5ECF6",
              "width": 0.5
             },
             "pattern": {
              "fillmode": "overlay",
              "size": 10,
              "solidity": 0.2
             }
            },
            "type": "bar"
           }
          ],
          "barpolar": [
           {
            "marker": {
             "line": {
              "color": "#E5ECF6",
              "width": 0.5
             },
             "pattern": {
              "fillmode": "overlay",
              "size": 10,
              "solidity": 0.2
             }
            },
            "type": "barpolar"
           }
          ],
          "carpet": [
           {
            "aaxis": {
             "endlinecolor": "#2a3f5f",
             "gridcolor": "white",
             "linecolor": "white",
             "minorgridcolor": "white",
             "startlinecolor": "#2a3f5f"
            },
            "baxis": {
             "endlinecolor": "#2a3f5f",
             "gridcolor": "white",
             "linecolor": "white",
             "minorgridcolor": "white",
             "startlinecolor": "#2a3f5f"
            },
            "type": "carpet"
           }
          ],
          "choropleth": [
           {
            "colorbar": {
             "outlinewidth": 0,
             "ticks": ""
            },
            "type": "choropleth"
           }
          ],
          "contour": [
           {
            "colorbar": {
             "outlinewidth": 0,
             "ticks": ""
            },
            "colorscale": [
             [
              0,
              "#0d0887"
             ],
             [
              0.1111111111111111,
              "#46039f"
             ],
             [
              0.2222222222222222,
              "#7201a8"
             ],
             [
              0.3333333333333333,
              "#9c179e"
             ],
             [
              0.4444444444444444,
              "#bd3786"
             ],
             [
              0.5555555555555556,
              "#d8576b"
             ],
             [
              0.6666666666666666,
              "#ed7953"
             ],
             [
              0.7777777777777778,
              "#fb9f3a"
             ],
             [
              0.8888888888888888,
              "#fdca26"
             ],
             [
              1,
              "#f0f921"
             ]
            ],
            "type": "contour"
           }
          ],
          "contourcarpet": [
           {
            "colorbar": {
             "outlinewidth": 0,
             "ticks": ""
            },
            "type": "contourcarpet"
           }
          ],
          "heatmap": [
           {
            "colorbar": {
             "outlinewidth": 0,
             "ticks": ""
            },
            "colorscale": [
             [
              0,
              "#0d0887"
             ],
             [
              0.1111111111111111,
              "#46039f"
             ],
             [
              0.2222222222222222,
              "#7201a8"
             ],
             [
              0.3333333333333333,
              "#9c179e"
             ],
             [
              0.4444444444444444,
              "#bd3786"
             ],
             [
              0.5555555555555556,
              "#d8576b"
             ],
             [
              0.6666666666666666,
              "#ed7953"
             ],
             [
              0.7777777777777778,
              "#fb9f3a"
             ],
             [
              0.8888888888888888,
              "#fdca26"
             ],
             [
              1,
              "#f0f921"
             ]
            ],
            "type": "heatmap"
           }
          ],
          "histogram": [
           {
            "marker": {
             "pattern": {
              "fillmode": "overlay",
              "size": 10,
              "solidity": 0.2
             }
            },
            "type": "histogram"
           }
          ],
          "histogram2d": [
           {
            "colorbar": {
             "outlinewidth": 0,
             "ticks": ""
            },
            "colorscale": [
             [
              0,
              "#0d0887"
             ],
             [
              0.1111111111111111,
              "#46039f"
             ],
             [
              0.2222222222222222,
              "#7201a8"
             ],
             [
              0.3333333333333333,
              "#9c179e"
             ],
             [
              0.4444444444444444,
              "#bd3786"
             ],
             [
              0.5555555555555556,
              "#d8576b"
             ],
             [
              0.6666666666666666,
              "#ed7953"
             ],
             [
              0.7777777777777778,
              "#fb9f3a"
             ],
             [
              0.8888888888888888,
              "#fdca26"
             ],
             [
              1,
              "#f0f921"
             ]
            ],
            "type": "histogram2d"
           }
          ],
          "histogram2dcontour": [
           {
            "colorbar": {
             "outlinewidth": 0,
             "ticks": ""
            },
            "colorscale": [
             [
              0,
              "#0d0887"
             ],
             [
              0.1111111111111111,
              "#46039f"
             ],
             [
              0.2222222222222222,
              "#7201a8"
             ],
             [
              0.3333333333333333,
              "#9c179e"
             ],
             [
              0.4444444444444444,
              "#bd3786"
             ],
             [
              0.5555555555555556,
              "#d8576b"
             ],
             [
              0.6666666666666666,
              "#ed7953"
             ],
             [
              0.7777777777777778,
              "#fb9f3a"
             ],
             [
              0.8888888888888888,
              "#fdca26"
             ],
             [
              1,
              "#f0f921"
             ]
            ],
            "type": "histogram2dcontour"
           }
          ],
          "mesh3d": [
           {
            "colorbar": {
             "outlinewidth": 0,
             "ticks": ""
            },
            "type": "mesh3d"
           }
          ],
          "parcoords": [
           {
            "line": {
             "colorbar": {
              "outlinewidth": 0,
              "ticks": ""
             }
            },
            "type": "parcoords"
           }
          ],
          "pie": [
           {
            "automargin": true,
            "type": "pie"
           }
          ],
          "scatter": [
           {
            "fillpattern": {
             "fillmode": "overlay",
             "size": 10,
             "solidity": 0.2
            },
            "type": "scatter"
           }
          ],
          "scatter3d": [
           {
            "line": {
             "colorbar": {
              "outlinewidth": 0,
              "ticks": ""
             }
            },
            "marker": {
             "colorbar": {
              "outlinewidth": 0,
              "ticks": ""
             }
            },
            "type": "scatter3d"
           }
          ],
          "scattercarpet": [
           {
            "marker": {
             "colorbar": {
              "outlinewidth": 0,
              "ticks": ""
             }
            },
            "type": "scattercarpet"
           }
          ],
          "scattergeo": [
           {
            "marker": {
             "colorbar": {
              "outlinewidth": 0,
              "ticks": ""
             }
            },
            "type": "scattergeo"
           }
          ],
          "scattergl": [
           {
            "marker": {
             "colorbar": {
              "outlinewidth": 0,
              "ticks": ""
             }
            },
            "type": "scattergl"
           }
          ],
          "scattermap": [
           {
            "marker": {
             "colorbar": {
              "outlinewidth": 0,
              "ticks": ""
             }
            },
            "type": "scattermap"
           }
          ],
          "scattermapbox": [
           {
            "marker": {
             "colorbar": {
              "outlinewidth": 0,
              "ticks": ""
             }
            },
            "type": "scattermapbox"
           }
          ],
          "scatterpolar": [
           {
            "marker": {
             "colorbar": {
              "outlinewidth": 0,
              "ticks": ""
             }
            },
            "type": "scatterpolar"
           }
          ],
          "scatterpolargl": [
           {
            "marker": {
             "colorbar": {
              "outlinewidth": 0,
              "ticks": ""
             }
            },
            "type": "scatterpolargl"
           }
          ],
          "scatterternary": [
           {
            "marker": {
             "colorbar": {
              "outlinewidth": 0,
              "ticks": ""
             }
            },
            "type": "scatterternary"
           }
          ],
          "surface": [
           {
            "colorbar": {
             "outlinewidth": 0,
             "ticks": ""
            },
            "colorscale": [
             [
              0,
              "#0d0887"
             ],
             [
              0.1111111111111111,
              "#46039f"
             ],
             [
              0.2222222222222222,
              "#7201a8"
             ],
             [
              0.3333333333333333,
              "#9c179e"
             ],
             [
              0.4444444444444444,
              "#bd3786"
             ],
             [
              0.5555555555555556,
              "#d8576b"
             ],
             [
              0.6666666666666666,
              "#ed7953"
             ],
             [
              0.7777777777777778,
              "#fb9f3a"
             ],
             [
              0.8888888888888888,
              "#fdca26"
             ],
             [
              1,
              "#f0f921"
             ]
            ],
            "type": "surface"
           }
          ],
          "table": [
           {
            "cells": {
             "fill": {
              "color": "#EBF0F8"
             },
             "line": {
              "color": "white"
             }
            },
            "header": {
             "fill": {
              "color": "#C8D4E3"
             },
             "line": {
              "color": "white"
             }
            },
            "type": "table"
           }
          ]
         },
         "layout": {
          "annotationdefaults": {
           "arrowcolor": "#2a3f5f",
           "arrowhead": 0,
           "arrowwidth": 1
          },
          "autotypenumbers": "strict",
          "coloraxis": {
           "colorbar": {
            "outlinewidth": 0,
            "ticks": ""
           }
          },
          "colorscale": {
           "diverging": [
            [
             0,
             "#8e0152"
            ],
            [
             0.1,
             "#c51b7d"
            ],
            [
             0.2,
             "#de77ae"
            ],
            [
             0.3,
             "#f1b6da"
            ],
            [
             0.4,
             "#fde0ef"
            ],
            [
             0.5,
             "#f7f7f7"
            ],
            [
             0.6,
             "#e6f5d0"
            ],
            [
             0.7,
             "#b8e186"
            ],
            [
             0.8,
             "#7fbc41"
            ],
            [
             0.9,
             "#4d9221"
            ],
            [
             1,
             "#276419"
            ]
           ],
           "sequential": [
            [
             0,
             "#0d0887"
            ],
            [
             0.1111111111111111,
             "#46039f"
            ],
            [
             0.2222222222222222,
             "#7201a8"
            ],
            [
             0.3333333333333333,
             "#9c179e"
            ],
            [
             0.4444444444444444,
             "#bd3786"
            ],
            [
             0.5555555555555556,
             "#d8576b"
            ],
            [
             0.6666666666666666,
             "#ed7953"
            ],
            [
             0.7777777777777778,
             "#fb9f3a"
            ],
            [
             0.8888888888888888,
             "#fdca26"
            ],
            [
             1,
             "#f0f921"
            ]
           ],
           "sequentialminus": [
            [
             0,
             "#0d0887"
            ],
            [
             0.1111111111111111,
             "#46039f"
            ],
            [
             0.2222222222222222,
             "#7201a8"
            ],
            [
             0.3333333333333333,
             "#9c179e"
            ],
            [
             0.4444444444444444,
             "#bd3786"
            ],
            [
             0.5555555555555556,
             "#d8576b"
            ],
            [
             0.6666666666666666,
             "#ed7953"
            ],
            [
             0.7777777777777778,
             "#fb9f3a"
            ],
            [
             0.8888888888888888,
             "#fdca26"
            ],
            [
             1,
             "#f0f921"
            ]
           ]
          },
          "colorway": [
           "#636efa",
           "#EF553B",
           "#00cc96",
           "#ab63fa",
           "#FFA15A",
           "#19d3f3",
           "#FF6692",
           "#B6E880",
           "#FF97FF",
           "#FECB52"
          ],
          "font": {
           "color": "#2a3f5f"
          },
          "geo": {
           "bgcolor": "white",
           "lakecolor": "white",
           "landcolor": "#E5ECF6",
           "showlakes": true,
           "showland": true,
           "subunitcolor": "white"
          },
          "hoverlabel": {
           "align": "left"
          },
          "hovermode": "closest",
          "mapbox": {
           "style": "light"
          },
          "paper_bgcolor": "white",
          "plot_bgcolor": "#E5ECF6",
          "polar": {
           "angularaxis": {
            "gridcolor": "white",
            "linecolor": "white",
            "ticks": ""
           },
           "bgcolor": "#E5ECF6",
           "radialaxis": {
            "gridcolor": "white",
            "linecolor": "white",
            "ticks": ""
           }
          },
          "scene": {
           "xaxis": {
            "backgroundcolor": "#E5ECF6",
            "gridcolor": "white",
            "gridwidth": 2,
            "linecolor": "white",
            "showbackground": true,
            "ticks": "",
            "zerolinecolor": "white"
           },
           "yaxis": {
            "backgroundcolor": "#E5ECF6",
            "gridcolor": "white",
            "gridwidth": 2,
            "linecolor": "white",
            "showbackground": true,
            "ticks": "",
            "zerolinecolor": "white"
           },
           "zaxis": {
            "backgroundcolor": "#E5ECF6",
            "gridcolor": "white",
            "gridwidth": 2,
            "linecolor": "white",
            "showbackground": true,
            "ticks": "",
            "zerolinecolor": "white"
           }
          },
          "shapedefaults": {
           "line": {
            "color": "#2a3f5f"
           }
          },
          "ternary": {
           "aaxis": {
            "gridcolor": "white",
            "linecolor": "white",
            "ticks": ""
           },
           "baxis": {
            "gridcolor": "white",
            "linecolor": "white",
            "ticks": ""
           },
           "bgcolor": "#E5ECF6",
           "caxis": {
            "gridcolor": "white",
            "linecolor": "white",
            "ticks": ""
           }
          },
          "title": {
           "x": 0.05
          },
          "xaxis": {
           "automargin": true,
           "gridcolor": "white",
           "linecolor": "white",
           "ticks": "",
           "title": {
            "standoff": 15
           },
           "zerolinecolor": "white",
           "zerolinewidth": 2
          },
          "yaxis": {
           "automargin": true,
           "gridcolor": "white",
           "linecolor": "white",
           "ticks": "",
           "title": {
            "standoff": 15
           },
           "zerolinecolor": "white",
           "zerolinewidth": 2
          }
         }
        },
        "title": {
         "text": "最优生产计划（各工厂生产量）"
        },
        "xaxis": {
         "anchor": "y",
         "domain": [
          0,
          1
         ],
         "title": {
          "text": "工厂"
         }
        },
        "yaxis": {
         "anchor": "x",
         "domain": [
          0,
          1
         ],
         "title": {
          "text": "生产量"
         }
        }
       }
      }
     },
     "metadata": {},
     "output_type": "display_data"
    }
   ],
   "source": [
    "print(\"\\n--- 最优生产计划 ---\")\n",
    "# 提取生产计划数据\n",
    "production_plan_data = []\n",
    "# 遍历所有生产相关的变量\n",
    "for f in factories:\n",
    "    for line in production_lines_info[f]:\n",
    "        for p in products:\n",
    "            for t in periods:\n",
    "                # 只有当生产量大于0时才打印，忽略未生产的情况\n",
    "                if value(produce[f][line][p][t]) > 0:\n",
    "                    plan_entry = {\n",
    "                        '工厂': f,\n",
    "                        '生产线': line,\n",
    "                        '产品': p,\n",
    "                        '周期（旬）': t,\n",
    "                        '生产量': int(value(produce[f][line][p][t])),\n",
    "                        '单位生产成本': production_cost.get((f, line, p), 0)\n",
    "                    }\n",
    "                    production_plan_data.append(plan_entry)\n",
    "\n",
    "production_plan_df = pd.DataFrame(production_plan_data)\n",
    "\n",
    "if not production_plan_df.empty:\n",
    "    # print(production_plan_df.to_string(index=False))\n",
    "    display(production_plan_df)\n",
    "else:\n",
    "    print(\"没有生产记录。\")\n",
    "\n",
    "# 可视化3: 最优生产计划条形图\n",
    "if not production_plan_df.empty:\n",
    "    fig3 = px.bar(\n",
    "        production_plan_df, \n",
    "        x='工厂', \n",
    "        y='生产量', \n",
    "        color='产品',\n",
    "        barmode='group',\n",
    "        title='最优生产计划（各工厂生产量）',\n",
    "        labels={'生产量': '生产量', '工厂': '工厂'}\n",
    "    )\n",
    "    fig3.show()"
   ]
  },
  {
   "cell_type": "markdown",
   "metadata": {},
   "source": [
    "## 最优配送方案"
   ]
  },
  {
   "cell_type": "code",
   "execution_count": 23,
   "metadata": {},
   "outputs": [
    {
     "name": "stdout",
     "output_type": "stream",
     "text": [
      "\n",
      "--- 最优配送方案 ---\n"
     ]
    },
    {
     "data": {
      "text/html": [
       "<div>\n",
       "<style scoped>\n",
       "    .dataframe tbody tr th:only-of-type {\n",
       "        vertical-align: middle;\n",
       "    }\n",
       "\n",
       "    .dataframe tbody tr th {\n",
       "        vertical-align: top;\n",
       "    }\n",
       "\n",
       "    .dataframe thead th {\n",
       "        text-align: right;\n",
       "    }\n",
       "</style>\n",
       "<table border=\"1\" class=\"dataframe\">\n",
       "  <thead>\n",
       "    <tr style=\"text-align: right;\">\n",
       "      <th></th>\n",
       "      <th>起点</th>\n",
       "      <th>终点</th>\n",
       "      <th>产品</th>\n",
       "      <th>周期（旬）</th>\n",
       "      <th>数量</th>\n",
       "      <th>类型</th>\n",
       "    </tr>\n",
       "  </thead>\n",
       "  <tbody>\n",
       "    <tr>\n",
       "      <th>0</th>\n",
       "      <td>广州工厂</td>\n",
       "      <td>上海分仓</td>\n",
       "      <td>苹果汁</td>\n",
       "      <td>1</td>\n",
       "      <td>5000</td>\n",
       "      <td>工厂-&gt;分仓</td>\n",
       "    </tr>\n",
       "    <tr>\n",
       "      <th>1</th>\n",
       "      <td>广州工厂</td>\n",
       "      <td>上海分仓</td>\n",
       "      <td>苹果汁</td>\n",
       "      <td>2</td>\n",
       "      <td>6000</td>\n",
       "      <td>工厂-&gt;分仓</td>\n",
       "    </tr>\n",
       "    <tr>\n",
       "      <th>2</th>\n",
       "      <td>广州工厂</td>\n",
       "      <td>上海分仓</td>\n",
       "      <td>苹果汁</td>\n",
       "      <td>3</td>\n",
       "      <td>7000</td>\n",
       "      <td>工厂-&gt;分仓</td>\n",
       "    </tr>\n",
       "    <tr>\n",
       "      <th>3</th>\n",
       "      <td>广州工厂</td>\n",
       "      <td>武汉分仓</td>\n",
       "      <td>橙汁</td>\n",
       "      <td>1</td>\n",
       "      <td>12000</td>\n",
       "      <td>工厂-&gt;分仓</td>\n",
       "    </tr>\n",
       "    <tr>\n",
       "      <th>4</th>\n",
       "      <td>广州工厂</td>\n",
       "      <td>武汉分仓</td>\n",
       "      <td>橙汁</td>\n",
       "      <td>2</td>\n",
       "      <td>10000</td>\n",
       "      <td>工厂-&gt;分仓</td>\n",
       "    </tr>\n",
       "    <tr>\n",
       "      <th>5</th>\n",
       "      <td>广州工厂</td>\n",
       "      <td>武汉分仓</td>\n",
       "      <td>橙汁</td>\n",
       "      <td>3</td>\n",
       "      <td>14000</td>\n",
       "      <td>工厂-&gt;分仓</td>\n",
       "    </tr>\n",
       "    <tr>\n",
       "      <th>6</th>\n",
       "      <td>广州工厂</td>\n",
       "      <td>武汉分仓</td>\n",
       "      <td>苹果汁</td>\n",
       "      <td>1</td>\n",
       "      <td>7000</td>\n",
       "      <td>工厂-&gt;分仓</td>\n",
       "    </tr>\n",
       "    <tr>\n",
       "      <th>7</th>\n",
       "      <td>广州工厂</td>\n",
       "      <td>武汉分仓</td>\n",
       "      <td>苹果汁</td>\n",
       "      <td>2</td>\n",
       "      <td>6000</td>\n",
       "      <td>工厂-&gt;分仓</td>\n",
       "    </tr>\n",
       "    <tr>\n",
       "      <th>8</th>\n",
       "      <td>广州工厂</td>\n",
       "      <td>武汉分仓</td>\n",
       "      <td>苹果汁</td>\n",
       "      <td>3</td>\n",
       "      <td>8000</td>\n",
       "      <td>工厂-&gt;分仓</td>\n",
       "    </tr>\n",
       "    <tr>\n",
       "      <th>9</th>\n",
       "      <td>北京工厂</td>\n",
       "      <td>沈阳客户</td>\n",
       "      <td>橙汁</td>\n",
       "      <td>1</td>\n",
       "      <td>10000</td>\n",
       "      <td>工厂-&gt;客户</td>\n",
       "    </tr>\n",
       "    <tr>\n",
       "      <th>10</th>\n",
       "      <td>北京工厂</td>\n",
       "      <td>沈阳客户</td>\n",
       "      <td>橙汁</td>\n",
       "      <td>2</td>\n",
       "      <td>12000</td>\n",
       "      <td>工厂-&gt;客户</td>\n",
       "    </tr>\n",
       "    <tr>\n",
       "      <th>11</th>\n",
       "      <td>北京工厂</td>\n",
       "      <td>沈阳客户</td>\n",
       "      <td>橙汁</td>\n",
       "      <td>3</td>\n",
       "      <td>8000</td>\n",
       "      <td>工厂-&gt;客户</td>\n",
       "    </tr>\n",
       "    <tr>\n",
       "      <th>12</th>\n",
       "      <td>广州工厂</td>\n",
       "      <td>深圳客户</td>\n",
       "      <td>橙汁</td>\n",
       "      <td>1</td>\n",
       "      <td>15000</td>\n",
       "      <td>工厂-&gt;客户</td>\n",
       "    </tr>\n",
       "    <tr>\n",
       "      <th>13</th>\n",
       "      <td>广州工厂</td>\n",
       "      <td>深圳客户</td>\n",
       "      <td>橙汁</td>\n",
       "      <td>2</td>\n",
       "      <td>18000</td>\n",
       "      <td>工厂-&gt;客户</td>\n",
       "    </tr>\n",
       "    <tr>\n",
       "      <th>14</th>\n",
       "      <td>广州工厂</td>\n",
       "      <td>深圳客户</td>\n",
       "      <td>橙汁</td>\n",
       "      <td>3</td>\n",
       "      <td>16000</td>\n",
       "      <td>工厂-&gt;客户</td>\n",
       "    </tr>\n",
       "    <tr>\n",
       "      <th>15</th>\n",
       "      <td>广州工厂</td>\n",
       "      <td>深圳客户</td>\n",
       "      <td>苹果汁</td>\n",
       "      <td>1</td>\n",
       "      <td>8000</td>\n",
       "      <td>工厂-&gt;客户</td>\n",
       "    </tr>\n",
       "    <tr>\n",
       "      <th>16</th>\n",
       "      <td>广州工厂</td>\n",
       "      <td>深圳客户</td>\n",
       "      <td>苹果汁</td>\n",
       "      <td>2</td>\n",
       "      <td>9000</td>\n",
       "      <td>工厂-&gt;客户</td>\n",
       "    </tr>\n",
       "    <tr>\n",
       "      <th>17</th>\n",
       "      <td>广州工厂</td>\n",
       "      <td>深圳客户</td>\n",
       "      <td>苹果汁</td>\n",
       "      <td>3</td>\n",
       "      <td>10000</td>\n",
       "      <td>工厂-&gt;客户</td>\n",
       "    </tr>\n",
       "    <tr>\n",
       "      <th>18</th>\n",
       "      <td>上海分仓</td>\n",
       "      <td>沈阳客户</td>\n",
       "      <td>苹果汁</td>\n",
       "      <td>1</td>\n",
       "      <td>5000</td>\n",
       "      <td>分仓-&gt;客户</td>\n",
       "    </tr>\n",
       "    <tr>\n",
       "      <th>19</th>\n",
       "      <td>上海分仓</td>\n",
       "      <td>沈阳客户</td>\n",
       "      <td>苹果汁</td>\n",
       "      <td>2</td>\n",
       "      <td>6000</td>\n",
       "      <td>分仓-&gt;客户</td>\n",
       "    </tr>\n",
       "    <tr>\n",
       "      <th>20</th>\n",
       "      <td>上海分仓</td>\n",
       "      <td>沈阳客户</td>\n",
       "      <td>苹果汁</td>\n",
       "      <td>3</td>\n",
       "      <td>7000</td>\n",
       "      <td>分仓-&gt;客户</td>\n",
       "    </tr>\n",
       "    <tr>\n",
       "      <th>21</th>\n",
       "      <td>武汉分仓</td>\n",
       "      <td>成都客户</td>\n",
       "      <td>橙汁</td>\n",
       "      <td>1</td>\n",
       "      <td>12000</td>\n",
       "      <td>分仓-&gt;客户</td>\n",
       "    </tr>\n",
       "    <tr>\n",
       "      <th>22</th>\n",
       "      <td>武汉分仓</td>\n",
       "      <td>成都客户</td>\n",
       "      <td>橙汁</td>\n",
       "      <td>2</td>\n",
       "      <td>10000</td>\n",
       "      <td>分仓-&gt;客户</td>\n",
       "    </tr>\n",
       "    <tr>\n",
       "      <th>23</th>\n",
       "      <td>武汉分仓</td>\n",
       "      <td>成都客户</td>\n",
       "      <td>橙汁</td>\n",
       "      <td>3</td>\n",
       "      <td>14000</td>\n",
       "      <td>分仓-&gt;客户</td>\n",
       "    </tr>\n",
       "    <tr>\n",
       "      <th>24</th>\n",
       "      <td>武汉分仓</td>\n",
       "      <td>成都客户</td>\n",
       "      <td>苹果汁</td>\n",
       "      <td>1</td>\n",
       "      <td>7000</td>\n",
       "      <td>分仓-&gt;客户</td>\n",
       "    </tr>\n",
       "    <tr>\n",
       "      <th>25</th>\n",
       "      <td>武汉分仓</td>\n",
       "      <td>成都客户</td>\n",
       "      <td>苹果汁</td>\n",
       "      <td>2</td>\n",
       "      <td>6000</td>\n",
       "      <td>分仓-&gt;客户</td>\n",
       "    </tr>\n",
       "    <tr>\n",
       "      <th>26</th>\n",
       "      <td>武汉分仓</td>\n",
       "      <td>成都客户</td>\n",
       "      <td>苹果汁</td>\n",
       "      <td>3</td>\n",
       "      <td>8000</td>\n",
       "      <td>分仓-&gt;客户</td>\n",
       "    </tr>\n",
       "  </tbody>\n",
       "</table>\n",
       "</div>"
      ],
      "text/plain": [
       "      起点    终点   产品  周期（旬）     数量      类型\n",
       "0   广州工厂  上海分仓  苹果汁      1   5000  工厂->分仓\n",
       "1   广州工厂  上海分仓  苹果汁      2   6000  工厂->分仓\n",
       "2   广州工厂  上海分仓  苹果汁      3   7000  工厂->分仓\n",
       "3   广州工厂  武汉分仓   橙汁      1  12000  工厂->分仓\n",
       "4   广州工厂  武汉分仓   橙汁      2  10000  工厂->分仓\n",
       "5   广州工厂  武汉分仓   橙汁      3  14000  工厂->分仓\n",
       "6   广州工厂  武汉分仓  苹果汁      1   7000  工厂->分仓\n",
       "7   广州工厂  武汉分仓  苹果汁      2   6000  工厂->分仓\n",
       "8   广州工厂  武汉分仓  苹果汁      3   8000  工厂->分仓\n",
       "9   北京工厂  沈阳客户   橙汁      1  10000  工厂->客户\n",
       "10  北京工厂  沈阳客户   橙汁      2  12000  工厂->客户\n",
       "11  北京工厂  沈阳客户   橙汁      3   8000  工厂->客户\n",
       "12  广州工厂  深圳客户   橙汁      1  15000  工厂->客户\n",
       "13  广州工厂  深圳客户   橙汁      2  18000  工厂->客户\n",
       "14  广州工厂  深圳客户   橙汁      3  16000  工厂->客户\n",
       "15  广州工厂  深圳客户  苹果汁      1   8000  工厂->客户\n",
       "16  广州工厂  深圳客户  苹果汁      2   9000  工厂->客户\n",
       "17  广州工厂  深圳客户  苹果汁      3  10000  工厂->客户\n",
       "18  上海分仓  沈阳客户  苹果汁      1   5000  分仓->客户\n",
       "19  上海分仓  沈阳客户  苹果汁      2   6000  分仓->客户\n",
       "20  上海分仓  沈阳客户  苹果汁      3   7000  分仓->客户\n",
       "21  武汉分仓  成都客户   橙汁      1  12000  分仓->客户\n",
       "22  武汉分仓  成都客户   橙汁      2  10000  分仓->客户\n",
       "23  武汉分仓  成都客户   橙汁      3  14000  分仓->客户\n",
       "24  武汉分仓  成都客户  苹果汁      1   7000  分仓->客户\n",
       "25  武汉分仓  成都客户  苹果汁      2   6000  分仓->客户\n",
       "26  武汉分仓  成都客户  苹果汁      3   8000  分仓->客户"
      ]
     },
     "metadata": {},
     "output_type": "display_data"
    },
    {
     "data": {
      "text/html": [
       "<div style=\"width:100%;\"><div style=\"position:relative;width:100%;height:0;padding-bottom:60%;\"><span style=\"color:#565656\">Make this Notebook Trusted to load map: File -> Trust Notebook</span><iframe srcdoc=\"&lt;!DOCTYPE html&gt;\n",
       "&lt;html&gt;\n",
       "&lt;head&gt;\n",
       "    \n",
       "    &lt;meta http-equiv=&quot;content-type&quot; content=&quot;text/html; charset=UTF-8&quot; /&gt;\n",
       "    &lt;script src=&quot;https://cdn.jsdelivr.net/npm/leaflet@1.9.3/dist/leaflet.js&quot;&gt;&lt;/script&gt;\n",
       "    &lt;script src=&quot;https://code.jquery.com/jquery-3.7.1.min.js&quot;&gt;&lt;/script&gt;\n",
       "    &lt;script src=&quot;https://cdn.jsdelivr.net/npm/bootstrap@5.2.2/dist/js/bootstrap.bundle.min.js&quot;&gt;&lt;/script&gt;\n",
       "    &lt;script src=&quot;https://cdnjs.cloudflare.com/ajax/libs/Leaflet.awesome-markers/2.0.2/leaflet.awesome-markers.js&quot;&gt;&lt;/script&gt;\n",
       "    &lt;link rel=&quot;stylesheet&quot; href=&quot;https://cdn.jsdelivr.net/npm/leaflet@1.9.3/dist/leaflet.css&quot;/&gt;\n",
       "    &lt;link rel=&quot;stylesheet&quot; href=&quot;https://cdn.jsdelivr.net/npm/bootstrap@5.2.2/dist/css/bootstrap.min.css&quot;/&gt;\n",
       "    &lt;link rel=&quot;stylesheet&quot; href=&quot;https://netdna.bootstrapcdn.com/bootstrap/3.0.0/css/bootstrap-glyphicons.css&quot;/&gt;\n",
       "    &lt;link rel=&quot;stylesheet&quot; href=&quot;https://cdn.jsdelivr.net/npm/@fortawesome/fontawesome-free@6.2.0/css/all.min.css&quot;/&gt;\n",
       "    &lt;link rel=&quot;stylesheet&quot; href=&quot;https://cdnjs.cloudflare.com/ajax/libs/Leaflet.awesome-markers/2.0.2/leaflet.awesome-markers.css&quot;/&gt;\n",
       "    &lt;link rel=&quot;stylesheet&quot; href=&quot;https://cdn.jsdelivr.net/gh/python-visualization/folium/folium/templates/leaflet.awesome.rotate.min.css&quot;/&gt;\n",
       "    \n",
       "            &lt;meta name=&quot;viewport&quot; content=&quot;width=device-width,\n",
       "                initial-scale=1.0, maximum-scale=1.0, user-scalable=no&quot; /&gt;\n",
       "            &lt;style&gt;\n",
       "                #map_e8a762f94c93c6d810e0a0b3bd8bc3f0 {\n",
       "                    position: relative;\n",
       "                    width: 100.0%;\n",
       "                    height: 100.0%;\n",
       "                    left: 0.0%;\n",
       "                    top: 0.0%;\n",
       "                }\n",
       "                .leaflet-container { font-size: 1rem; }\n",
       "            &lt;/style&gt;\n",
       "\n",
       "            &lt;style&gt;html, body {\n",
       "                width: 100%;\n",
       "                height: 100%;\n",
       "                margin: 0;\n",
       "                padding: 0;\n",
       "            }\n",
       "            &lt;/style&gt;\n",
       "\n",
       "            &lt;style&gt;#map {\n",
       "                position:absolute;\n",
       "                top:0;\n",
       "                bottom:0;\n",
       "                right:0;\n",
       "                left:0;\n",
       "                }\n",
       "            &lt;/style&gt;\n",
       "\n",
       "            &lt;script&gt;\n",
       "                L_NO_TOUCH = false;\n",
       "                L_DISABLE_3D = false;\n",
       "            &lt;/script&gt;\n",
       "\n",
       "        \n",
       "    &lt;script src=&quot;https://cdnjs.cloudflare.com/ajax/libs/leaflet.markercluster/1.1.0/leaflet.markercluster.js&quot;&gt;&lt;/script&gt;\n",
       "    &lt;link rel=&quot;stylesheet&quot; href=&quot;https://cdnjs.cloudflare.com/ajax/libs/leaflet.markercluster/1.1.0/MarkerCluster.css&quot;/&gt;\n",
       "    &lt;link rel=&quot;stylesheet&quot; href=&quot;https://cdnjs.cloudflare.com/ajax/libs/leaflet.markercluster/1.1.0/MarkerCluster.Default.css&quot;/&gt;\n",
       "    &lt;script src=&quot;https://cdn.jsdelivr.net/npm/leaflet-textpath@1.2.3/leaflet.textpath.min.js&quot;&gt;&lt;/script&gt;\n",
       "    &lt;script src=&quot;https://cdn.jsdelivr.net/npm/leaflet.fullscreen@3.0.0/Control.FullScreen.min.js&quot;&gt;&lt;/script&gt;\n",
       "    &lt;link rel=&quot;stylesheet&quot; href=&quot;https://cdn.jsdelivr.net/npm/leaflet.fullscreen@3.0.0/Control.FullScreen.css&quot;/&gt;\n",
       "&lt;/head&gt;\n",
       "&lt;body&gt;\n",
       "    \n",
       "    \n",
       "            &lt;div class=&quot;folium-map&quot; id=&quot;map_e8a762f94c93c6d810e0a0b3bd8bc3f0&quot; &gt;&lt;/div&gt;\n",
       "        \n",
       "&lt;/body&gt;\n",
       "&lt;script&gt;\n",
       "    \n",
       "    \n",
       "            var map_e8a762f94c93c6d810e0a0b3bd8bc3f0 = L.map(\n",
       "                &quot;map_e8a762f94c93c6d810e0a0b3bd8bc3f0&quot;,\n",
       "                {\n",
       "                    center: [34.7, 108.9],\n",
       "                    crs: L.CRS.EPSG3857,\n",
       "                    ...{\n",
       "  &quot;zoom&quot;: 4,\n",
       "  &quot;zoomControl&quot;: true,\n",
       "  &quot;preferCanvas&quot;: false,\n",
       "}\n",
       "\n",
       "                }\n",
       "            );\n",
       "\n",
       "            \n",
       "\n",
       "        \n",
       "    \n",
       "            var tile_layer_8ffb234d9178bec96ff98784eb704a7c = L.tileLayer(\n",
       "                &quot;https://tile.openstreetmap.org/{z}/{x}/{y}.png&quot;,\n",
       "                {\n",
       "  &quot;minZoom&quot;: 0,\n",
       "  &quot;maxZoom&quot;: 19,\n",
       "  &quot;maxNativeZoom&quot;: 19,\n",
       "  &quot;noWrap&quot;: false,\n",
       "  &quot;attribution&quot;: &quot;\\u0026copy; \\u003ca href=\\&quot;https://www.openstreetmap.org/copyright\\&quot;\\u003eOpenStreetMap\\u003c/a\\u003e contributors&quot;,\n",
       "  &quot;subdomains&quot;: &quot;abc&quot;,\n",
       "  &quot;detectRetina&quot;: false,\n",
       "  &quot;tms&quot;: false,\n",
       "  &quot;opacity&quot;: 1,\n",
       "}\n",
       "\n",
       "            );\n",
       "        \n",
       "    \n",
       "            tile_layer_8ffb234d9178bec96ff98784eb704a7c.addTo(map_e8a762f94c93c6d810e0a0b3bd8bc3f0);\n",
       "        \n",
       "    \n",
       "            var marker_cluster_352e9eb03dd92f2b27319673c205aa77 = L.markerClusterGroup(\n",
       "                {\n",
       "}\n",
       "            );\n",
       "        \n",
       "    \n",
       "            var marker_2540518e686b1dbb287ba0fc9af3db50 = L.marker(\n",
       "                [39.9042, 116.4074],\n",
       "                {\n",
       "}\n",
       "            ).addTo(marker_cluster_352e9eb03dd92f2b27319673c205aa77);\n",
       "        \n",
       "    \n",
       "            var icon_c4eee4c07f25bd2aa345a05104e28a87 = L.AwesomeMarkers.icon(\n",
       "                {\n",
       "  &quot;markerColor&quot;: &quot;red&quot;,\n",
       "  &quot;iconColor&quot;: &quot;white&quot;,\n",
       "  &quot;icon&quot;: &quot;industry&quot;,\n",
       "  &quot;prefix&quot;: &quot;fa&quot;,\n",
       "  &quot;extraClasses&quot;: &quot;fa-rotate-0&quot;,\n",
       "}\n",
       "            );\n",
       "        \n",
       "    \n",
       "        var popup_4f2b1d853372fb95059f5f5de5657c2d = L.popup({\n",
       "  &quot;maxWidth&quot;: &quot;100%&quot;,\n",
       "});\n",
       "\n",
       "        \n",
       "            \n",
       "                var html_90d192d9b39660ff347b9f9e4d866b61 = $(`&lt;div id=&quot;html_90d192d9b39660ff347b9f9e4d866b61&quot; style=&quot;width: 100.0%; height: 100.0%;&quot;&gt;北京工厂&lt;/div&gt;`)[0];\n",
       "                popup_4f2b1d853372fb95059f5f5de5657c2d.setContent(html_90d192d9b39660ff347b9f9e4d866b61);\n",
       "            \n",
       "        \n",
       "\n",
       "        marker_2540518e686b1dbb287ba0fc9af3db50.bindPopup(popup_4f2b1d853372fb95059f5f5de5657c2d)\n",
       "        ;\n",
       "\n",
       "        \n",
       "    \n",
       "    \n",
       "            marker_2540518e686b1dbb287ba0fc9af3db50.bindTooltip(\n",
       "                `&lt;div&gt;\n",
       "                     北京工厂 (工厂)\n",
       "                 &lt;/div&gt;`,\n",
       "                {\n",
       "  &quot;sticky&quot;: true,\n",
       "}\n",
       "            );\n",
       "        \n",
       "    \n",
       "                marker_2540518e686b1dbb287ba0fc9af3db50.setIcon(icon_c4eee4c07f25bd2aa345a05104e28a87);\n",
       "            \n",
       "    \n",
       "            var marker_69263fc6ae3fe935120c131f79d94659 = L.marker(\n",
       "                [23.1291, 113.2644],\n",
       "                {\n",
       "}\n",
       "            ).addTo(marker_cluster_352e9eb03dd92f2b27319673c205aa77);\n",
       "        \n",
       "    \n",
       "            var icon_d5a5b5f76400bac4f8283aab9a986dfb = L.AwesomeMarkers.icon(\n",
       "                {\n",
       "  &quot;markerColor&quot;: &quot;red&quot;,\n",
       "  &quot;iconColor&quot;: &quot;white&quot;,\n",
       "  &quot;icon&quot;: &quot;industry&quot;,\n",
       "  &quot;prefix&quot;: &quot;fa&quot;,\n",
       "  &quot;extraClasses&quot;: &quot;fa-rotate-0&quot;,\n",
       "}\n",
       "            );\n",
       "        \n",
       "    \n",
       "        var popup_767211b35806a2c8c89753e665015a00 = L.popup({\n",
       "  &quot;maxWidth&quot;: &quot;100%&quot;,\n",
       "});\n",
       "\n",
       "        \n",
       "            \n",
       "                var html_99989f24de6fe58af7fc7517bbd3dda5 = $(`&lt;div id=&quot;html_99989f24de6fe58af7fc7517bbd3dda5&quot; style=&quot;width: 100.0%; height: 100.0%;&quot;&gt;广州工厂&lt;/div&gt;`)[0];\n",
       "                popup_767211b35806a2c8c89753e665015a00.setContent(html_99989f24de6fe58af7fc7517bbd3dda5);\n",
       "            \n",
       "        \n",
       "\n",
       "        marker_69263fc6ae3fe935120c131f79d94659.bindPopup(popup_767211b35806a2c8c89753e665015a00)\n",
       "        ;\n",
       "\n",
       "        \n",
       "    \n",
       "    \n",
       "            marker_69263fc6ae3fe935120c131f79d94659.bindTooltip(\n",
       "                `&lt;div&gt;\n",
       "                     广州工厂 (工厂)\n",
       "                 &lt;/div&gt;`,\n",
       "                {\n",
       "  &quot;sticky&quot;: true,\n",
       "}\n",
       "            );\n",
       "        \n",
       "    \n",
       "                marker_69263fc6ae3fe935120c131f79d94659.setIcon(icon_d5a5b5f76400bac4f8283aab9a986dfb);\n",
       "            \n",
       "    \n",
       "            var marker_144884ae623af93db8ee076847fbeda6 = L.marker(\n",
       "                [31.2304, 121.4737],\n",
       "                {\n",
       "}\n",
       "            ).addTo(marker_cluster_352e9eb03dd92f2b27319673c205aa77);\n",
       "        \n",
       "    \n",
       "            var icon_1bdab61db50538fb2bbf6aa219eb4d0c = L.AwesomeMarkers.icon(\n",
       "                {\n",
       "  &quot;markerColor&quot;: &quot;blue&quot;,\n",
       "  &quot;iconColor&quot;: &quot;white&quot;,\n",
       "  &quot;icon&quot;: &quot;warehouse&quot;,\n",
       "  &quot;prefix&quot;: &quot;fa&quot;,\n",
       "  &quot;extraClasses&quot;: &quot;fa-rotate-0&quot;,\n",
       "}\n",
       "            );\n",
       "        \n",
       "    \n",
       "        var popup_213613336ec73529df46ad04ab6ff089 = L.popup({\n",
       "  &quot;maxWidth&quot;: &quot;100%&quot;,\n",
       "});\n",
       "\n",
       "        \n",
       "            \n",
       "                var html_3e6fb58454ed49a9ee3ca09fbaab798e = $(`&lt;div id=&quot;html_3e6fb58454ed49a9ee3ca09fbaab798e&quot; style=&quot;width: 100.0%; height: 100.0%;&quot;&gt;上海分仓&lt;/div&gt;`)[0];\n",
       "                popup_213613336ec73529df46ad04ab6ff089.setContent(html_3e6fb58454ed49a9ee3ca09fbaab798e);\n",
       "            \n",
       "        \n",
       "\n",
       "        marker_144884ae623af93db8ee076847fbeda6.bindPopup(popup_213613336ec73529df46ad04ab6ff089)\n",
       "        ;\n",
       "\n",
       "        \n",
       "    \n",
       "    \n",
       "            marker_144884ae623af93db8ee076847fbeda6.bindTooltip(\n",
       "                `&lt;div&gt;\n",
       "                     上海分仓 (分仓)\n",
       "                 &lt;/div&gt;`,\n",
       "                {\n",
       "  &quot;sticky&quot;: true,\n",
       "}\n",
       "            );\n",
       "        \n",
       "    \n",
       "                marker_144884ae623af93db8ee076847fbeda6.setIcon(icon_1bdab61db50538fb2bbf6aa219eb4d0c);\n",
       "            \n",
       "    \n",
       "            var marker_efe4a8540d53a85071c7f32a746eb314 = L.marker(\n",
       "                [30.5928, 114.3055],\n",
       "                {\n",
       "}\n",
       "            ).addTo(marker_cluster_352e9eb03dd92f2b27319673c205aa77);\n",
       "        \n",
       "    \n",
       "            var icon_0f0c29e79f4574d749c050dab119765d = L.AwesomeMarkers.icon(\n",
       "                {\n",
       "  &quot;markerColor&quot;: &quot;blue&quot;,\n",
       "  &quot;iconColor&quot;: &quot;white&quot;,\n",
       "  &quot;icon&quot;: &quot;warehouse&quot;,\n",
       "  &quot;prefix&quot;: &quot;fa&quot;,\n",
       "  &quot;extraClasses&quot;: &quot;fa-rotate-0&quot;,\n",
       "}\n",
       "            );\n",
       "        \n",
       "    \n",
       "        var popup_147ad4dc1e78ffd689bab9e275bb0635 = L.popup({\n",
       "  &quot;maxWidth&quot;: &quot;100%&quot;,\n",
       "});\n",
       "\n",
       "        \n",
       "            \n",
       "                var html_89dc6d5bc0e60fb5f58429daf49c1dae = $(`&lt;div id=&quot;html_89dc6d5bc0e60fb5f58429daf49c1dae&quot; style=&quot;width: 100.0%; height: 100.0%;&quot;&gt;武汉分仓&lt;/div&gt;`)[0];\n",
       "                popup_147ad4dc1e78ffd689bab9e275bb0635.setContent(html_89dc6d5bc0e60fb5f58429daf49c1dae);\n",
       "            \n",
       "        \n",
       "\n",
       "        marker_efe4a8540d53a85071c7f32a746eb314.bindPopup(popup_147ad4dc1e78ffd689bab9e275bb0635)\n",
       "        ;\n",
       "\n",
       "        \n",
       "    \n",
       "    \n",
       "            marker_efe4a8540d53a85071c7f32a746eb314.bindTooltip(\n",
       "                `&lt;div&gt;\n",
       "                     武汉分仓 (分仓)\n",
       "                 &lt;/div&gt;`,\n",
       "                {\n",
       "  &quot;sticky&quot;: true,\n",
       "}\n",
       "            );\n",
       "        \n",
       "    \n",
       "                marker_efe4a8540d53a85071c7f32a746eb314.setIcon(icon_0f0c29e79f4574d749c050dab119765d);\n",
       "            \n",
       "    \n",
       "            var marker_184990be7e2d8581531c908d8bdcc008 = L.marker(\n",
       "                [41.7963, 123.4315],\n",
       "                {\n",
       "}\n",
       "            ).addTo(marker_cluster_352e9eb03dd92f2b27319673c205aa77);\n",
       "        \n",
       "    \n",
       "            var icon_0001597a7ed25f7490703a166b3eb0ba = L.AwesomeMarkers.icon(\n",
       "                {\n",
       "  &quot;markerColor&quot;: &quot;green&quot;,\n",
       "  &quot;iconColor&quot;: &quot;white&quot;,\n",
       "  &quot;icon&quot;: &quot;user&quot;,\n",
       "  &quot;prefix&quot;: &quot;fa&quot;,\n",
       "  &quot;extraClasses&quot;: &quot;fa-rotate-0&quot;,\n",
       "}\n",
       "            );\n",
       "        \n",
       "    \n",
       "        var popup_4464c693f7a574e25cc06f3173d10f7a = L.popup({\n",
       "  &quot;maxWidth&quot;: &quot;100%&quot;,\n",
       "});\n",
       "\n",
       "        \n",
       "            \n",
       "                var html_b290fd4c68640ca514b8b30d2935a295 = $(`&lt;div id=&quot;html_b290fd4c68640ca514b8b30d2935a295&quot; style=&quot;width: 100.0%; height: 100.0%;&quot;&gt;沈阳客户&lt;/div&gt;`)[0];\n",
       "                popup_4464c693f7a574e25cc06f3173d10f7a.setContent(html_b290fd4c68640ca514b8b30d2935a295);\n",
       "            \n",
       "        \n",
       "\n",
       "        marker_184990be7e2d8581531c908d8bdcc008.bindPopup(popup_4464c693f7a574e25cc06f3173d10f7a)\n",
       "        ;\n",
       "\n",
       "        \n",
       "    \n",
       "    \n",
       "            marker_184990be7e2d8581531c908d8bdcc008.bindTooltip(\n",
       "                `&lt;div&gt;\n",
       "                     沈阳客户 (客户)\n",
       "                 &lt;/div&gt;`,\n",
       "                {\n",
       "  &quot;sticky&quot;: true,\n",
       "}\n",
       "            );\n",
       "        \n",
       "    \n",
       "                marker_184990be7e2d8581531c908d8bdcc008.setIcon(icon_0001597a7ed25f7490703a166b3eb0ba);\n",
       "            \n",
       "    \n",
       "            var marker_911e6899432c0d8825b3f480a547fef3 = L.marker(\n",
       "                [22.5431, 114.0579],\n",
       "                {\n",
       "}\n",
       "            ).addTo(marker_cluster_352e9eb03dd92f2b27319673c205aa77);\n",
       "        \n",
       "    \n",
       "            var icon_6408e0fcf5a9d3107c88421a28d7d00f = L.AwesomeMarkers.icon(\n",
       "                {\n",
       "  &quot;markerColor&quot;: &quot;green&quot;,\n",
       "  &quot;iconColor&quot;: &quot;white&quot;,\n",
       "  &quot;icon&quot;: &quot;user&quot;,\n",
       "  &quot;prefix&quot;: &quot;fa&quot;,\n",
       "  &quot;extraClasses&quot;: &quot;fa-rotate-0&quot;,\n",
       "}\n",
       "            );\n",
       "        \n",
       "    \n",
       "        var popup_4bb3fc0353fd227784970c4d216cd46a = L.popup({\n",
       "  &quot;maxWidth&quot;: &quot;100%&quot;,\n",
       "});\n",
       "\n",
       "        \n",
       "            \n",
       "                var html_5dfedb33577ebdfafb3f064483375e88 = $(`&lt;div id=&quot;html_5dfedb33577ebdfafb3f064483375e88&quot; style=&quot;width: 100.0%; height: 100.0%;&quot;&gt;深圳客户&lt;/div&gt;`)[0];\n",
       "                popup_4bb3fc0353fd227784970c4d216cd46a.setContent(html_5dfedb33577ebdfafb3f064483375e88);\n",
       "            \n",
       "        \n",
       "\n",
       "        marker_911e6899432c0d8825b3f480a547fef3.bindPopup(popup_4bb3fc0353fd227784970c4d216cd46a)\n",
       "        ;\n",
       "\n",
       "        \n",
       "    \n",
       "    \n",
       "            marker_911e6899432c0d8825b3f480a547fef3.bindTooltip(\n",
       "                `&lt;div&gt;\n",
       "                     深圳客户 (客户)\n",
       "                 &lt;/div&gt;`,\n",
       "                {\n",
       "  &quot;sticky&quot;: true,\n",
       "}\n",
       "            );\n",
       "        \n",
       "    \n",
       "                marker_911e6899432c0d8825b3f480a547fef3.setIcon(icon_6408e0fcf5a9d3107c88421a28d7d00f);\n",
       "            \n",
       "    \n",
       "            var marker_d85aa32e2ddfa287592441821665cae3 = L.marker(\n",
       "                [30.5728, 104.0668],\n",
       "                {\n",
       "}\n",
       "            ).addTo(marker_cluster_352e9eb03dd92f2b27319673c205aa77);\n",
       "        \n",
       "    \n",
       "            var icon_9865f712fce75b4c344b70d3cb4a334a = L.AwesomeMarkers.icon(\n",
       "                {\n",
       "  &quot;markerColor&quot;: &quot;green&quot;,\n",
       "  &quot;iconColor&quot;: &quot;white&quot;,\n",
       "  &quot;icon&quot;: &quot;user&quot;,\n",
       "  &quot;prefix&quot;: &quot;fa&quot;,\n",
       "  &quot;extraClasses&quot;: &quot;fa-rotate-0&quot;,\n",
       "}\n",
       "            );\n",
       "        \n",
       "    \n",
       "        var popup_1ccff95210556ef92548406524ca3011 = L.popup({\n",
       "  &quot;maxWidth&quot;: &quot;100%&quot;,\n",
       "});\n",
       "\n",
       "        \n",
       "            \n",
       "                var html_705d11adfafd934f26047bb87b6a4b3a = $(`&lt;div id=&quot;html_705d11adfafd934f26047bb87b6a4b3a&quot; style=&quot;width: 100.0%; height: 100.0%;&quot;&gt;成都客户&lt;/div&gt;`)[0];\n",
       "                popup_1ccff95210556ef92548406524ca3011.setContent(html_705d11adfafd934f26047bb87b6a4b3a);\n",
       "            \n",
       "        \n",
       "\n",
       "        marker_d85aa32e2ddfa287592441821665cae3.bindPopup(popup_1ccff95210556ef92548406524ca3011)\n",
       "        ;\n",
       "\n",
       "        \n",
       "    \n",
       "    \n",
       "            marker_d85aa32e2ddfa287592441821665cae3.bindTooltip(\n",
       "                `&lt;div&gt;\n",
       "                     成都客户 (客户)\n",
       "                 &lt;/div&gt;`,\n",
       "                {\n",
       "  &quot;sticky&quot;: true,\n",
       "}\n",
       "            );\n",
       "        \n",
       "    \n",
       "                marker_d85aa32e2ddfa287592441821665cae3.setIcon(icon_9865f712fce75b4c344b70d3cb4a334a);\n",
       "            \n",
       "    \n",
       "            marker_cluster_352e9eb03dd92f2b27319673c205aa77.addTo(map_e8a762f94c93c6d810e0a0b3bd8bc3f0);\n",
       "        \n",
       "    \n",
       "            var feature_group_bb135f432167e9291bebc39594f0320b = L.featureGroup(\n",
       "                {\n",
       "}\n",
       "            );\n",
       "        \n",
       "    \n",
       "            var poly_line_ae2a79c5ea3269f1378c3d4465b6edd9 = L.polyline(\n",
       "                [[23.1291, 113.2644], [30.5928, 114.3055]],\n",
       "                {&quot;bubblingMouseEvents&quot;: true, &quot;color&quot;: &quot;orange&quot;, &quot;dashArray&quot;: null, &quot;dashOffset&quot;: null, &quot;fill&quot;: false, &quot;fillColor&quot;: &quot;orange&quot;, &quot;fillOpacity&quot;: 0.2, &quot;fillRule&quot;: &quot;evenodd&quot;, &quot;lineCap&quot;: &quot;round&quot;, &quot;lineJoin&quot;: &quot;round&quot;, &quot;noClip&quot;: false, &quot;opacity&quot;: 0.8, &quot;smoothFactor&quot;: 1.0, &quot;stroke&quot;: true, &quot;weight&quot;: 4.333333333333333}\n",
       "            ).addTo(feature_group_bb135f432167e9291bebc39594f0320b);\n",
       "        \n",
       "    \n",
       "            poly_line_ae2a79c5ea3269f1378c3d4465b6edd9.bindTooltip(\n",
       "                `&lt;div&gt;\n",
       "                     从 广州工厂 到 武汉分仓\n",
       "                 &lt;/div&gt;`,\n",
       "                {\n",
       "  &quot;sticky&quot;: true,\n",
       "}\n",
       "            );\n",
       "        \n",
       "    \n",
       "            var marker_18fe42baecf2d61eba3b031951a1f293 = L.marker(\n",
       "                [26.860950000000003, 113.78495],\n",
       "                {\n",
       "}\n",
       "            ).addTo(feature_group_bb135f432167e9291bebc39594f0320b);\n",
       "        \n",
       "    \n",
       "            var div_icon_26bcb78749be404454af8bb6e4f53236 = L.divIcon({\n",
       "  &quot;html&quot;: &quot;\\n                        \\u003cdiv style=\\&quot;white-space: nowrap; font-size: 10px; color: orange; font-weight: bold;\\&quot;\\u003e\\n                            \\u6a59\\u6c41\\u003cbr\\u003e\\n                            12000\\u4ef6\\n                        \\u003c/div\\u003e\\n                    &quot;,\n",
       "  &quot;className&quot;: &quot;empty&quot;,\n",
       "});\n",
       "        \n",
       "    \n",
       "                marker_18fe42baecf2d61eba3b031951a1f293.setIcon(div_icon_26bcb78749be404454af8bb6e4f53236);\n",
       "            \n",
       "    \n",
       "            poly_line_ae2a79c5ea3269f1378c3d4465b6edd9.setText(\n",
       "                &quot;\\u25b6&quot;,\n",
       "                {\n",
       "  &quot;repeat&quot;: false,\n",
       "  &quot;center&quot;: false,\n",
       "  &quot;below&quot;: false,\n",
       "  &quot;offset&quot;: &quot;100%&quot;,\n",
       "  &quot;orientation&quot;: 0,\n",
       "  &quot;attributes&quot;: {\n",
       "  &quot;fill&quot;: &quot;orange&quot;,\n",
       "  &quot;font-size&quot;: &quot;15px&quot;,\n",
       "},\n",
       "}\n",
       "            );\n",
       "        \n",
       "    \n",
       "            var poly_line_59acabb3bbe47b38effb5afcad9da0ec = L.polyline(\n",
       "                [[39.9042, 116.4074], [41.7963, 123.4315]],\n",
       "                {&quot;bubblingMouseEvents&quot;: true, &quot;color&quot;: &quot;orange&quot;, &quot;dashArray&quot;: null, &quot;dashOffset&quot;: null, &quot;fill&quot;: false, &quot;fillColor&quot;: &quot;orange&quot;, &quot;fillOpacity&quot;: 0.2, &quot;fillRule&quot;: &quot;evenodd&quot;, &quot;lineCap&quot;: &quot;round&quot;, &quot;lineJoin&quot;: &quot;round&quot;, &quot;noClip&quot;: false, &quot;opacity&quot;: 0.8, &quot;smoothFactor&quot;: 1.0, &quot;stroke&quot;: true, &quot;weight&quot;: 3.7777777777777777}\n",
       "            ).addTo(feature_group_bb135f432167e9291bebc39594f0320b);\n",
       "        \n",
       "    \n",
       "            poly_line_59acabb3bbe47b38effb5afcad9da0ec.bindTooltip(\n",
       "                `&lt;div&gt;\n",
       "                     从 北京工厂 到 沈阳客户\n",
       "                 &lt;/div&gt;`,\n",
       "                {\n",
       "  &quot;sticky&quot;: true,\n",
       "}\n",
       "            );\n",
       "        \n",
       "    \n",
       "            var marker_596f04c17b096e1352640b8c2d425633 = L.marker(\n",
       "                [40.85025, 119.91945],\n",
       "                {\n",
       "}\n",
       "            ).addTo(feature_group_bb135f432167e9291bebc39594f0320b);\n",
       "        \n",
       "    \n",
       "            var div_icon_afbfc6b1bc81b7e87bc667c9fb1269f1 = L.divIcon({\n",
       "  &quot;html&quot;: &quot;\\n                        \\u003cdiv style=\\&quot;white-space: nowrap; font-size: 10px; color: orange; font-weight: bold;\\&quot;\\u003e\\n                            \\u6a59\\u6c41\\u003cbr\\u003e\\n                            10000\\u4ef6\\n                        \\u003c/div\\u003e\\n                    &quot;,\n",
       "  &quot;className&quot;: &quot;empty&quot;,\n",
       "});\n",
       "        \n",
       "    \n",
       "                marker_596f04c17b096e1352640b8c2d425633.setIcon(div_icon_afbfc6b1bc81b7e87bc667c9fb1269f1);\n",
       "            \n",
       "    \n",
       "            poly_line_59acabb3bbe47b38effb5afcad9da0ec.setText(\n",
       "                &quot;\\u25b6&quot;,\n",
       "                {\n",
       "  &quot;repeat&quot;: false,\n",
       "  &quot;center&quot;: false,\n",
       "  &quot;below&quot;: false,\n",
       "  &quot;offset&quot;: &quot;100%&quot;,\n",
       "  &quot;orientation&quot;: 0,\n",
       "  &quot;attributes&quot;: {\n",
       "  &quot;fill&quot;: &quot;orange&quot;,\n",
       "  &quot;font-size&quot;: &quot;15px&quot;,\n",
       "},\n",
       "}\n",
       "            );\n",
       "        \n",
       "    \n",
       "            var poly_line_bd6639fb5fc8c3fdd8e4b9a816630274 = L.polyline(\n",
       "                [[23.1291, 113.2644], [22.5431, 114.0579]],\n",
       "                {&quot;bubblingMouseEvents&quot;: true, &quot;color&quot;: &quot;orange&quot;, &quot;dashArray&quot;: null, &quot;dashOffset&quot;: null, &quot;fill&quot;: false, &quot;fillColor&quot;: &quot;orange&quot;, &quot;fillOpacity&quot;: 0.2, &quot;fillRule&quot;: &quot;evenodd&quot;, &quot;lineCap&quot;: &quot;round&quot;, &quot;lineJoin&quot;: &quot;round&quot;, &quot;noClip&quot;: false, &quot;opacity&quot;: 0.8, &quot;smoothFactor&quot;: 1.0, &quot;stroke&quot;: true, &quot;weight&quot;: 5.166666666666667}\n",
       "            ).addTo(feature_group_bb135f432167e9291bebc39594f0320b);\n",
       "        \n",
       "    \n",
       "            poly_line_bd6639fb5fc8c3fdd8e4b9a816630274.bindTooltip(\n",
       "                `&lt;div&gt;\n",
       "                     从 广州工厂 到 深圳客户\n",
       "                 &lt;/div&gt;`,\n",
       "                {\n",
       "  &quot;sticky&quot;: true,\n",
       "}\n",
       "            );\n",
       "        \n",
       "    \n",
       "            var marker_afc94f309c26a447be00e5c3b6567262 = L.marker(\n",
       "                [22.836100000000002, 113.66114999999999],\n",
       "                {\n",
       "}\n",
       "            ).addTo(feature_group_bb135f432167e9291bebc39594f0320b);\n",
       "        \n",
       "    \n",
       "            var div_icon_e4e1bb6cf3a32c6353ce03ee9ab153a5 = L.divIcon({\n",
       "  &quot;html&quot;: &quot;\\n                        \\u003cdiv style=\\&quot;white-space: nowrap; font-size: 10px; color: orange; font-weight: bold;\\&quot;\\u003e\\n                            \\u6a59\\u6c41\\u003cbr\\u003e\\n                            15000\\u4ef6\\n                        \\u003c/div\\u003e\\n                    &quot;,\n",
       "  &quot;className&quot;: &quot;empty&quot;,\n",
       "});\n",
       "        \n",
       "    \n",
       "                marker_afc94f309c26a447be00e5c3b6567262.setIcon(div_icon_e4e1bb6cf3a32c6353ce03ee9ab153a5);\n",
       "            \n",
       "    \n",
       "            poly_line_bd6639fb5fc8c3fdd8e4b9a816630274.setText(\n",
       "                &quot;\\u25b6&quot;,\n",
       "                {\n",
       "  &quot;repeat&quot;: false,\n",
       "  &quot;center&quot;: false,\n",
       "  &quot;below&quot;: false,\n",
       "  &quot;offset&quot;: &quot;100%&quot;,\n",
       "  &quot;orientation&quot;: 0,\n",
       "  &quot;attributes&quot;: {\n",
       "  &quot;fill&quot;: &quot;orange&quot;,\n",
       "  &quot;font-size&quot;: &quot;15px&quot;,\n",
       "},\n",
       "}\n",
       "            );\n",
       "        \n",
       "    \n",
       "            var poly_line_b17360721fed1a236f84f44f98f79e5f = L.polyline(\n",
       "                [[30.5928, 114.3055], [30.5728, 104.0668]],\n",
       "                {&quot;bubblingMouseEvents&quot;: true, &quot;color&quot;: &quot;orange&quot;, &quot;dashArray&quot;: null, &quot;dashOffset&quot;: null, &quot;fill&quot;: false, &quot;fillColor&quot;: &quot;orange&quot;, &quot;fillOpacity&quot;: 0.2, &quot;fillRule&quot;: &quot;evenodd&quot;, &quot;lineCap&quot;: &quot;round&quot;, &quot;lineJoin&quot;: &quot;round&quot;, &quot;noClip&quot;: false, &quot;opacity&quot;: 0.8, &quot;smoothFactor&quot;: 1.0, &quot;stroke&quot;: true, &quot;weight&quot;: 4.333333333333333}\n",
       "            ).addTo(feature_group_bb135f432167e9291bebc39594f0320b);\n",
       "        \n",
       "    \n",
       "            poly_line_b17360721fed1a236f84f44f98f79e5f.bindTooltip(\n",
       "                `&lt;div&gt;\n",
       "                     从 武汉分仓 到 成都客户\n",
       "                 &lt;/div&gt;`,\n",
       "                {\n",
       "  &quot;sticky&quot;: true,\n",
       "}\n",
       "            );\n",
       "        \n",
       "    \n",
       "            var marker_23324aa562b1cc36f95417395653a688 = L.marker(\n",
       "                [30.5828, 109.18615],\n",
       "                {\n",
       "}\n",
       "            ).addTo(feature_group_bb135f432167e9291bebc39594f0320b);\n",
       "        \n",
       "    \n",
       "            var div_icon_31a554814f56fb20e6f4c8d2267f35e4 = L.divIcon({\n",
       "  &quot;html&quot;: &quot;\\n                        \\u003cdiv style=\\&quot;white-space: nowrap; font-size: 10px; color: orange; font-weight: bold;\\&quot;\\u003e\\n                            \\u6a59\\u6c41\\u003cbr\\u003e\\n                            12000\\u4ef6\\n                        \\u003c/div\\u003e\\n                    &quot;,\n",
       "  &quot;className&quot;: &quot;empty&quot;,\n",
       "});\n",
       "        \n",
       "    \n",
       "                marker_23324aa562b1cc36f95417395653a688.setIcon(div_icon_31a554814f56fb20e6f4c8d2267f35e4);\n",
       "            \n",
       "    \n",
       "            poly_line_b17360721fed1a236f84f44f98f79e5f.setText(\n",
       "                &quot;\\u25b6&quot;,\n",
       "                {\n",
       "  &quot;repeat&quot;: false,\n",
       "  &quot;center&quot;: false,\n",
       "  &quot;below&quot;: false,\n",
       "  &quot;offset&quot;: &quot;100%&quot;,\n",
       "  &quot;orientation&quot;: 0,\n",
       "  &quot;attributes&quot;: {\n",
       "  &quot;fill&quot;: &quot;orange&quot;,\n",
       "  &quot;font-size&quot;: &quot;15px&quot;,\n",
       "},\n",
       "}\n",
       "            );\n",
       "        \n",
       "    \n",
       "            feature_group_bb135f432167e9291bebc39594f0320b.addTo(map_e8a762f94c93c6d810e0a0b3bd8bc3f0);\n",
       "        \n",
       "    \n",
       "            var feature_group_fc108fd304844e7c0b507451af5363cc = L.featureGroup(\n",
       "                {\n",
       "}\n",
       "            );\n",
       "        \n",
       "    \n",
       "            var poly_line_2165a806ea1baaa91e9c4ee2f7821696 = L.polyline(\n",
       "                [[23.1291, 113.2644], [31.2304, 121.4737]],\n",
       "                {&quot;bubblingMouseEvents&quot;: true, &quot;color&quot;: &quot;green&quot;, &quot;dashArray&quot;: null, &quot;dashOffset&quot;: null, &quot;fill&quot;: false, &quot;fillColor&quot;: &quot;green&quot;, &quot;fillOpacity&quot;: 0.2, &quot;fillRule&quot;: &quot;evenodd&quot;, &quot;lineCap&quot;: &quot;round&quot;, &quot;lineJoin&quot;: &quot;round&quot;, &quot;noClip&quot;: false, &quot;opacity&quot;: 0.8, &quot;smoothFactor&quot;: 1.0, &quot;stroke&quot;: true, &quot;weight&quot;: 2.388888888888889}\n",
       "            ).addTo(feature_group_fc108fd304844e7c0b507451af5363cc);\n",
       "        \n",
       "    \n",
       "            poly_line_2165a806ea1baaa91e9c4ee2f7821696.bindTooltip(\n",
       "                `&lt;div&gt;\n",
       "                     从 广州工厂 到 上海分仓\n",
       "                 &lt;/div&gt;`,\n",
       "                {\n",
       "  &quot;sticky&quot;: true,\n",
       "}\n",
       "            );\n",
       "        \n",
       "    \n",
       "            var marker_38be4035efd7ab701a07928054b64c19 = L.marker(\n",
       "                [27.17975, 117.36904999999999],\n",
       "                {\n",
       "}\n",
       "            ).addTo(feature_group_fc108fd304844e7c0b507451af5363cc);\n",
       "        \n",
       "    \n",
       "            var div_icon_2c89a06b7c58837edb80f4c1e1ba3cf5 = L.divIcon({\n",
       "  &quot;html&quot;: &quot;\\n                        \\u003cdiv style=\\&quot;white-space: nowrap; font-size: 10px; color: green; font-weight: bold;\\&quot;\\u003e\\n                            \\u82f9\\u679c\\u6c41\\u003cbr\\u003e\\n                            5000\\u4ef6\\n                        \\u003c/div\\u003e\\n                    &quot;,\n",
       "  &quot;className&quot;: &quot;empty&quot;,\n",
       "});\n",
       "        \n",
       "    \n",
       "                marker_38be4035efd7ab701a07928054b64c19.setIcon(div_icon_2c89a06b7c58837edb80f4c1e1ba3cf5);\n",
       "            \n",
       "    \n",
       "            poly_line_2165a806ea1baaa91e9c4ee2f7821696.setText(\n",
       "                &quot;\\u25b6&quot;,\n",
       "                {\n",
       "  &quot;repeat&quot;: false,\n",
       "  &quot;center&quot;: false,\n",
       "  &quot;below&quot;: false,\n",
       "  &quot;offset&quot;: &quot;100%&quot;,\n",
       "  &quot;orientation&quot;: 0,\n",
       "  &quot;attributes&quot;: {\n",
       "  &quot;fill&quot;: &quot;green&quot;,\n",
       "  &quot;font-size&quot;: &quot;15px&quot;,\n",
       "},\n",
       "}\n",
       "            );\n",
       "        \n",
       "    \n",
       "            var poly_line_963cc96fdf569261293365a3925382df = L.polyline(\n",
       "                [[23.179100000000002, 113.31439999999999], [30.6428, 114.35549999999999]],\n",
       "                {&quot;bubblingMouseEvents&quot;: true, &quot;color&quot;: &quot;green&quot;, &quot;dashArray&quot;: null, &quot;dashOffset&quot;: null, &quot;fill&quot;: false, &quot;fillColor&quot;: &quot;green&quot;, &quot;fillOpacity&quot;: 0.2, &quot;fillRule&quot;: &quot;evenodd&quot;, &quot;lineCap&quot;: &quot;round&quot;, &quot;lineJoin&quot;: &quot;round&quot;, &quot;noClip&quot;: false, &quot;opacity&quot;: 0.8, &quot;smoothFactor&quot;: 1.0, &quot;stroke&quot;: true, &quot;weight&quot;: 2.9444444444444446}\n",
       "            ).addTo(feature_group_fc108fd304844e7c0b507451af5363cc);\n",
       "        \n",
       "    \n",
       "            poly_line_963cc96fdf569261293365a3925382df.bindTooltip(\n",
       "                `&lt;div&gt;\n",
       "                     从 广州工厂 到 武汉分仓\n",
       "                 &lt;/div&gt;`,\n",
       "                {\n",
       "  &quot;sticky&quot;: true,\n",
       "}\n",
       "            );\n",
       "        \n",
       "    \n",
       "            var marker_6f9890f00d0433f1559c9f003318b54c = L.marker(\n",
       "                [26.91095, 113.83494999999999],\n",
       "                {\n",
       "}\n",
       "            ).addTo(feature_group_fc108fd304844e7c0b507451af5363cc);\n",
       "        \n",
       "    \n",
       "            var div_icon_11b055735b3b6dbd79c11a22d632d18e = L.divIcon({\n",
       "  &quot;html&quot;: &quot;\\n                        \\u003cdiv style=\\&quot;white-space: nowrap; font-size: 10px; color: green; font-weight: bold;\\&quot;\\u003e\\n                            \\u82f9\\u679c\\u6c41\\u003cbr\\u003e\\n                            7000\\u4ef6\\n                        \\u003c/div\\u003e\\n                    &quot;,\n",
       "  &quot;className&quot;: &quot;empty&quot;,\n",
       "});\n",
       "        \n",
       "    \n",
       "                marker_6f9890f00d0433f1559c9f003318b54c.setIcon(div_icon_11b055735b3b6dbd79c11a22d632d18e);\n",
       "            \n",
       "    \n",
       "            poly_line_963cc96fdf569261293365a3925382df.setText(\n",
       "                &quot;\\u25b6&quot;,\n",
       "                {\n",
       "  &quot;repeat&quot;: false,\n",
       "  &quot;center&quot;: false,\n",
       "  &quot;below&quot;: false,\n",
       "  &quot;offset&quot;: &quot;100%&quot;,\n",
       "  &quot;orientation&quot;: 0,\n",
       "  &quot;attributes&quot;: {\n",
       "  &quot;fill&quot;: &quot;green&quot;,\n",
       "  &quot;font-size&quot;: &quot;15px&quot;,\n",
       "},\n",
       "}\n",
       "            );\n",
       "        \n",
       "    \n",
       "            var poly_line_7e57ec239344d4788a1f9223a4fbbf18 = L.polyline(\n",
       "                [[23.179100000000002, 113.31439999999999], [22.5931, 114.1079]],\n",
       "                {&quot;bubblingMouseEvents&quot;: true, &quot;color&quot;: &quot;green&quot;, &quot;dashArray&quot;: null, &quot;dashOffset&quot;: null, &quot;fill&quot;: false, &quot;fillColor&quot;: &quot;green&quot;, &quot;fillOpacity&quot;: 0.2, &quot;fillRule&quot;: &quot;evenodd&quot;, &quot;lineCap&quot;: &quot;round&quot;, &quot;lineJoin&quot;: &quot;round&quot;, &quot;noClip&quot;: false, &quot;opacity&quot;: 0.8, &quot;smoothFactor&quot;: 1.0, &quot;stroke&quot;: true, &quot;weight&quot;: 3.2222222222222223}\n",
       "            ).addTo(feature_group_fc108fd304844e7c0b507451af5363cc);\n",
       "        \n",
       "    \n",
       "            poly_line_7e57ec239344d4788a1f9223a4fbbf18.bindTooltip(\n",
       "                `&lt;div&gt;\n",
       "                     从 广州工厂 到 深圳客户\n",
       "                 &lt;/div&gt;`,\n",
       "                {\n",
       "  &quot;sticky&quot;: true,\n",
       "}\n",
       "            );\n",
       "        \n",
       "    \n",
       "            var marker_a1b089690e479899dd104ab4e2846c56 = L.marker(\n",
       "                [22.8861, 113.71115],\n",
       "                {\n",
       "}\n",
       "            ).addTo(feature_group_fc108fd304844e7c0b507451af5363cc);\n",
       "        \n",
       "    \n",
       "            var div_icon_94e4e23b6306c063a4e33d98e26fe4ea = L.divIcon({\n",
       "  &quot;html&quot;: &quot;\\n                        \\u003cdiv style=\\&quot;white-space: nowrap; font-size: 10px; color: green; font-weight: bold;\\&quot;\\u003e\\n                            \\u82f9\\u679c\\u6c41\\u003cbr\\u003e\\n                            8000\\u4ef6\\n                        \\u003c/div\\u003e\\n                    &quot;,\n",
       "  &quot;className&quot;: &quot;empty&quot;,\n",
       "});\n",
       "        \n",
       "    \n",
       "                marker_a1b089690e479899dd104ab4e2846c56.setIcon(div_icon_94e4e23b6306c063a4e33d98e26fe4ea);\n",
       "            \n",
       "    \n",
       "            poly_line_7e57ec239344d4788a1f9223a4fbbf18.setText(\n",
       "                &quot;\\u25b6&quot;,\n",
       "                {\n",
       "  &quot;repeat&quot;: false,\n",
       "  &quot;center&quot;: false,\n",
       "  &quot;below&quot;: false,\n",
       "  &quot;offset&quot;: &quot;100%&quot;,\n",
       "  &quot;orientation&quot;: 0,\n",
       "  &quot;attributes&quot;: {\n",
       "  &quot;fill&quot;: &quot;green&quot;,\n",
       "  &quot;font-size&quot;: &quot;15px&quot;,\n",
       "},\n",
       "}\n",
       "            );\n",
       "        \n",
       "    \n",
       "            var poly_line_c15918e398b03296b85ab4e3695453dd = L.polyline(\n",
       "                [[31.2304, 121.4737], [41.7963, 123.4315]],\n",
       "                {&quot;bubblingMouseEvents&quot;: true, &quot;color&quot;: &quot;green&quot;, &quot;dashArray&quot;: null, &quot;dashOffset&quot;: null, &quot;fill&quot;: false, &quot;fillColor&quot;: &quot;green&quot;, &quot;fillOpacity&quot;: 0.2, &quot;fillRule&quot;: &quot;evenodd&quot;, &quot;lineCap&quot;: &quot;round&quot;, &quot;lineJoin&quot;: &quot;round&quot;, &quot;noClip&quot;: false, &quot;opacity&quot;: 0.8, &quot;smoothFactor&quot;: 1.0, &quot;stroke&quot;: true, &quot;weight&quot;: 2.388888888888889}\n",
       "            ).addTo(feature_group_fc108fd304844e7c0b507451af5363cc);\n",
       "        \n",
       "    \n",
       "            poly_line_c15918e398b03296b85ab4e3695453dd.bindTooltip(\n",
       "                `&lt;div&gt;\n",
       "                     从 上海分仓 到 沈阳客户\n",
       "                 &lt;/div&gt;`,\n",
       "                {\n",
       "  &quot;sticky&quot;: true,\n",
       "}\n",
       "            );\n",
       "        \n",
       "    \n",
       "            var marker_ba343669dce0967a040adbba0d5d2cfb = L.marker(\n",
       "                [36.51335, 122.45259999999999],\n",
       "                {\n",
       "}\n",
       "            ).addTo(feature_group_fc108fd304844e7c0b507451af5363cc);\n",
       "        \n",
       "    \n",
       "            var div_icon_b149fe8893d0b42778fca2a82d575b69 = L.divIcon({\n",
       "  &quot;html&quot;: &quot;\\n                        \\u003cdiv style=\\&quot;white-space: nowrap; font-size: 10px; color: green; font-weight: bold;\\&quot;\\u003e\\n                            \\u82f9\\u679c\\u6c41\\u003cbr\\u003e\\n                            5000\\u4ef6\\n                        \\u003c/div\\u003e\\n                    &quot;,\n",
       "  &quot;className&quot;: &quot;empty&quot;,\n",
       "});\n",
       "        \n",
       "    \n",
       "                marker_ba343669dce0967a040adbba0d5d2cfb.setIcon(div_icon_b149fe8893d0b42778fca2a82d575b69);\n",
       "            \n",
       "    \n",
       "            poly_line_c15918e398b03296b85ab4e3695453dd.setText(\n",
       "                &quot;\\u25b6&quot;,\n",
       "                {\n",
       "  &quot;repeat&quot;: false,\n",
       "  &quot;center&quot;: false,\n",
       "  &quot;below&quot;: false,\n",
       "  &quot;offset&quot;: &quot;100%&quot;,\n",
       "  &quot;orientation&quot;: 0,\n",
       "  &quot;attributes&quot;: {\n",
       "  &quot;fill&quot;: &quot;green&quot;,\n",
       "  &quot;font-size&quot;: &quot;15px&quot;,\n",
       "},\n",
       "}\n",
       "            );\n",
       "        \n",
       "    \n",
       "            var poly_line_206e3c9bd039e51de1106999a16a25d0 = L.polyline(\n",
       "                [[30.6428, 114.35549999999999], [30.6228, 104.1168]],\n",
       "                {&quot;bubblingMouseEvents&quot;: true, &quot;color&quot;: &quot;green&quot;, &quot;dashArray&quot;: null, &quot;dashOffset&quot;: null, &quot;fill&quot;: false, &quot;fillColor&quot;: &quot;green&quot;, &quot;fillOpacity&quot;: 0.2, &quot;fillRule&quot;: &quot;evenodd&quot;, &quot;lineCap&quot;: &quot;round&quot;, &quot;lineJoin&quot;: &quot;round&quot;, &quot;noClip&quot;: false, &quot;opacity&quot;: 0.8, &quot;smoothFactor&quot;: 1.0, &quot;stroke&quot;: true, &quot;weight&quot;: 2.9444444444444446}\n",
       "            ).addTo(feature_group_fc108fd304844e7c0b507451af5363cc);\n",
       "        \n",
       "    \n",
       "            poly_line_206e3c9bd039e51de1106999a16a25d0.bindTooltip(\n",
       "                `&lt;div&gt;\n",
       "                     从 武汉分仓 到 成都客户\n",
       "                 &lt;/div&gt;`,\n",
       "                {\n",
       "  &quot;sticky&quot;: true,\n",
       "}\n",
       "            );\n",
       "        \n",
       "    \n",
       "            var marker_82fc0fd45a6fe484140325153a52171f = L.marker(\n",
       "                [30.632800000000003, 109.23615],\n",
       "                {\n",
       "}\n",
       "            ).addTo(feature_group_fc108fd304844e7c0b507451af5363cc);\n",
       "        \n",
       "    \n",
       "            var div_icon_6a8b8931e38e4f76feefe454cd7004c7 = L.divIcon({\n",
       "  &quot;html&quot;: &quot;\\n                        \\u003cdiv style=\\&quot;white-space: nowrap; font-size: 10px; color: green; font-weight: bold;\\&quot;\\u003e\\n                            \\u82f9\\u679c\\u6c41\\u003cbr\\u003e\\n                            7000\\u4ef6\\n                        \\u003c/div\\u003e\\n                    &quot;,\n",
       "  &quot;className&quot;: &quot;empty&quot;,\n",
       "});\n",
       "        \n",
       "    \n",
       "                marker_82fc0fd45a6fe484140325153a52171f.setIcon(div_icon_6a8b8931e38e4f76feefe454cd7004c7);\n",
       "            \n",
       "    \n",
       "            poly_line_206e3c9bd039e51de1106999a16a25d0.setText(\n",
       "                &quot;\\u25b6&quot;,\n",
       "                {\n",
       "  &quot;repeat&quot;: false,\n",
       "  &quot;center&quot;: false,\n",
       "  &quot;below&quot;: false,\n",
       "  &quot;offset&quot;: &quot;100%&quot;,\n",
       "  &quot;orientation&quot;: 0,\n",
       "  &quot;attributes&quot;: {\n",
       "  &quot;fill&quot;: &quot;green&quot;,\n",
       "  &quot;font-size&quot;: &quot;15px&quot;,\n",
       "},\n",
       "}\n",
       "            );\n",
       "        \n",
       "    \n",
       "            feature_group_fc108fd304844e7c0b507451af5363cc.addTo(map_e8a762f94c93c6d810e0a0b3bd8bc3f0);\n",
       "        \n",
       "    \n",
       "            var feature_group_3e43d969a555822e465e05c4b394393f = L.featureGroup(\n",
       "                {\n",
       "}\n",
       "            );\n",
       "        \n",
       "    \n",
       "            var poly_line_fad4e06f0e0dba742c3d143fb171a286 = L.polyline(\n",
       "                [[23.229100000000003, 113.36439999999999], [30.692800000000002, 114.40549999999999]],\n",
       "                {&quot;bubblingMouseEvents&quot;: true, &quot;color&quot;: &quot;orange&quot;, &quot;dashArray&quot;: null, &quot;dashOffset&quot;: null, &quot;fill&quot;: false, &quot;fillColor&quot;: &quot;orange&quot;, &quot;fillOpacity&quot;: 0.2, &quot;fillRule&quot;: &quot;evenodd&quot;, &quot;lineCap&quot;: &quot;round&quot;, &quot;lineJoin&quot;: &quot;round&quot;, &quot;noClip&quot;: false, &quot;opacity&quot;: 0.8, &quot;smoothFactor&quot;: 1.0, &quot;stroke&quot;: true, &quot;weight&quot;: 3.7777777777777777}\n",
       "            ).addTo(feature_group_3e43d969a555822e465e05c4b394393f);\n",
       "        \n",
       "    \n",
       "            poly_line_fad4e06f0e0dba742c3d143fb171a286.bindTooltip(\n",
       "                `&lt;div&gt;\n",
       "                     从 广州工厂 到 武汉分仓\n",
       "                 &lt;/div&gt;`,\n",
       "                {\n",
       "  &quot;sticky&quot;: true,\n",
       "}\n",
       "            );\n",
       "        \n",
       "    \n",
       "            var marker_843ba8a339e4ced7465dba9e2e51eeb1 = L.marker(\n",
       "                [26.960950000000004, 113.88494999999999],\n",
       "                {\n",
       "}\n",
       "            ).addTo(feature_group_3e43d969a555822e465e05c4b394393f);\n",
       "        \n",
       "    \n",
       "            var div_icon_0ce3caca317b7a0d605e0d689a5a7ecf = L.divIcon({\n",
       "  &quot;html&quot;: &quot;\\n                        \\u003cdiv style=\\&quot;white-space: nowrap; font-size: 10px; color: orange; font-weight: bold;\\&quot;\\u003e\\n                            \\u6a59\\u6c41\\u003cbr\\u003e\\n                            10000\\u4ef6\\n                        \\u003c/div\\u003e\\n                    &quot;,\n",
       "  &quot;className&quot;: &quot;empty&quot;,\n",
       "});\n",
       "        \n",
       "    \n",
       "                marker_843ba8a339e4ced7465dba9e2e51eeb1.setIcon(div_icon_0ce3caca317b7a0d605e0d689a5a7ecf);\n",
       "            \n",
       "    \n",
       "            poly_line_fad4e06f0e0dba742c3d143fb171a286.setText(\n",
       "                &quot;\\u25b6&quot;,\n",
       "                {\n",
       "  &quot;repeat&quot;: false,\n",
       "  &quot;center&quot;: false,\n",
       "  &quot;below&quot;: false,\n",
       "  &quot;offset&quot;: &quot;100%&quot;,\n",
       "  &quot;orientation&quot;: 0,\n",
       "  &quot;attributes&quot;: {\n",
       "  &quot;fill&quot;: &quot;orange&quot;,\n",
       "  &quot;font-size&quot;: &quot;15px&quot;,\n",
       "},\n",
       "}\n",
       "            );\n",
       "        \n",
       "    \n",
       "            var poly_line_1a2880c61f39209459dbc7f73c39ab2d = L.polyline(\n",
       "                [[39.9542, 116.45739999999999], [41.8463, 123.4815]],\n",
       "                {&quot;bubblingMouseEvents&quot;: true, &quot;color&quot;: &quot;orange&quot;, &quot;dashArray&quot;: null, &quot;dashOffset&quot;: null, &quot;fill&quot;: false, &quot;fillColor&quot;: &quot;orange&quot;, &quot;fillOpacity&quot;: 0.2, &quot;fillRule&quot;: &quot;evenodd&quot;, &quot;lineCap&quot;: &quot;round&quot;, &quot;lineJoin&quot;: &quot;round&quot;, &quot;noClip&quot;: false, &quot;opacity&quot;: 0.8, &quot;smoothFactor&quot;: 1.0, &quot;stroke&quot;: true, &quot;weight&quot;: 4.333333333333333}\n",
       "            ).addTo(feature_group_3e43d969a555822e465e05c4b394393f);\n",
       "        \n",
       "    \n",
       "            poly_line_1a2880c61f39209459dbc7f73c39ab2d.bindTooltip(\n",
       "                `&lt;div&gt;\n",
       "                     从 北京工厂 到 沈阳客户\n",
       "                 &lt;/div&gt;`,\n",
       "                {\n",
       "  &quot;sticky&quot;: true,\n",
       "}\n",
       "            );\n",
       "        \n",
       "    \n",
       "            var marker_03a15b69dfb7d5691943df48683a6082 = L.marker(\n",
       "                [40.90025, 119.96945],\n",
       "                {\n",
       "}\n",
       "            ).addTo(feature_group_3e43d969a555822e465e05c4b394393f);\n",
       "        \n",
       "    \n",
       "            var div_icon_2e2755d7e495cca95798dc5924c94212 = L.divIcon({\n",
       "  &quot;html&quot;: &quot;\\n                        \\u003cdiv style=\\&quot;white-space: nowrap; font-size: 10px; color: orange; font-weight: bold;\\&quot;\\u003e\\n                            \\u6a59\\u6c41\\u003cbr\\u003e\\n                            12000\\u4ef6\\n                        \\u003c/div\\u003e\\n                    &quot;,\n",
       "  &quot;className&quot;: &quot;empty&quot;,\n",
       "});\n",
       "        \n",
       "    \n",
       "                marker_03a15b69dfb7d5691943df48683a6082.setIcon(div_icon_2e2755d7e495cca95798dc5924c94212);\n",
       "            \n",
       "    \n",
       "            poly_line_1a2880c61f39209459dbc7f73c39ab2d.setText(\n",
       "                &quot;\\u25b6&quot;,\n",
       "                {\n",
       "  &quot;repeat&quot;: false,\n",
       "  &quot;center&quot;: false,\n",
       "  &quot;below&quot;: false,\n",
       "  &quot;offset&quot;: &quot;100%&quot;,\n",
       "  &quot;orientation&quot;: 0,\n",
       "  &quot;attributes&quot;: {\n",
       "  &quot;fill&quot;: &quot;orange&quot;,\n",
       "  &quot;font-size&quot;: &quot;15px&quot;,\n",
       "},\n",
       "}\n",
       "            );\n",
       "        \n",
       "    \n",
       "            var poly_line_bc1503ae58663bce22d570b2608389a7 = L.polyline(\n",
       "                [[23.229100000000003, 113.36439999999999], [22.6431, 114.1579]],\n",
       "                {&quot;bubblingMouseEvents&quot;: true, &quot;color&quot;: &quot;orange&quot;, &quot;dashArray&quot;: null, &quot;dashOffset&quot;: null, &quot;fill&quot;: false, &quot;fillColor&quot;: &quot;orange&quot;, &quot;fillOpacity&quot;: 0.2, &quot;fillRule&quot;: &quot;evenodd&quot;, &quot;lineCap&quot;: &quot;round&quot;, &quot;lineJoin&quot;: &quot;round&quot;, &quot;noClip&quot;: false, &quot;opacity&quot;: 0.8, &quot;smoothFactor&quot;: 1.0, &quot;stroke&quot;: true, &quot;weight&quot;: 6.0}\n",
       "            ).addTo(feature_group_3e43d969a555822e465e05c4b394393f);\n",
       "        \n",
       "    \n",
       "            poly_line_bc1503ae58663bce22d570b2608389a7.bindTooltip(\n",
       "                `&lt;div&gt;\n",
       "                     从 广州工厂 到 深圳客户\n",
       "                 &lt;/div&gt;`,\n",
       "                {\n",
       "  &quot;sticky&quot;: true,\n",
       "}\n",
       "            );\n",
       "        \n",
       "    \n",
       "            var marker_cd63cb1fa2ed0e410c873430a158913e = L.marker(\n",
       "                [22.936100000000003, 113.76114999999999],\n",
       "                {\n",
       "}\n",
       "            ).addTo(feature_group_3e43d969a555822e465e05c4b394393f);\n",
       "        \n",
       "    \n",
       "            var div_icon_92219ca808151a56f4f3b76f90169112 = L.divIcon({\n",
       "  &quot;html&quot;: &quot;\\n                        \\u003cdiv style=\\&quot;white-space: nowrap; font-size: 10px; color: orange; font-weight: bold;\\&quot;\\u003e\\n                            \\u6a59\\u6c41\\u003cbr\\u003e\\n                            18000\\u4ef6\\n                        \\u003c/div\\u003e\\n                    &quot;,\n",
       "  &quot;className&quot;: &quot;empty&quot;,\n",
       "});\n",
       "        \n",
       "    \n",
       "                marker_cd63cb1fa2ed0e410c873430a158913e.setIcon(div_icon_92219ca808151a56f4f3b76f90169112);\n",
       "            \n",
       "    \n",
       "            poly_line_bc1503ae58663bce22d570b2608389a7.setText(\n",
       "                &quot;\\u25b6&quot;,\n",
       "                {\n",
       "  &quot;repeat&quot;: false,\n",
       "  &quot;center&quot;: false,\n",
       "  &quot;below&quot;: false,\n",
       "  &quot;offset&quot;: &quot;100%&quot;,\n",
       "  &quot;orientation&quot;: 0,\n",
       "  &quot;attributes&quot;: {\n",
       "  &quot;fill&quot;: &quot;orange&quot;,\n",
       "  &quot;font-size&quot;: &quot;15px&quot;,\n",
       "},\n",
       "}\n",
       "            );\n",
       "        \n",
       "    \n",
       "            var poly_line_eb278e1dad061a17abcb893ea732aa03 = L.polyline(\n",
       "                [[30.692800000000002, 114.40549999999999], [30.672800000000002, 104.1668]],\n",
       "                {&quot;bubblingMouseEvents&quot;: true, &quot;color&quot;: &quot;orange&quot;, &quot;dashArray&quot;: null, &quot;dashOffset&quot;: null, &quot;fill&quot;: false, &quot;fillColor&quot;: &quot;orange&quot;, &quot;fillOpacity&quot;: 0.2, &quot;fillRule&quot;: &quot;evenodd&quot;, &quot;lineCap&quot;: &quot;round&quot;, &quot;lineJoin&quot;: &quot;round&quot;, &quot;noClip&quot;: false, &quot;opacity&quot;: 0.8, &quot;smoothFactor&quot;: 1.0, &quot;stroke&quot;: true, &quot;weight&quot;: 3.7777777777777777}\n",
       "            ).addTo(feature_group_3e43d969a555822e465e05c4b394393f);\n",
       "        \n",
       "    \n",
       "            poly_line_eb278e1dad061a17abcb893ea732aa03.bindTooltip(\n",
       "                `&lt;div&gt;\n",
       "                     从 武汉分仓 到 成都客户\n",
       "                 &lt;/div&gt;`,\n",
       "                {\n",
       "  &quot;sticky&quot;: true,\n",
       "}\n",
       "            );\n",
       "        \n",
       "    \n",
       "            var marker_ac4e09aee39b769deedf9f968f6994aa = L.marker(\n",
       "                [30.6828, 109.28614999999999],\n",
       "                {\n",
       "}\n",
       "            ).addTo(feature_group_3e43d969a555822e465e05c4b394393f);\n",
       "        \n",
       "    \n",
       "            var div_icon_fe15b673fc1e9b446302215290237279 = L.divIcon({\n",
       "  &quot;html&quot;: &quot;\\n                        \\u003cdiv style=\\&quot;white-space: nowrap; font-size: 10px; color: orange; font-weight: bold;\\&quot;\\u003e\\n                            \\u6a59\\u6c41\\u003cbr\\u003e\\n                            10000\\u4ef6\\n                        \\u003c/div\\u003e\\n                    &quot;,\n",
       "  &quot;className&quot;: &quot;empty&quot;,\n",
       "});\n",
       "        \n",
       "    \n",
       "                marker_ac4e09aee39b769deedf9f968f6994aa.setIcon(div_icon_fe15b673fc1e9b446302215290237279);\n",
       "            \n",
       "    \n",
       "            poly_line_eb278e1dad061a17abcb893ea732aa03.setText(\n",
       "                &quot;\\u25b6&quot;,\n",
       "                {\n",
       "  &quot;repeat&quot;: false,\n",
       "  &quot;center&quot;: false,\n",
       "  &quot;below&quot;: false,\n",
       "  &quot;offset&quot;: &quot;100%&quot;,\n",
       "  &quot;orientation&quot;: 0,\n",
       "  &quot;attributes&quot;: {\n",
       "  &quot;fill&quot;: &quot;orange&quot;,\n",
       "  &quot;font-size&quot;: &quot;15px&quot;,\n",
       "},\n",
       "}\n",
       "            );\n",
       "        \n",
       "    \n",
       "            feature_group_3e43d969a555822e465e05c4b394393f.addTo(map_e8a762f94c93c6d810e0a0b3bd8bc3f0);\n",
       "        \n",
       "    \n",
       "            var feature_group_57eb7685488d4c4ce7f546cb3b6a2eec = L.featureGroup(\n",
       "                {\n",
       "}\n",
       "            );\n",
       "        \n",
       "    \n",
       "            var poly_line_2513960cadf5e564c507d71475680023 = L.polyline(\n",
       "                [[23.179100000000002, 113.31439999999999], [31.2804, 121.52369999999999]],\n",
       "                {&quot;bubblingMouseEvents&quot;: true, &quot;color&quot;: &quot;green&quot;, &quot;dashArray&quot;: null, &quot;dashOffset&quot;: null, &quot;fill&quot;: false, &quot;fillColor&quot;: &quot;green&quot;, &quot;fillOpacity&quot;: 0.2, &quot;fillRule&quot;: &quot;evenodd&quot;, &quot;lineCap&quot;: &quot;round&quot;, &quot;lineJoin&quot;: &quot;round&quot;, &quot;noClip&quot;: false, &quot;opacity&quot;: 0.8, &quot;smoothFactor&quot;: 1.0, &quot;stroke&quot;: true, &quot;weight&quot;: 2.6666666666666665}\n",
       "            ).addTo(feature_group_57eb7685488d4c4ce7f546cb3b6a2eec);\n",
       "        \n",
       "    \n",
       "            poly_line_2513960cadf5e564c507d71475680023.bindTooltip(\n",
       "                `&lt;div&gt;\n",
       "                     从 广州工厂 到 上海分仓\n",
       "                 &lt;/div&gt;`,\n",
       "                {\n",
       "  &quot;sticky&quot;: true,\n",
       "}\n",
       "            );\n",
       "        \n",
       "    \n",
       "            var marker_249f03a60820da11e36b0997d94a0f63 = L.marker(\n",
       "                [27.229750000000003, 117.41905],\n",
       "                {\n",
       "}\n",
       "            ).addTo(feature_group_57eb7685488d4c4ce7f546cb3b6a2eec);\n",
       "        \n",
       "    \n",
       "            var div_icon_51888e73163f328c4ace7bac19ab5eaa = L.divIcon({\n",
       "  &quot;html&quot;: &quot;\\n                        \\u003cdiv style=\\&quot;white-space: nowrap; font-size: 10px; color: green; font-weight: bold;\\&quot;\\u003e\\n                            \\u82f9\\u679c\\u6c41\\u003cbr\\u003e\\n                            6000\\u4ef6\\n                        \\u003c/div\\u003e\\n                    &quot;,\n",
       "  &quot;className&quot;: &quot;empty&quot;,\n",
       "});\n",
       "        \n",
       "    \n",
       "                marker_249f03a60820da11e36b0997d94a0f63.setIcon(div_icon_51888e73163f328c4ace7bac19ab5eaa);\n",
       "            \n",
       "    \n",
       "            poly_line_2513960cadf5e564c507d71475680023.setText(\n",
       "                &quot;\\u25b6&quot;,\n",
       "                {\n",
       "  &quot;repeat&quot;: false,\n",
       "  &quot;center&quot;: false,\n",
       "  &quot;below&quot;: false,\n",
       "  &quot;offset&quot;: &quot;100%&quot;,\n",
       "  &quot;orientation&quot;: 0,\n",
       "  &quot;attributes&quot;: {\n",
       "  &quot;fill&quot;: &quot;green&quot;,\n",
       "  &quot;font-size&quot;: &quot;15px&quot;,\n",
       "},\n",
       "}\n",
       "            );\n",
       "        \n",
       "    \n",
       "            var poly_line_bd55f6d586d656426dd9f2b0c74331c6 = L.polyline(\n",
       "                [[23.2791, 113.4144], [30.7428, 114.4555]],\n",
       "                {&quot;bubblingMouseEvents&quot;: true, &quot;color&quot;: &quot;green&quot;, &quot;dashArray&quot;: null, &quot;dashOffset&quot;: null, &quot;fill&quot;: false, &quot;fillColor&quot;: &quot;green&quot;, &quot;fillOpacity&quot;: 0.2, &quot;fillRule&quot;: &quot;evenodd&quot;, &quot;lineCap&quot;: &quot;round&quot;, &quot;lineJoin&quot;: &quot;round&quot;, &quot;noClip&quot;: false, &quot;opacity&quot;: 0.8, &quot;smoothFactor&quot;: 1.0, &quot;stroke&quot;: true, &quot;weight&quot;: 2.6666666666666665}\n",
       "            ).addTo(feature_group_57eb7685488d4c4ce7f546cb3b6a2eec);\n",
       "        \n",
       "    \n",
       "            poly_line_bd55f6d586d656426dd9f2b0c74331c6.bindTooltip(\n",
       "                `&lt;div&gt;\n",
       "                     从 广州工厂 到 武汉分仓\n",
       "                 &lt;/div&gt;`,\n",
       "                {\n",
       "  &quot;sticky&quot;: true,\n",
       "}\n",
       "            );\n",
       "        \n",
       "    \n",
       "            var marker_66c076233d957e8cccd8bf51d323d368 = L.marker(\n",
       "                [27.01095, 113.93495],\n",
       "                {\n",
       "}\n",
       "            ).addTo(feature_group_57eb7685488d4c4ce7f546cb3b6a2eec);\n",
       "        \n",
       "    \n",
       "            var div_icon_955b0b662519a107dd394303199c1b6c = L.divIcon({\n",
       "  &quot;html&quot;: &quot;\\n                        \\u003cdiv style=\\&quot;white-space: nowrap; font-size: 10px; color: green; font-weight: bold;\\&quot;\\u003e\\n                            \\u82f9\\u679c\\u6c41\\u003cbr\\u003e\\n                            6000\\u4ef6\\n                        \\u003c/div\\u003e\\n                    &quot;,\n",
       "  &quot;className&quot;: &quot;empty&quot;,\n",
       "});\n",
       "        \n",
       "    \n",
       "                marker_66c076233d957e8cccd8bf51d323d368.setIcon(div_icon_955b0b662519a107dd394303199c1b6c);\n",
       "            \n",
       "    \n",
       "            poly_line_bd55f6d586d656426dd9f2b0c74331c6.setText(\n",
       "                &quot;\\u25b6&quot;,\n",
       "                {\n",
       "  &quot;repeat&quot;: false,\n",
       "  &quot;center&quot;: false,\n",
       "  &quot;below&quot;: false,\n",
       "  &quot;offset&quot;: &quot;100%&quot;,\n",
       "  &quot;orientation&quot;: 0,\n",
       "  &quot;attributes&quot;: {\n",
       "  &quot;fill&quot;: &quot;green&quot;,\n",
       "  &quot;font-size&quot;: &quot;15px&quot;,\n",
       "},\n",
       "}\n",
       "            );\n",
       "        \n",
       "    \n",
       "            var poly_line_517bf90cb45c39d4ca0fcae5ef58425e = L.polyline(\n",
       "                [[23.2791, 113.4144], [22.693099999999998, 114.20790000000001]],\n",
       "                {&quot;bubblingMouseEvents&quot;: true, &quot;color&quot;: &quot;green&quot;, &quot;dashArray&quot;: null, &quot;dashOffset&quot;: null, &quot;fill&quot;: false, &quot;fillColor&quot;: &quot;green&quot;, &quot;fillOpacity&quot;: 0.2, &quot;fillRule&quot;: &quot;evenodd&quot;, &quot;lineCap&quot;: &quot;round&quot;, &quot;lineJoin&quot;: &quot;round&quot;, &quot;noClip&quot;: false, &quot;opacity&quot;: 0.8, &quot;smoothFactor&quot;: 1.0, &quot;stroke&quot;: true, &quot;weight&quot;: 3.5}\n",
       "            ).addTo(feature_group_57eb7685488d4c4ce7f546cb3b6a2eec);\n",
       "        \n",
       "    \n",
       "            poly_line_517bf90cb45c39d4ca0fcae5ef58425e.bindTooltip(\n",
       "                `&lt;div&gt;\n",
       "                     从 广州工厂 到 深圳客户\n",
       "                 &lt;/div&gt;`,\n",
       "                {\n",
       "  &quot;sticky&quot;: true,\n",
       "}\n",
       "            );\n",
       "        \n",
       "    \n",
       "            var marker_206d1aef27eb4e0c8a0f79af02e275c0 = L.marker(\n",
       "                [22.9861, 113.81115],\n",
       "                {\n",
       "}\n",
       "            ).addTo(feature_group_57eb7685488d4c4ce7f546cb3b6a2eec);\n",
       "        \n",
       "    \n",
       "            var div_icon_77c4e81c9f7d774a8e79b639f1a4f8e4 = L.divIcon({\n",
       "  &quot;html&quot;: &quot;\\n                        \\u003cdiv style=\\&quot;white-space: nowrap; font-size: 10px; color: green; font-weight: bold;\\&quot;\\u003e\\n                            \\u82f9\\u679c\\u6c41\\u003cbr\\u003e\\n                            9000\\u4ef6\\n                        \\u003c/div\\u003e\\n                    &quot;,\n",
       "  &quot;className&quot;: &quot;empty&quot;,\n",
       "});\n",
       "        \n",
       "    \n",
       "                marker_206d1aef27eb4e0c8a0f79af02e275c0.setIcon(div_icon_77c4e81c9f7d774a8e79b639f1a4f8e4);\n",
       "            \n",
       "    \n",
       "            poly_line_517bf90cb45c39d4ca0fcae5ef58425e.setText(\n",
       "                &quot;\\u25b6&quot;,\n",
       "                {\n",
       "  &quot;repeat&quot;: false,\n",
       "  &quot;center&quot;: false,\n",
       "  &quot;below&quot;: false,\n",
       "  &quot;offset&quot;: &quot;100%&quot;,\n",
       "  &quot;orientation&quot;: 0,\n",
       "  &quot;attributes&quot;: {\n",
       "  &quot;fill&quot;: &quot;green&quot;,\n",
       "  &quot;font-size&quot;: &quot;15px&quot;,\n",
       "},\n",
       "}\n",
       "            );\n",
       "        \n",
       "    \n",
       "            var poly_line_dce99a4ded2069e8192ba8601e939459 = L.polyline(\n",
       "                [[31.2804, 121.52369999999999], [41.8463, 123.4815]],\n",
       "                {&quot;bubblingMouseEvents&quot;: true, &quot;color&quot;: &quot;green&quot;, &quot;dashArray&quot;: null, &quot;dashOffset&quot;: null, &quot;fill&quot;: false, &quot;fillColor&quot;: &quot;green&quot;, &quot;fillOpacity&quot;: 0.2, &quot;fillRule&quot;: &quot;evenodd&quot;, &quot;lineCap&quot;: &quot;round&quot;, &quot;lineJoin&quot;: &quot;round&quot;, &quot;noClip&quot;: false, &quot;opacity&quot;: 0.8, &quot;smoothFactor&quot;: 1.0, &quot;stroke&quot;: true, &quot;weight&quot;: 2.6666666666666665}\n",
       "            ).addTo(feature_group_57eb7685488d4c4ce7f546cb3b6a2eec);\n",
       "        \n",
       "    \n",
       "            poly_line_dce99a4ded2069e8192ba8601e939459.bindTooltip(\n",
       "                `&lt;div&gt;\n",
       "                     从 上海分仓 到 沈阳客户\n",
       "                 &lt;/div&gt;`,\n",
       "                {\n",
       "  &quot;sticky&quot;: true,\n",
       "}\n",
       "            );\n",
       "        \n",
       "    \n",
       "            var marker_19b1ebbb0d6e213abe999641252bf331 = L.marker(\n",
       "                [36.56335, 122.5026],\n",
       "                {\n",
       "}\n",
       "            ).addTo(feature_group_57eb7685488d4c4ce7f546cb3b6a2eec);\n",
       "        \n",
       "    \n",
       "            var div_icon_83507dc617f787bccde930cc0da9bf60 = L.divIcon({\n",
       "  &quot;html&quot;: &quot;\\n                        \\u003cdiv style=\\&quot;white-space: nowrap; font-size: 10px; color: green; font-weight: bold;\\&quot;\\u003e\\n                            \\u82f9\\u679c\\u6c41\\u003cbr\\u003e\\n                            6000\\u4ef6\\n                        \\u003c/div\\u003e\\n                    &quot;,\n",
       "  &quot;className&quot;: &quot;empty&quot;,\n",
       "});\n",
       "        \n",
       "    \n",
       "                marker_19b1ebbb0d6e213abe999641252bf331.setIcon(div_icon_83507dc617f787bccde930cc0da9bf60);\n",
       "            \n",
       "    \n",
       "            poly_line_dce99a4ded2069e8192ba8601e939459.setText(\n",
       "                &quot;\\u25b6&quot;,\n",
       "                {\n",
       "  &quot;repeat&quot;: false,\n",
       "  &quot;center&quot;: false,\n",
       "  &quot;below&quot;: false,\n",
       "  &quot;offset&quot;: &quot;100%&quot;,\n",
       "  &quot;orientation&quot;: 0,\n",
       "  &quot;attributes&quot;: {\n",
       "  &quot;fill&quot;: &quot;green&quot;,\n",
       "  &quot;font-size&quot;: &quot;15px&quot;,\n",
       "},\n",
       "}\n",
       "            );\n",
       "        \n",
       "    \n",
       "            var poly_line_08b345b74692d4daffb06859241ef7a7 = L.polyline(\n",
       "                [[30.7428, 114.4555], [30.7228, 104.2168]],\n",
       "                {&quot;bubblingMouseEvents&quot;: true, &quot;color&quot;: &quot;green&quot;, &quot;dashArray&quot;: null, &quot;dashOffset&quot;: null, &quot;fill&quot;: false, &quot;fillColor&quot;: &quot;green&quot;, &quot;fillOpacity&quot;: 0.2, &quot;fillRule&quot;: &quot;evenodd&quot;, &quot;lineCap&quot;: &quot;round&quot;, &quot;lineJoin&quot;: &quot;round&quot;, &quot;noClip&quot;: false, &quot;opacity&quot;: 0.8, &quot;smoothFactor&quot;: 1.0, &quot;stroke&quot;: true, &quot;weight&quot;: 2.6666666666666665}\n",
       "            ).addTo(feature_group_57eb7685488d4c4ce7f546cb3b6a2eec);\n",
       "        \n",
       "    \n",
       "            poly_line_08b345b74692d4daffb06859241ef7a7.bindTooltip(\n",
       "                `&lt;div&gt;\n",
       "                     从 武汉分仓 到 成都客户\n",
       "                 &lt;/div&gt;`,\n",
       "                {\n",
       "  &quot;sticky&quot;: true,\n",
       "}\n",
       "            );\n",
       "        \n",
       "    \n",
       "            var marker_0398775d37ef97303fa9f96baf6974ef = L.marker(\n",
       "                [30.732799999999997, 109.33615],\n",
       "                {\n",
       "}\n",
       "            ).addTo(feature_group_57eb7685488d4c4ce7f546cb3b6a2eec);\n",
       "        \n",
       "    \n",
       "            var div_icon_1d14b5365de0d13e2507e6cc7d86f95d = L.divIcon({\n",
       "  &quot;html&quot;: &quot;\\n                        \\u003cdiv style=\\&quot;white-space: nowrap; font-size: 10px; color: green; font-weight: bold;\\&quot;\\u003e\\n                            \\u82f9\\u679c\\u6c41\\u003cbr\\u003e\\n                            6000\\u4ef6\\n                        \\u003c/div\\u003e\\n                    &quot;,\n",
       "  &quot;className&quot;: &quot;empty&quot;,\n",
       "});\n",
       "        \n",
       "    \n",
       "                marker_0398775d37ef97303fa9f96baf6974ef.setIcon(div_icon_1d14b5365de0d13e2507e6cc7d86f95d);\n",
       "            \n",
       "    \n",
       "            poly_line_08b345b74692d4daffb06859241ef7a7.setText(\n",
       "                &quot;\\u25b6&quot;,\n",
       "                {\n",
       "  &quot;repeat&quot;: false,\n",
       "  &quot;center&quot;: false,\n",
       "  &quot;below&quot;: false,\n",
       "  &quot;offset&quot;: &quot;100%&quot;,\n",
       "  &quot;orientation&quot;: 0,\n",
       "  &quot;attributes&quot;: {\n",
       "  &quot;fill&quot;: &quot;green&quot;,\n",
       "  &quot;font-size&quot;: &quot;15px&quot;,\n",
       "},\n",
       "}\n",
       "            );\n",
       "        \n",
       "    \n",
       "            feature_group_57eb7685488d4c4ce7f546cb3b6a2eec.addTo(map_e8a762f94c93c6d810e0a0b3bd8bc3f0);\n",
       "        \n",
       "    \n",
       "            var feature_group_a3ee6ada2103ee2c033dd62582389b08 = L.featureGroup(\n",
       "                {\n",
       "}\n",
       "            );\n",
       "        \n",
       "    \n",
       "            var poly_line_3fde8eda2b7fb43320cd6834c37da841 = L.polyline(\n",
       "                [[23.3291, 113.4644], [30.7928, 114.5055]],\n",
       "                {&quot;bubblingMouseEvents&quot;: true, &quot;color&quot;: &quot;orange&quot;, &quot;dashArray&quot;: null, &quot;dashOffset&quot;: null, &quot;fill&quot;: false, &quot;fillColor&quot;: &quot;orange&quot;, &quot;fillOpacity&quot;: 0.2, &quot;fillRule&quot;: &quot;evenodd&quot;, &quot;lineCap&quot;: &quot;round&quot;, &quot;lineJoin&quot;: &quot;round&quot;, &quot;noClip&quot;: false, &quot;opacity&quot;: 0.8, &quot;smoothFactor&quot;: 1.0, &quot;stroke&quot;: true, &quot;weight&quot;: 4.888888888888889}\n",
       "            ).addTo(feature_group_a3ee6ada2103ee2c033dd62582389b08);\n",
       "        \n",
       "    \n",
       "            poly_line_3fde8eda2b7fb43320cd6834c37da841.bindTooltip(\n",
       "                `&lt;div&gt;\n",
       "                     从 广州工厂 到 武汉分仓\n",
       "                 &lt;/div&gt;`,\n",
       "                {\n",
       "  &quot;sticky&quot;: true,\n",
       "}\n",
       "            );\n",
       "        \n",
       "    \n",
       "            var marker_ebd54f48be59e5aed80154b5efde1cac = L.marker(\n",
       "                [27.06095, 113.98495],\n",
       "                {\n",
       "}\n",
       "            ).addTo(feature_group_a3ee6ada2103ee2c033dd62582389b08);\n",
       "        \n",
       "    \n",
       "            var div_icon_3e81023ac80baa1bee00043297ef53f6 = L.divIcon({\n",
       "  &quot;html&quot;: &quot;\\n                        \\u003cdiv style=\\&quot;white-space: nowrap; font-size: 10px; color: orange; font-weight: bold;\\&quot;\\u003e\\n                            \\u6a59\\u6c41\\u003cbr\\u003e\\n                            14000\\u4ef6\\n                        \\u003c/div\\u003e\\n                    &quot;,\n",
       "  &quot;className&quot;: &quot;empty&quot;,\n",
       "});\n",
       "        \n",
       "    \n",
       "                marker_ebd54f48be59e5aed80154b5efde1cac.setIcon(div_icon_3e81023ac80baa1bee00043297ef53f6);\n",
       "            \n",
       "    \n",
       "            poly_line_3fde8eda2b7fb43320cd6834c37da841.setText(\n",
       "                &quot;\\u25b6&quot;,\n",
       "                {\n",
       "  &quot;repeat&quot;: false,\n",
       "  &quot;center&quot;: false,\n",
       "  &quot;below&quot;: false,\n",
       "  &quot;offset&quot;: &quot;100%&quot;,\n",
       "  &quot;orientation&quot;: 0,\n",
       "  &quot;attributes&quot;: {\n",
       "  &quot;fill&quot;: &quot;orange&quot;,\n",
       "  &quot;font-size&quot;: &quot;15px&quot;,\n",
       "},\n",
       "}\n",
       "            );\n",
       "        \n",
       "    \n",
       "            var poly_line_a9e8fbf4ab08b4e6056ceb02cb49e4d7 = L.polyline(\n",
       "                [[40.004200000000004, 116.50739999999999], [41.896300000000004, 123.5315]],\n",
       "                {&quot;bubblingMouseEvents&quot;: true, &quot;color&quot;: &quot;orange&quot;, &quot;dashArray&quot;: null, &quot;dashOffset&quot;: null, &quot;fill&quot;: false, &quot;fillColor&quot;: &quot;orange&quot;, &quot;fillOpacity&quot;: 0.2, &quot;fillRule&quot;: &quot;evenodd&quot;, &quot;lineCap&quot;: &quot;round&quot;, &quot;lineJoin&quot;: &quot;round&quot;, &quot;noClip&quot;: false, &quot;opacity&quot;: 0.8, &quot;smoothFactor&quot;: 1.0, &quot;stroke&quot;: true, &quot;weight&quot;: 3.2222222222222223}\n",
       "            ).addTo(feature_group_a3ee6ada2103ee2c033dd62582389b08);\n",
       "        \n",
       "    \n",
       "            poly_line_a9e8fbf4ab08b4e6056ceb02cb49e4d7.bindTooltip(\n",
       "                `&lt;div&gt;\n",
       "                     从 北京工厂 到 沈阳客户\n",
       "                 &lt;/div&gt;`,\n",
       "                {\n",
       "  &quot;sticky&quot;: true,\n",
       "}\n",
       "            );\n",
       "        \n",
       "    \n",
       "            var marker_e46755fb7e35a250a4a4d49aaec561ce = L.marker(\n",
       "                [40.950250000000004, 120.01944999999999],\n",
       "                {\n",
       "}\n",
       "            ).addTo(feature_group_a3ee6ada2103ee2c033dd62582389b08);\n",
       "        \n",
       "    \n",
       "            var div_icon_6d86a46f79ea0a41bdcba9626218144f = L.divIcon({\n",
       "  &quot;html&quot;: &quot;\\n                        \\u003cdiv style=\\&quot;white-space: nowrap; font-size: 10px; color: orange; font-weight: bold;\\&quot;\\u003e\\n                            \\u6a59\\u6c41\\u003cbr\\u003e\\n                            8000\\u4ef6\\n                        \\u003c/div\\u003e\\n                    &quot;,\n",
       "  &quot;className&quot;: &quot;empty&quot;,\n",
       "});\n",
       "        \n",
       "    \n",
       "                marker_e46755fb7e35a250a4a4d49aaec561ce.setIcon(div_icon_6d86a46f79ea0a41bdcba9626218144f);\n",
       "            \n",
       "    \n",
       "            poly_line_a9e8fbf4ab08b4e6056ceb02cb49e4d7.setText(\n",
       "                &quot;\\u25b6&quot;,\n",
       "                {\n",
       "  &quot;repeat&quot;: false,\n",
       "  &quot;center&quot;: false,\n",
       "  &quot;below&quot;: false,\n",
       "  &quot;offset&quot;: &quot;100%&quot;,\n",
       "  &quot;orientation&quot;: 0,\n",
       "  &quot;attributes&quot;: {\n",
       "  &quot;fill&quot;: &quot;orange&quot;,\n",
       "  &quot;font-size&quot;: &quot;15px&quot;,\n",
       "},\n",
       "}\n",
       "            );\n",
       "        \n",
       "    \n",
       "            var poly_line_d3c04ad8484b08100e60e7679defb587 = L.polyline(\n",
       "                [[23.3291, 113.4644], [22.7431, 114.2579]],\n",
       "                {&quot;bubblingMouseEvents&quot;: true, &quot;color&quot;: &quot;orange&quot;, &quot;dashArray&quot;: null, &quot;dashOffset&quot;: null, &quot;fill&quot;: false, &quot;fillColor&quot;: &quot;orange&quot;, &quot;fillOpacity&quot;: 0.2, &quot;fillRule&quot;: &quot;evenodd&quot;, &quot;lineCap&quot;: &quot;round&quot;, &quot;lineJoin&quot;: &quot;round&quot;, &quot;noClip&quot;: false, &quot;opacity&quot;: 0.8, &quot;smoothFactor&quot;: 1.0, &quot;stroke&quot;: true, &quot;weight&quot;: 5.444444444444445}\n",
       "            ).addTo(feature_group_a3ee6ada2103ee2c033dd62582389b08);\n",
       "        \n",
       "    \n",
       "            poly_line_d3c04ad8484b08100e60e7679defb587.bindTooltip(\n",
       "                `&lt;div&gt;\n",
       "                     从 广州工厂 到 深圳客户\n",
       "                 &lt;/div&gt;`,\n",
       "                {\n",
       "  &quot;sticky&quot;: true,\n",
       "}\n",
       "            );\n",
       "        \n",
       "    \n",
       "            var marker_c3717d6a67a24b0a5298dc8b6323afd9 = L.marker(\n",
       "                [23.036099999999998, 113.86115000000001],\n",
       "                {\n",
       "}\n",
       "            ).addTo(feature_group_a3ee6ada2103ee2c033dd62582389b08);\n",
       "        \n",
       "    \n",
       "            var div_icon_6909f65cdea8663eda5af9cda10a55fb = L.divIcon({\n",
       "  &quot;html&quot;: &quot;\\n                        \\u003cdiv style=\\&quot;white-space: nowrap; font-size: 10px; color: orange; font-weight: bold;\\&quot;\\u003e\\n                            \\u6a59\\u6c41\\u003cbr\\u003e\\n                            16000\\u4ef6\\n                        \\u003c/div\\u003e\\n                    &quot;,\n",
       "  &quot;className&quot;: &quot;empty&quot;,\n",
       "});\n",
       "        \n",
       "    \n",
       "                marker_c3717d6a67a24b0a5298dc8b6323afd9.setIcon(div_icon_6909f65cdea8663eda5af9cda10a55fb);\n",
       "            \n",
       "    \n",
       "            poly_line_d3c04ad8484b08100e60e7679defb587.setText(\n",
       "                &quot;\\u25b6&quot;,\n",
       "                {\n",
       "  &quot;repeat&quot;: false,\n",
       "  &quot;center&quot;: false,\n",
       "  &quot;below&quot;: false,\n",
       "  &quot;offset&quot;: &quot;100%&quot;,\n",
       "  &quot;orientation&quot;: 0,\n",
       "  &quot;attributes&quot;: {\n",
       "  &quot;fill&quot;: &quot;orange&quot;,\n",
       "  &quot;font-size&quot;: &quot;15px&quot;,\n",
       "},\n",
       "}\n",
       "            );\n",
       "        \n",
       "    \n",
       "            var poly_line_a1a63e434ea4883d476ccaffd43ab23d = L.polyline(\n",
       "                [[30.7928, 114.5055], [30.7728, 104.2668]],\n",
       "                {&quot;bubblingMouseEvents&quot;: true, &quot;color&quot;: &quot;orange&quot;, &quot;dashArray&quot;: null, &quot;dashOffset&quot;: null, &quot;fill&quot;: false, &quot;fillColor&quot;: &quot;orange&quot;, &quot;fillOpacity&quot;: 0.2, &quot;fillRule&quot;: &quot;evenodd&quot;, &quot;lineCap&quot;: &quot;round&quot;, &quot;lineJoin&quot;: &quot;round&quot;, &quot;noClip&quot;: false, &quot;opacity&quot;: 0.8, &quot;smoothFactor&quot;: 1.0, &quot;stroke&quot;: true, &quot;weight&quot;: 4.888888888888889}\n",
       "            ).addTo(feature_group_a3ee6ada2103ee2c033dd62582389b08);\n",
       "        \n",
       "    \n",
       "            poly_line_a1a63e434ea4883d476ccaffd43ab23d.bindTooltip(\n",
       "                `&lt;div&gt;\n",
       "                     从 武汉分仓 到 成都客户\n",
       "                 &lt;/div&gt;`,\n",
       "                {\n",
       "  &quot;sticky&quot;: true,\n",
       "}\n",
       "            );\n",
       "        \n",
       "    \n",
       "            var marker_a5c04df879c66a08471e52805cab755e = L.marker(\n",
       "                [30.7828, 109.38615],\n",
       "                {\n",
       "}\n",
       "            ).addTo(feature_group_a3ee6ada2103ee2c033dd62582389b08);\n",
       "        \n",
       "    \n",
       "            var div_icon_577513de9cba814b53709e7f2f3fea5f = L.divIcon({\n",
       "  &quot;html&quot;: &quot;\\n                        \\u003cdiv style=\\&quot;white-space: nowrap; font-size: 10px; color: orange; font-weight: bold;\\&quot;\\u003e\\n                            \\u6a59\\u6c41\\u003cbr\\u003e\\n                            14000\\u4ef6\\n                        \\u003c/div\\u003e\\n                    &quot;,\n",
       "  &quot;className&quot;: &quot;empty&quot;,\n",
       "});\n",
       "        \n",
       "    \n",
       "                marker_a5c04df879c66a08471e52805cab755e.setIcon(div_icon_577513de9cba814b53709e7f2f3fea5f);\n",
       "            \n",
       "    \n",
       "            poly_line_a1a63e434ea4883d476ccaffd43ab23d.setText(\n",
       "                &quot;\\u25b6&quot;,\n",
       "                {\n",
       "  &quot;repeat&quot;: false,\n",
       "  &quot;center&quot;: false,\n",
       "  &quot;below&quot;: false,\n",
       "  &quot;offset&quot;: &quot;100%&quot;,\n",
       "  &quot;orientation&quot;: 0,\n",
       "  &quot;attributes&quot;: {\n",
       "  &quot;fill&quot;: &quot;orange&quot;,\n",
       "  &quot;font-size&quot;: &quot;15px&quot;,\n",
       "},\n",
       "}\n",
       "            );\n",
       "        \n",
       "    \n",
       "            feature_group_a3ee6ada2103ee2c033dd62582389b08.addTo(map_e8a762f94c93c6d810e0a0b3bd8bc3f0);\n",
       "        \n",
       "    \n",
       "            var feature_group_001435c3a3864a14cce39a37183b09a3 = L.featureGroup(\n",
       "                {\n",
       "}\n",
       "            );\n",
       "        \n",
       "    \n",
       "            var poly_line_f028dc62d6f2c32cdc677c454433c9a7 = L.polyline(\n",
       "                [[23.229100000000003, 113.36439999999999], [31.3304, 121.57369999999999]],\n",
       "                {&quot;bubblingMouseEvents&quot;: true, &quot;color&quot;: &quot;green&quot;, &quot;dashArray&quot;: null, &quot;dashOffset&quot;: null, &quot;fill&quot;: false, &quot;fillColor&quot;: &quot;green&quot;, &quot;fillOpacity&quot;: 0.2, &quot;fillRule&quot;: &quot;evenodd&quot;, &quot;lineCap&quot;: &quot;round&quot;, &quot;lineJoin&quot;: &quot;round&quot;, &quot;noClip&quot;: false, &quot;opacity&quot;: 0.8, &quot;smoothFactor&quot;: 1.0, &quot;stroke&quot;: true, &quot;weight&quot;: 2.9444444444444446}\n",
       "            ).addTo(feature_group_001435c3a3864a14cce39a37183b09a3);\n",
       "        \n",
       "    \n",
       "            poly_line_f028dc62d6f2c32cdc677c454433c9a7.bindTooltip(\n",
       "                `&lt;div&gt;\n",
       "                     从 广州工厂 到 上海分仓\n",
       "                 &lt;/div&gt;`,\n",
       "                {\n",
       "  &quot;sticky&quot;: true,\n",
       "}\n",
       "            );\n",
       "        \n",
       "    \n",
       "            var marker_5469ceffe6da9983e62f411e92d1032f = L.marker(\n",
       "                [27.27975, 117.46904999999998],\n",
       "                {\n",
       "}\n",
       "            ).addTo(feature_group_001435c3a3864a14cce39a37183b09a3);\n",
       "        \n",
       "    \n",
       "            var div_icon_ec2c74019da5a8b8f7d3a25d5e2de1eb = L.divIcon({\n",
       "  &quot;html&quot;: &quot;\\n                        \\u003cdiv style=\\&quot;white-space: nowrap; font-size: 10px; color: green; font-weight: bold;\\&quot;\\u003e\\n                            \\u82f9\\u679c\\u6c41\\u003cbr\\u003e\\n                            7000\\u4ef6\\n                        \\u003c/div\\u003e\\n                    &quot;,\n",
       "  &quot;className&quot;: &quot;empty&quot;,\n",
       "});\n",
       "        \n",
       "    \n",
       "                marker_5469ceffe6da9983e62f411e92d1032f.setIcon(div_icon_ec2c74019da5a8b8f7d3a25d5e2de1eb);\n",
       "            \n",
       "    \n",
       "            poly_line_f028dc62d6f2c32cdc677c454433c9a7.setText(\n",
       "                &quot;\\u25b6&quot;,\n",
       "                {\n",
       "  &quot;repeat&quot;: false,\n",
       "  &quot;center&quot;: false,\n",
       "  &quot;below&quot;: false,\n",
       "  &quot;offset&quot;: &quot;100%&quot;,\n",
       "  &quot;orientation&quot;: 0,\n",
       "  &quot;attributes&quot;: {\n",
       "  &quot;fill&quot;: &quot;green&quot;,\n",
       "  &quot;font-size&quot;: &quot;15px&quot;,\n",
       "},\n",
       "}\n",
       "            );\n",
       "        \n",
       "    \n",
       "            var poly_line_c26d9aae347c793e20451de8694a1efa = L.polyline(\n",
       "                [[23.3791, 113.5144], [30.8428, 114.5555]],\n",
       "                {&quot;bubblingMouseEvents&quot;: true, &quot;color&quot;: &quot;green&quot;, &quot;dashArray&quot;: null, &quot;dashOffset&quot;: null, &quot;fill&quot;: false, &quot;fillColor&quot;: &quot;green&quot;, &quot;fillOpacity&quot;: 0.2, &quot;fillRule&quot;: &quot;evenodd&quot;, &quot;lineCap&quot;: &quot;round&quot;, &quot;lineJoin&quot;: &quot;round&quot;, &quot;noClip&quot;: false, &quot;opacity&quot;: 0.8, &quot;smoothFactor&quot;: 1.0, &quot;stroke&quot;: true, &quot;weight&quot;: 3.2222222222222223}\n",
       "            ).addTo(feature_group_001435c3a3864a14cce39a37183b09a3);\n",
       "        \n",
       "    \n",
       "            poly_line_c26d9aae347c793e20451de8694a1efa.bindTooltip(\n",
       "                `&lt;div&gt;\n",
       "                     从 广州工厂 到 武汉分仓\n",
       "                 &lt;/div&gt;`,\n",
       "                {\n",
       "  &quot;sticky&quot;: true,\n",
       "}\n",
       "            );\n",
       "        \n",
       "    \n",
       "            var marker_cc87cb98d5a07e7ac77f936708816d74 = L.marker(\n",
       "                [27.110950000000003, 114.03495],\n",
       "                {\n",
       "}\n",
       "            ).addTo(feature_group_001435c3a3864a14cce39a37183b09a3);\n",
       "        \n",
       "    \n",
       "            var div_icon_e932ff545e2c2467d2cd55855fd20071 = L.divIcon({\n",
       "  &quot;html&quot;: &quot;\\n                        \\u003cdiv style=\\&quot;white-space: nowrap; font-size: 10px; color: green; font-weight: bold;\\&quot;\\u003e\\n                            \\u82f9\\u679c\\u6c41\\u003cbr\\u003e\\n                            8000\\u4ef6\\n                        \\u003c/div\\u003e\\n                    &quot;,\n",
       "  &quot;className&quot;: &quot;empty&quot;,\n",
       "});\n",
       "        \n",
       "    \n",
       "                marker_cc87cb98d5a07e7ac77f936708816d74.setIcon(div_icon_e932ff545e2c2467d2cd55855fd20071);\n",
       "            \n",
       "    \n",
       "            poly_line_c26d9aae347c793e20451de8694a1efa.setText(\n",
       "                &quot;\\u25b6&quot;,\n",
       "                {\n",
       "  &quot;repeat&quot;: false,\n",
       "  &quot;center&quot;: false,\n",
       "  &quot;below&quot;: false,\n",
       "  &quot;offset&quot;: &quot;100%&quot;,\n",
       "  &quot;orientation&quot;: 0,\n",
       "  &quot;attributes&quot;: {\n",
       "  &quot;fill&quot;: &quot;green&quot;,\n",
       "  &quot;font-size&quot;: &quot;15px&quot;,\n",
       "},\n",
       "}\n",
       "            );\n",
       "        \n",
       "    \n",
       "            var poly_line_5d22c3858f4729e3062e3cc8c3664710 = L.polyline(\n",
       "                [[23.3791, 113.5144], [22.7931, 114.3079]],\n",
       "                {&quot;bubblingMouseEvents&quot;: true, &quot;color&quot;: &quot;green&quot;, &quot;dashArray&quot;: null, &quot;dashOffset&quot;: null, &quot;fill&quot;: false, &quot;fillColor&quot;: &quot;green&quot;, &quot;fillOpacity&quot;: 0.2, &quot;fillRule&quot;: &quot;evenodd&quot;, &quot;lineCap&quot;: &quot;round&quot;, &quot;lineJoin&quot;: &quot;round&quot;, &quot;noClip&quot;: false, &quot;opacity&quot;: 0.8, &quot;smoothFactor&quot;: 1.0, &quot;stroke&quot;: true, &quot;weight&quot;: 3.7777777777777777}\n",
       "            ).addTo(feature_group_001435c3a3864a14cce39a37183b09a3);\n",
       "        \n",
       "    \n",
       "            poly_line_5d22c3858f4729e3062e3cc8c3664710.bindTooltip(\n",
       "                `&lt;div&gt;\n",
       "                     从 广州工厂 到 深圳客户\n",
       "                 &lt;/div&gt;`,\n",
       "                {\n",
       "  &quot;sticky&quot;: true,\n",
       "}\n",
       "            );\n",
       "        \n",
       "    \n",
       "            var marker_8214099e855b494dc3f5e5a6390bf55f = L.marker(\n",
       "                [23.086100000000002, 113.91114999999999],\n",
       "                {\n",
       "}\n",
       "            ).addTo(feature_group_001435c3a3864a14cce39a37183b09a3);\n",
       "        \n",
       "    \n",
       "            var div_icon_c5d097de18d6d93e8892811ff2dfd90b = L.divIcon({\n",
       "  &quot;html&quot;: &quot;\\n                        \\u003cdiv style=\\&quot;white-space: nowrap; font-size: 10px; color: green; font-weight: bold;\\&quot;\\u003e\\n                            \\u82f9\\u679c\\u6c41\\u003cbr\\u003e\\n                            10000\\u4ef6\\n                        \\u003c/div\\u003e\\n                    &quot;,\n",
       "  &quot;className&quot;: &quot;empty&quot;,\n",
       "});\n",
       "        \n",
       "    \n",
       "                marker_8214099e855b494dc3f5e5a6390bf55f.setIcon(div_icon_c5d097de18d6d93e8892811ff2dfd90b);\n",
       "            \n",
       "    \n",
       "            poly_line_5d22c3858f4729e3062e3cc8c3664710.setText(\n",
       "                &quot;\\u25b6&quot;,\n",
       "                {\n",
       "  &quot;repeat&quot;: false,\n",
       "  &quot;center&quot;: false,\n",
       "  &quot;below&quot;: false,\n",
       "  &quot;offset&quot;: &quot;100%&quot;,\n",
       "  &quot;orientation&quot;: 0,\n",
       "  &quot;attributes&quot;: {\n",
       "  &quot;fill&quot;: &quot;green&quot;,\n",
       "  &quot;font-size&quot;: &quot;15px&quot;,\n",
       "},\n",
       "}\n",
       "            );\n",
       "        \n",
       "    \n",
       "            var poly_line_25046977ce6b27c990be83053fd2a827 = L.polyline(\n",
       "                [[31.3304, 121.57369999999999], [41.896300000000004, 123.5315]],\n",
       "                {&quot;bubblingMouseEvents&quot;: true, &quot;color&quot;: &quot;green&quot;, &quot;dashArray&quot;: null, &quot;dashOffset&quot;: null, &quot;fill&quot;: false, &quot;fillColor&quot;: &quot;green&quot;, &quot;fillOpacity&quot;: 0.2, &quot;fillRule&quot;: &quot;evenodd&quot;, &quot;lineCap&quot;: &quot;round&quot;, &quot;lineJoin&quot;: &quot;round&quot;, &quot;noClip&quot;: false, &quot;opacity&quot;: 0.8, &quot;smoothFactor&quot;: 1.0, &quot;stroke&quot;: true, &quot;weight&quot;: 2.9444444444444446}\n",
       "            ).addTo(feature_group_001435c3a3864a14cce39a37183b09a3);\n",
       "        \n",
       "    \n",
       "            poly_line_25046977ce6b27c990be83053fd2a827.bindTooltip(\n",
       "                `&lt;div&gt;\n",
       "                     从 上海分仓 到 沈阳客户\n",
       "                 &lt;/div&gt;`,\n",
       "                {\n",
       "  &quot;sticky&quot;: true,\n",
       "}\n",
       "            );\n",
       "        \n",
       "    \n",
       "            var marker_69618d524714a810301b3ce5895352cf = L.marker(\n",
       "                [36.613350000000004, 122.55259999999998],\n",
       "                {\n",
       "}\n",
       "            ).addTo(feature_group_001435c3a3864a14cce39a37183b09a3);\n",
       "        \n",
       "    \n",
       "            var div_icon_3ffdca9bf09c994b8fd8b4f6eff83a5e = L.divIcon({\n",
       "  &quot;html&quot;: &quot;\\n                        \\u003cdiv style=\\&quot;white-space: nowrap; font-size: 10px; color: green; font-weight: bold;\\&quot;\\u003e\\n                            \\u82f9\\u679c\\u6c41\\u003cbr\\u003e\\n                            7000\\u4ef6\\n                        \\u003c/div\\u003e\\n                    &quot;,\n",
       "  &quot;className&quot;: &quot;empty&quot;,\n",
       "});\n",
       "        \n",
       "    \n",
       "                marker_69618d524714a810301b3ce5895352cf.setIcon(div_icon_3ffdca9bf09c994b8fd8b4f6eff83a5e);\n",
       "            \n",
       "    \n",
       "            poly_line_25046977ce6b27c990be83053fd2a827.setText(\n",
       "                &quot;\\u25b6&quot;,\n",
       "                {\n",
       "  &quot;repeat&quot;: false,\n",
       "  &quot;center&quot;: false,\n",
       "  &quot;below&quot;: false,\n",
       "  &quot;offset&quot;: &quot;100%&quot;,\n",
       "  &quot;orientation&quot;: 0,\n",
       "  &quot;attributes&quot;: {\n",
       "  &quot;fill&quot;: &quot;green&quot;,\n",
       "  &quot;font-size&quot;: &quot;15px&quot;,\n",
       "},\n",
       "}\n",
       "            );\n",
       "        \n",
       "    \n",
       "            var poly_line_60129e592813a008e9970f8d2ce5f450 = L.polyline(\n",
       "                [[30.8428, 114.5555], [30.8228, 104.3168]],\n",
       "                {&quot;bubblingMouseEvents&quot;: true, &quot;color&quot;: &quot;green&quot;, &quot;dashArray&quot;: null, &quot;dashOffset&quot;: null, &quot;fill&quot;: false, &quot;fillColor&quot;: &quot;green&quot;, &quot;fillOpacity&quot;: 0.2, &quot;fillRule&quot;: &quot;evenodd&quot;, &quot;lineCap&quot;: &quot;round&quot;, &quot;lineJoin&quot;: &quot;round&quot;, &quot;noClip&quot;: false, &quot;opacity&quot;: 0.8, &quot;smoothFactor&quot;: 1.0, &quot;stroke&quot;: true, &quot;weight&quot;: 3.2222222222222223}\n",
       "            ).addTo(feature_group_001435c3a3864a14cce39a37183b09a3);\n",
       "        \n",
       "    \n",
       "            poly_line_60129e592813a008e9970f8d2ce5f450.bindTooltip(\n",
       "                `&lt;div&gt;\n",
       "                     从 武汉分仓 到 成都客户\n",
       "                 &lt;/div&gt;`,\n",
       "                {\n",
       "  &quot;sticky&quot;: true,\n",
       "}\n",
       "            );\n",
       "        \n",
       "    \n",
       "            var marker_caf63a03660e913c91cd36a95b528342 = L.marker(\n",
       "                [30.8328, 109.43615],\n",
       "                {\n",
       "}\n",
       "            ).addTo(feature_group_001435c3a3864a14cce39a37183b09a3);\n",
       "        \n",
       "    \n",
       "            var div_icon_0a3397442a7a5b1fbe0d82d2ba08d91d = L.divIcon({\n",
       "  &quot;html&quot;: &quot;\\n                        \\u003cdiv style=\\&quot;white-space: nowrap; font-size: 10px; color: green; font-weight: bold;\\&quot;\\u003e\\n                            \\u82f9\\u679c\\u6c41\\u003cbr\\u003e\\n                            8000\\u4ef6\\n                        \\u003c/div\\u003e\\n                    &quot;,\n",
       "  &quot;className&quot;: &quot;empty&quot;,\n",
       "});\n",
       "        \n",
       "    \n",
       "                marker_caf63a03660e913c91cd36a95b528342.setIcon(div_icon_0a3397442a7a5b1fbe0d82d2ba08d91d);\n",
       "            \n",
       "    \n",
       "            poly_line_60129e592813a008e9970f8d2ce5f450.setText(\n",
       "                &quot;\\u25b6&quot;,\n",
       "                {\n",
       "  &quot;repeat&quot;: false,\n",
       "  &quot;center&quot;: false,\n",
       "  &quot;below&quot;: false,\n",
       "  &quot;offset&quot;: &quot;100%&quot;,\n",
       "  &quot;orientation&quot;: 0,\n",
       "  &quot;attributes&quot;: {\n",
       "  &quot;fill&quot;: &quot;green&quot;,\n",
       "  &quot;font-size&quot;: &quot;15px&quot;,\n",
       "},\n",
       "}\n",
       "            );\n",
       "        \n",
       "    \n",
       "            feature_group_001435c3a3864a14cce39a37183b09a3.addTo(map_e8a762f94c93c6d810e0a0b3bd8bc3f0);\n",
       "        \n",
       "    \n",
       "            var layer_control_ddbc8e3fdec25fb1ed1af96142d06381_layers = {\n",
       "                base_layers : {\n",
       "                    &quot;openstreetmap&quot; : tile_layer_8ffb234d9178bec96ff98784eb704a7c,\n",
       "                },\n",
       "                overlays :  {\n",
       "                    &quot;macro_element_352e9eb03dd92f2b27319673c205aa77&quot; : marker_cluster_352e9eb03dd92f2b27319673c205aa77,\n",
       "                    &quot;\\u7b2c 1 \\u65ec - \\u6a59\\u6c41&quot; : feature_group_bb135f432167e9291bebc39594f0320b,\n",
       "                    &quot;\\u7b2c 1 \\u65ec - \\u82f9\\u679c\\u6c41&quot; : feature_group_fc108fd304844e7c0b507451af5363cc,\n",
       "                    &quot;\\u7b2c 2 \\u65ec - \\u6a59\\u6c41&quot; : feature_group_3e43d969a555822e465e05c4b394393f,\n",
       "                    &quot;\\u7b2c 2 \\u65ec - \\u82f9\\u679c\\u6c41&quot; : feature_group_57eb7685488d4c4ce7f546cb3b6a2eec,\n",
       "                    &quot;\\u7b2c 3 \\u65ec - \\u6a59\\u6c41&quot; : feature_group_a3ee6ada2103ee2c033dd62582389b08,\n",
       "                    &quot;\\u7b2c 3 \\u65ec - \\u82f9\\u679c\\u6c41&quot; : feature_group_001435c3a3864a14cce39a37183b09a3,\n",
       "                },\n",
       "            };\n",
       "            let layer_control_ddbc8e3fdec25fb1ed1af96142d06381 = L.control.layers(\n",
       "                layer_control_ddbc8e3fdec25fb1ed1af96142d06381_layers.base_layers,\n",
       "                layer_control_ddbc8e3fdec25fb1ed1af96142d06381_layers.overlays,\n",
       "                {\n",
       "  &quot;position&quot;: &quot;topright&quot;,\n",
       "  &quot;collapsed&quot;: true,\n",
       "  &quot;autoZIndex&quot;: true,\n",
       "}\n",
       "            ).addTo(map_e8a762f94c93c6d810e0a0b3bd8bc3f0);\n",
       "\n",
       "        \n",
       "    \n",
       "            L.control.fullscreen(\n",
       "                {\n",
       "  &quot;position&quot;: &quot;topleft&quot;,\n",
       "  &quot;title&quot;: &quot;Full Screen&quot;,\n",
       "  &quot;titleCancel&quot;: &quot;Exit Full Screen&quot;,\n",
       "  &quot;forceSeparateButton&quot;: false,\n",
       "}\n",
       "            ).addTo(map_e8a762f94c93c6d810e0a0b3bd8bc3f0);\n",
       "        \n",
       "    \n",
       "            tile_layer_8ffb234d9178bec96ff98784eb704a7c.addTo(map_e8a762f94c93c6d810e0a0b3bd8bc3f0);\n",
       "        \n",
       "    \n",
       "                marker_2540518e686b1dbb287ba0fc9af3db50.setIcon(icon_c4eee4c07f25bd2aa345a05104e28a87);\n",
       "            \n",
       "    \n",
       "                marker_69263fc6ae3fe935120c131f79d94659.setIcon(icon_d5a5b5f76400bac4f8283aab9a986dfb);\n",
       "            \n",
       "    \n",
       "                marker_144884ae623af93db8ee076847fbeda6.setIcon(icon_1bdab61db50538fb2bbf6aa219eb4d0c);\n",
       "            \n",
       "    \n",
       "                marker_efe4a8540d53a85071c7f32a746eb314.setIcon(icon_0f0c29e79f4574d749c050dab119765d);\n",
       "            \n",
       "    \n",
       "                marker_184990be7e2d8581531c908d8bdcc008.setIcon(icon_0001597a7ed25f7490703a166b3eb0ba);\n",
       "            \n",
       "    \n",
       "                marker_911e6899432c0d8825b3f480a547fef3.setIcon(icon_6408e0fcf5a9d3107c88421a28d7d00f);\n",
       "            \n",
       "    \n",
       "                marker_d85aa32e2ddfa287592441821665cae3.setIcon(icon_9865f712fce75b4c344b70d3cb4a334a);\n",
       "            \n",
       "    \n",
       "            marker_cluster_352e9eb03dd92f2b27319673c205aa77.addTo(map_e8a762f94c93c6d810e0a0b3bd8bc3f0);\n",
       "        \n",
       "    \n",
       "                marker_18fe42baecf2d61eba3b031951a1f293.setIcon(div_icon_26bcb78749be404454af8bb6e4f53236);\n",
       "            \n",
       "    \n",
       "                marker_596f04c17b096e1352640b8c2d425633.setIcon(div_icon_afbfc6b1bc81b7e87bc667c9fb1269f1);\n",
       "            \n",
       "    \n",
       "                marker_afc94f309c26a447be00e5c3b6567262.setIcon(div_icon_e4e1bb6cf3a32c6353ce03ee9ab153a5);\n",
       "            \n",
       "    \n",
       "                marker_23324aa562b1cc36f95417395653a688.setIcon(div_icon_31a554814f56fb20e6f4c8d2267f35e4);\n",
       "            \n",
       "    \n",
       "            feature_group_bb135f432167e9291bebc39594f0320b.addTo(map_e8a762f94c93c6d810e0a0b3bd8bc3f0);\n",
       "        \n",
       "    \n",
       "                marker_38be4035efd7ab701a07928054b64c19.setIcon(div_icon_2c89a06b7c58837edb80f4c1e1ba3cf5);\n",
       "            \n",
       "    \n",
       "                marker_6f9890f00d0433f1559c9f003318b54c.setIcon(div_icon_11b055735b3b6dbd79c11a22d632d18e);\n",
       "            \n",
       "    \n",
       "                marker_a1b089690e479899dd104ab4e2846c56.setIcon(div_icon_94e4e23b6306c063a4e33d98e26fe4ea);\n",
       "            \n",
       "    \n",
       "                marker_ba343669dce0967a040adbba0d5d2cfb.setIcon(div_icon_b149fe8893d0b42778fca2a82d575b69);\n",
       "            \n",
       "    \n",
       "                marker_82fc0fd45a6fe484140325153a52171f.setIcon(div_icon_6a8b8931e38e4f76feefe454cd7004c7);\n",
       "            \n",
       "    \n",
       "            feature_group_fc108fd304844e7c0b507451af5363cc.addTo(map_e8a762f94c93c6d810e0a0b3bd8bc3f0);\n",
       "        \n",
       "    \n",
       "                marker_843ba8a339e4ced7465dba9e2e51eeb1.setIcon(div_icon_0ce3caca317b7a0d605e0d689a5a7ecf);\n",
       "            \n",
       "    \n",
       "                marker_03a15b69dfb7d5691943df48683a6082.setIcon(div_icon_2e2755d7e495cca95798dc5924c94212);\n",
       "            \n",
       "    \n",
       "                marker_cd63cb1fa2ed0e410c873430a158913e.setIcon(div_icon_92219ca808151a56f4f3b76f90169112);\n",
       "            \n",
       "    \n",
       "                marker_ac4e09aee39b769deedf9f968f6994aa.setIcon(div_icon_fe15b673fc1e9b446302215290237279);\n",
       "            \n",
       "    \n",
       "            feature_group_3e43d969a555822e465e05c4b394393f.addTo(map_e8a762f94c93c6d810e0a0b3bd8bc3f0);\n",
       "        \n",
       "    \n",
       "                marker_249f03a60820da11e36b0997d94a0f63.setIcon(div_icon_51888e73163f328c4ace7bac19ab5eaa);\n",
       "            \n",
       "    \n",
       "                marker_66c076233d957e8cccd8bf51d323d368.setIcon(div_icon_955b0b662519a107dd394303199c1b6c);\n",
       "            \n",
       "    \n",
       "                marker_206d1aef27eb4e0c8a0f79af02e275c0.setIcon(div_icon_77c4e81c9f7d774a8e79b639f1a4f8e4);\n",
       "            \n",
       "    \n",
       "                marker_19b1ebbb0d6e213abe999641252bf331.setIcon(div_icon_83507dc617f787bccde930cc0da9bf60);\n",
       "            \n",
       "    \n",
       "                marker_0398775d37ef97303fa9f96baf6974ef.setIcon(div_icon_1d14b5365de0d13e2507e6cc7d86f95d);\n",
       "            \n",
       "    \n",
       "            feature_group_57eb7685488d4c4ce7f546cb3b6a2eec.addTo(map_e8a762f94c93c6d810e0a0b3bd8bc3f0);\n",
       "        \n",
       "    \n",
       "                marker_ebd54f48be59e5aed80154b5efde1cac.setIcon(div_icon_3e81023ac80baa1bee00043297ef53f6);\n",
       "            \n",
       "    \n",
       "                marker_e46755fb7e35a250a4a4d49aaec561ce.setIcon(div_icon_6d86a46f79ea0a41bdcba9626218144f);\n",
       "            \n",
       "    \n",
       "                marker_c3717d6a67a24b0a5298dc8b6323afd9.setIcon(div_icon_6909f65cdea8663eda5af9cda10a55fb);\n",
       "            \n",
       "    \n",
       "                marker_a5c04df879c66a08471e52805cab755e.setIcon(div_icon_577513de9cba814b53709e7f2f3fea5f);\n",
       "            \n",
       "    \n",
       "            feature_group_a3ee6ada2103ee2c033dd62582389b08.addTo(map_e8a762f94c93c6d810e0a0b3bd8bc3f0);\n",
       "        \n",
       "    \n",
       "                marker_5469ceffe6da9983e62f411e92d1032f.setIcon(div_icon_ec2c74019da5a8b8f7d3a25d5e2de1eb);\n",
       "            \n",
       "    \n",
       "                marker_cc87cb98d5a07e7ac77f936708816d74.setIcon(div_icon_e932ff545e2c2467d2cd55855fd20071);\n",
       "            \n",
       "    \n",
       "                marker_8214099e855b494dc3f5e5a6390bf55f.setIcon(div_icon_c5d097de18d6d93e8892811ff2dfd90b);\n",
       "            \n",
       "    \n",
       "                marker_69618d524714a810301b3ce5895352cf.setIcon(div_icon_3ffdca9bf09c994b8fd8b4f6eff83a5e);\n",
       "            \n",
       "    \n",
       "                marker_caf63a03660e913c91cd36a95b528342.setIcon(div_icon_0a3397442a7a5b1fbe0d82d2ba08d91d);\n",
       "            \n",
       "    \n",
       "            feature_group_001435c3a3864a14cce39a37183b09a3.addTo(map_e8a762f94c93c6d810e0a0b3bd8bc3f0);\n",
       "        \n",
       "&lt;/script&gt;\n",
       "&lt;/html&gt;\" style=\"position:absolute;width:100%;height:100%;left:0;top:0;border:none !important;\" allowfullscreen webkitallowfullscreen mozallowfullscreen></iframe></div></div>"
      ],
      "text/plain": [
       "<folium.folium.Map at 0x756f04ae8e20>"
      ]
     },
     "metadata": {},
     "output_type": "display_data"
    }
   ],
   "source": [
    "# --- 提取配送方案数据 ---\n",
    "flow_data = []\n",
    "# 工厂到分仓\n",
    "for f in factories:\n",
    "    for w in warehouses:\n",
    "        for p in products:\n",
    "            for t in periods:\n",
    "                if value(flow_fw[f][w][p][t]) > 0:\n",
    "                    flow_data.append({\n",
    "                        '起点': f,\n",
    "                        '终点': w,\n",
    "                        '产品': p,\n",
    "                        '周期（旬）': t,\n",
    "                        '数量': int(value(flow_fw[f][w][p][t])),\n",
    "                        '类型': '工厂->分仓'\n",
    "                    })\n",
    "# 工厂到客户\n",
    "for f in factories:\n",
    "    for c in customers:\n",
    "        for p in products:\n",
    "            for t in periods:\n",
    "                if value(flow_fc[f][c][p][t]) > 0:\n",
    "                    flow_data.append({\n",
    "                        '起点': f,\n",
    "                        '终点': c,\n",
    "                        '产品': p,\n",
    "                        '周期（旬）': t,\n",
    "                        '数量': int(value(flow_fc[f][c][p][t])),\n",
    "                        '类型': '工厂->客户'\n",
    "                    })\n",
    "# 分仓到客户\n",
    "for w in warehouses:\n",
    "    for c in customers:\n",
    "        for p in products:\n",
    "            for t in periods:\n",
    "                if value(flow_wc[w][c][p][t]) > 0:\n",
    "                    flow_data.append({\n",
    "                        '起点': w,\n",
    "                        '终点': c,\n",
    "                        '产品': p,\n",
    "                        '周期（旬）': t,\n",
    "                        '数量': int(value(flow_wc[w][c][p][t])),\n",
    "                        '类型': '分仓->客户'\n",
    "                    })\n",
    "\n",
    "flow_df = pd.DataFrame(flow_data)\n",
    "\n",
    "# --- 1. 最优配送方案数据表格 ---\n",
    "print(\"\\n--- 最优配送方案 ---\")\n",
    "if not flow_df.empty:\n",
    "    # print(flow_df.to_string(index=False))\n",
    "    display(flow_df)\n",
    "else:\n",
    "    print(\"没有配送记录。\")\n",
    "\n",
    "# --- 2. 配送流向地图 ---\n",
    "if not flow_df.empty:\n",
    "    m = folium.Map(location=[34.7, 108.9], zoom_start=4)\n",
    "    # 定义图标配置\n",
    "    icon_configs = {\n",
    "        'factories': {\n",
    "            'icon': 'industry',\n",
    "            'prefix': 'fa',\n",
    "            'color': 'red',\n",
    "            'icon_color': 'white',\n",
    "            'tooltip': '工厂'\n",
    "        },\n",
    "        'warehouses': {\n",
    "            'icon': 'warehouse',\n",
    "            'prefix': 'fa',\n",
    "            'color': 'blue',\n",
    "            'icon_color': 'white',\n",
    "            'tooltip': '分仓'\n",
    "        },\n",
    "        'customers': {\n",
    "            'icon': 'user',\n",
    "            'prefix': 'fa',\n",
    "            'color': 'green',\n",
    "            'icon_color': 'white',\n",
    "            'tooltip': '客户'\n",
    "        }\n",
    "    }\n",
    "\n",
    "    # 添加站点标记，并使用不同的图标\n",
    "    marker_cluster = MarkerCluster().add_to(m)\n",
    "    for name, coords in locations.items():\n",
    "        # 根据站点类型选择图标配置\n",
    "        if name in factories:\n",
    "            config = icon_configs['factories']\n",
    "        elif name in warehouses:\n",
    "            config = icon_configs['warehouses']\n",
    "        else: # 默认为客户\n",
    "            config = icon_configs['customers']\n",
    "            \n",
    "        # 创建一个自定义图标\n",
    "        custom_icon = folium.Icon(\n",
    "            icon=config['icon'],\n",
    "            prefix=config['prefix'],\n",
    "            color=config['color'],\n",
    "            icon_color=config['icon_color']\n",
    "        )\n",
    "        \n",
    "        # 添加标记到地图，并指定自定义图标\n",
    "        folium.Marker(\n",
    "            location=coords,\n",
    "            popup=name,\n",
    "            tooltip=f\"{name} ({config['tooltip']})\",\n",
    "            icon=custom_icon\n",
    "        ).add_to(marker_cluster)\n",
    "    \n",
    "    # 定义产品颜色映射\n",
    "    product_colors = {\n",
    "        '橙汁': 'orange',\n",
    "        '苹果汁': 'green'\n",
    "    }\n",
    "    \n",
    "    # 最大的流量值，用于计算线的粗细\n",
    "    max_flow = flow_df['数量'].max() if not flow_df.empty else 1\n",
    "\n",
    "    # 新增：用于处理线条重叠的偏移字典\n",
    "    overlap_offsets = defaultdict(int)\n",
    "\n",
    "    # 按“旬”和“产品”两个维度创建 FeatureGroup\n",
    "    for t in periods:\n",
    "        for p in products:\n",
    "            filtered_df = flow_df[(flow_df['周期（旬）'] == t) & (flow_df['产品'] == p)]\n",
    "\n",
    "            if not filtered_df.empty:\n",
    "                layer_name = f\"第 {t} 旬 - {p}\"\n",
    "                product_period_layer = folium.FeatureGroup(name=layer_name).add_to(m)\n",
    "\n",
    "                for _, row in filtered_df.iterrows():\n",
    "                    source_coords_orig = locations[row['起点']]\n",
    "                    dest_coords_orig = locations[row['终点']]\n",
    "\n",
    "                    # 检查是否存在重叠，并获取偏移量\n",
    "                    key = tuple(sorted([row['起点'], row['终点']])) # 使用排序后的元组作为键\n",
    "                    current_offset = overlap_offsets[key]\n",
    "                    \n",
    "                    # 定义偏移量，微调纬度和经度\n",
    "                    offset_lat = current_offset * 0.05\n",
    "                    offset_lon = current_offset * 0.05\n",
    "\n",
    "                    source_coords = [source_coords_orig[0] + offset_lat, source_coords_orig[1] + offset_lon]\n",
    "                    dest_coords = [dest_coords_orig[0] + offset_lat, dest_coords_orig[1] + offset_lon]\n",
    "                    \n",
    "                    line_weight = row['数量'] / max_flow * 5 + 1\n",
    "                    line_color = product_colors.get(row['产品'], 'gray')\n",
    "                    \n",
    "                    path_points = [source_coords, dest_coords]\n",
    "                    polyline = folium.PolyLine(path_points, color=line_color, weight=line_weight, opacity=0.8, tooltip=f\"从 {row['起点']} 到 {row['终点']}\").add_to(product_period_layer)\n",
    "\n",
    "                    # AntPath(\n",
    "                    #     [source_coords, dest_coords],\n",
    "                    #     color=line_color,\n",
    "                    #     weight=line_weight,\n",
    "                    #     opacity=0.8,\n",
    "                    #     pulse_color='transparent',\n",
    "                    #     delay=400,\n",
    "                    #     dash_array=[10, 20],\n",
    "                    #     tooltip=f\"从 {row['起点']} 到 {row['终点']}\"\n",
    "                    # ).add_to(product_period_layer)\n",
    "\n",
    "                    mid_coords = [\n",
    "                        (source_coords[0] + dest_coords[0]) / 2,\n",
    "                        (source_coords[1] + dest_coords[1]) / 2\n",
    "                    ]\n",
    "                    \n",
    "                    description = f\"\"\"\n",
    "                        <div style=\"white-space: nowrap; font-size: 10px; color: {line_color}; font-weight: bold;\">\n",
    "                            {row['产品']}<br>\n",
    "                            {row['数量']:.0f}件\n",
    "                        </div>\n",
    "                    \"\"\"\n",
    "                    \n",
    "                    folium.Marker(\n",
    "                        location=mid_coords,\n",
    "                        icon=folium.DivIcon(html=description)\n",
    "                    ).add_to(product_period_layer)\n",
    "                    PolyLineTextPath(polyline, \"▶\", repeat=False, offset='100%', attributes={'fill': line_color, 'font-size': '15px'}).add_to(product_period_layer)\n",
    "\n",
    "                    # 增加偏移计数器，为下一条重叠的线做准备\n",
    "                    overlap_offsets[key] += 1\n",
    "\n",
    "    folium.LayerControl().add_to(m)\n",
    "    # 添加一个全屏按钮\n",
    "    Fullscreen().add_to(m)\n",
    "    \n",
    "    m.save(\"supply_chain_flow_map.html\")\n",
    "    display(m)"
   ]
  },
  {
   "cell_type": "code",
   "execution_count": 12,
   "metadata": {},
   "outputs": [
    {
     "data": {
      "text/html": [
       "<div style=\"width:100%;\"><div style=\"position:relative;width:100%;height:0;padding-bottom:60%;\"><span style=\"color:#565656\">Make this Notebook Trusted to load map: File -> Trust Notebook</span><iframe srcdoc=\"&lt;!DOCTYPE html&gt;\n",
       "&lt;html&gt;\n",
       "&lt;head&gt;\n",
       "    \n",
       "    &lt;meta http-equiv=&quot;content-type&quot; content=&quot;text/html; charset=UTF-8&quot; /&gt;\n",
       "    &lt;script src=&quot;https://cdn.jsdelivr.net/npm/leaflet@1.9.3/dist/leaflet.js&quot;&gt;&lt;/script&gt;\n",
       "    &lt;script src=&quot;https://code.jquery.com/jquery-3.7.1.min.js&quot;&gt;&lt;/script&gt;\n",
       "    &lt;script src=&quot;https://cdn.jsdelivr.net/npm/bootstrap@5.2.2/dist/js/bootstrap.bundle.min.js&quot;&gt;&lt;/script&gt;\n",
       "    &lt;script src=&quot;https://cdnjs.cloudflare.com/ajax/libs/Leaflet.awesome-markers/2.0.2/leaflet.awesome-markers.js&quot;&gt;&lt;/script&gt;\n",
       "    &lt;link rel=&quot;stylesheet&quot; href=&quot;https://cdn.jsdelivr.net/npm/leaflet@1.9.3/dist/leaflet.css&quot;/&gt;\n",
       "    &lt;link rel=&quot;stylesheet&quot; href=&quot;https://cdn.jsdelivr.net/npm/bootstrap@5.2.2/dist/css/bootstrap.min.css&quot;/&gt;\n",
       "    &lt;link rel=&quot;stylesheet&quot; href=&quot;https://netdna.bootstrapcdn.com/bootstrap/3.0.0/css/bootstrap-glyphicons.css&quot;/&gt;\n",
       "    &lt;link rel=&quot;stylesheet&quot; href=&quot;https://cdn.jsdelivr.net/npm/@fortawesome/fontawesome-free@6.2.0/css/all.min.css&quot;/&gt;\n",
       "    &lt;link rel=&quot;stylesheet&quot; href=&quot;https://cdnjs.cloudflare.com/ajax/libs/Leaflet.awesome-markers/2.0.2/leaflet.awesome-markers.css&quot;/&gt;\n",
       "    &lt;link rel=&quot;stylesheet&quot; href=&quot;https://cdn.jsdelivr.net/gh/python-visualization/folium/folium/templates/leaflet.awesome.rotate.min.css&quot;/&gt;\n",
       "    \n",
       "            &lt;meta name=&quot;viewport&quot; content=&quot;width=device-width,\n",
       "                initial-scale=1.0, maximum-scale=1.0, user-scalable=no&quot; /&gt;\n",
       "            &lt;style&gt;\n",
       "                #map_f191d6d071bfee5b3046ce2370246165 {\n",
       "                    position: relative;\n",
       "                    width: 100.0%;\n",
       "                    height: 100.0%;\n",
       "                    left: 0.0%;\n",
       "                    top: 0.0%;\n",
       "                }\n",
       "                .leaflet-container { font-size: 1rem; }\n",
       "            &lt;/style&gt;\n",
       "\n",
       "            &lt;style&gt;html, body {\n",
       "                width: 100%;\n",
       "                height: 100%;\n",
       "                margin: 0;\n",
       "                padding: 0;\n",
       "            }\n",
       "            &lt;/style&gt;\n",
       "\n",
       "            &lt;style&gt;#map {\n",
       "                position:absolute;\n",
       "                top:0;\n",
       "                bottom:0;\n",
       "                right:0;\n",
       "                left:0;\n",
       "                }\n",
       "            &lt;/style&gt;\n",
       "\n",
       "            &lt;script&gt;\n",
       "                L_NO_TOUCH = false;\n",
       "                L_DISABLE_3D = false;\n",
       "            &lt;/script&gt;\n",
       "\n",
       "        \n",
       "&lt;/head&gt;\n",
       "&lt;body&gt;\n",
       "    \n",
       "    \n",
       "            &lt;div class=&quot;folium-map&quot; id=&quot;map_f191d6d071bfee5b3046ce2370246165&quot; &gt;&lt;/div&gt;\n",
       "        \n",
       "&lt;/body&gt;\n",
       "&lt;script&gt;\n",
       "    \n",
       "    \n",
       "            var map_f191d6d071bfee5b3046ce2370246165 = L.map(\n",
       "                &quot;map_f191d6d071bfee5b3046ce2370246165&quot;,\n",
       "                {\n",
       "                    center: [34.7, 108.9],\n",
       "                    crs: L.CRS.EPSG3857,\n",
       "                    ...{\n",
       "  &quot;zoom&quot;: 4,\n",
       "  &quot;zoomControl&quot;: true,\n",
       "  &quot;preferCanvas&quot;: false,\n",
       "}\n",
       "\n",
       "                }\n",
       "            );\n",
       "\n",
       "            \n",
       "\n",
       "        \n",
       "    \n",
       "            var tile_layer_1c223f804058814912e6d9a5e4bb01c2 = L.tileLayer(\n",
       "                &quot;https://tile.openstreetmap.org/{z}/{x}/{y}.png&quot;,\n",
       "                {\n",
       "  &quot;minZoom&quot;: 0,\n",
       "  &quot;maxZoom&quot;: 19,\n",
       "  &quot;maxNativeZoom&quot;: 19,\n",
       "  &quot;noWrap&quot;: false,\n",
       "  &quot;attribution&quot;: &quot;\\u0026copy; \\u003ca href=\\&quot;https://www.openstreetmap.org/copyright\\&quot;\\u003eOpenStreetMap\\u003c/a\\u003e contributors&quot;,\n",
       "  &quot;subdomains&quot;: &quot;abc&quot;,\n",
       "  &quot;detectRetina&quot;: false,\n",
       "  &quot;tms&quot;: false,\n",
       "  &quot;opacity&quot;: 1,\n",
       "}\n",
       "\n",
       "            );\n",
       "        \n",
       "    \n",
       "            tile_layer_1c223f804058814912e6d9a5e4bb01c2.addTo(map_f191d6d071bfee5b3046ce2370246165);\n",
       "        \n",
       "    \n",
       "            var marker_e3a6fd9451aef28bf36c49e19e80dee1 = L.marker(\n",
       "                [39.9042, 116.4074],\n",
       "                {\n",
       "}\n",
       "            ).addTo(map_f191d6d071bfee5b3046ce2370246165);\n",
       "        \n",
       "    \n",
       "        var popup_d43b3664158e9394f6592c51eb7ce7ec = L.popup({\n",
       "  &quot;maxWidth&quot;: &quot;100%&quot;,\n",
       "});\n",
       "\n",
       "        \n",
       "            \n",
       "                var html_cc807372b0fbf37dd4da2499a9eb708f = $(`&lt;div id=&quot;html_cc807372b0fbf37dd4da2499a9eb708f&quot; style=&quot;width: 100.0%; height: 100.0%;&quot;&gt;北京工厂&lt;/div&gt;`)[0];\n",
       "                popup_d43b3664158e9394f6592c51eb7ce7ec.setContent(html_cc807372b0fbf37dd4da2499a9eb708f);\n",
       "            \n",
       "        \n",
       "\n",
       "        marker_e3a6fd9451aef28bf36c49e19e80dee1.bindPopup(popup_d43b3664158e9394f6592c51eb7ce7ec)\n",
       "        ;\n",
       "\n",
       "        \n",
       "    \n",
       "    \n",
       "            marker_e3a6fd9451aef28bf36c49e19e80dee1.bindTooltip(\n",
       "                `&lt;div&gt;\n",
       "                     北京工厂\n",
       "                 &lt;/div&gt;`,\n",
       "                {\n",
       "  &quot;sticky&quot;: true,\n",
       "}\n",
       "            );\n",
       "        \n",
       "    \n",
       "            var marker_b0d392549197f5bede6dbd909bfd2504 = L.marker(\n",
       "                [23.1291, 113.2644],\n",
       "                {\n",
       "}\n",
       "            ).addTo(map_f191d6d071bfee5b3046ce2370246165);\n",
       "        \n",
       "    \n",
       "        var popup_8ad39ac05590358dca00bad97533f267 = L.popup({\n",
       "  &quot;maxWidth&quot;: &quot;100%&quot;,\n",
       "});\n",
       "\n",
       "        \n",
       "            \n",
       "                var html_28e718bd14cea733c4b75dd272916acf = $(`&lt;div id=&quot;html_28e718bd14cea733c4b75dd272916acf&quot; style=&quot;width: 100.0%; height: 100.0%;&quot;&gt;广州工厂&lt;/div&gt;`)[0];\n",
       "                popup_8ad39ac05590358dca00bad97533f267.setContent(html_28e718bd14cea733c4b75dd272916acf);\n",
       "            \n",
       "        \n",
       "\n",
       "        marker_b0d392549197f5bede6dbd909bfd2504.bindPopup(popup_8ad39ac05590358dca00bad97533f267)\n",
       "        ;\n",
       "\n",
       "        \n",
       "    \n",
       "    \n",
       "            marker_b0d392549197f5bede6dbd909bfd2504.bindTooltip(\n",
       "                `&lt;div&gt;\n",
       "                     广州工厂\n",
       "                 &lt;/div&gt;`,\n",
       "                {\n",
       "  &quot;sticky&quot;: true,\n",
       "}\n",
       "            );\n",
       "        \n",
       "    \n",
       "            var marker_ac30a69129d144d1b26c20692821cb7a = L.marker(\n",
       "                [31.2304, 121.4737],\n",
       "                {\n",
       "}\n",
       "            ).addTo(map_f191d6d071bfee5b3046ce2370246165);\n",
       "        \n",
       "    \n",
       "        var popup_7b482bc1e55b19a7240d46eb4f68ab50 = L.popup({\n",
       "  &quot;maxWidth&quot;: &quot;100%&quot;,\n",
       "});\n",
       "\n",
       "        \n",
       "            \n",
       "                var html_093b9668db3459a4acda428719e2d24b = $(`&lt;div id=&quot;html_093b9668db3459a4acda428719e2d24b&quot; style=&quot;width: 100.0%; height: 100.0%;&quot;&gt;上海分仓&lt;/div&gt;`)[0];\n",
       "                popup_7b482bc1e55b19a7240d46eb4f68ab50.setContent(html_093b9668db3459a4acda428719e2d24b);\n",
       "            \n",
       "        \n",
       "\n",
       "        marker_ac30a69129d144d1b26c20692821cb7a.bindPopup(popup_7b482bc1e55b19a7240d46eb4f68ab50)\n",
       "        ;\n",
       "\n",
       "        \n",
       "    \n",
       "    \n",
       "            marker_ac30a69129d144d1b26c20692821cb7a.bindTooltip(\n",
       "                `&lt;div&gt;\n",
       "                     上海分仓\n",
       "                 &lt;/div&gt;`,\n",
       "                {\n",
       "  &quot;sticky&quot;: true,\n",
       "}\n",
       "            );\n",
       "        \n",
       "    \n",
       "            var marker_56560013ab59d09fe662215f965f5416 = L.marker(\n",
       "                [30.5928, 114.3055],\n",
       "                {\n",
       "}\n",
       "            ).addTo(map_f191d6d071bfee5b3046ce2370246165);\n",
       "        \n",
       "    \n",
       "        var popup_027dd856ba300ffceb019b1e5250e4f1 = L.popup({\n",
       "  &quot;maxWidth&quot;: &quot;100%&quot;,\n",
       "});\n",
       "\n",
       "        \n",
       "            \n",
       "                var html_f428214be48a8a658b9cc19afc3b8d18 = $(`&lt;div id=&quot;html_f428214be48a8a658b9cc19afc3b8d18&quot; style=&quot;width: 100.0%; height: 100.0%;&quot;&gt;武汉分仓&lt;/div&gt;`)[0];\n",
       "                popup_027dd856ba300ffceb019b1e5250e4f1.setContent(html_f428214be48a8a658b9cc19afc3b8d18);\n",
       "            \n",
       "        \n",
       "\n",
       "        marker_56560013ab59d09fe662215f965f5416.bindPopup(popup_027dd856ba300ffceb019b1e5250e4f1)\n",
       "        ;\n",
       "\n",
       "        \n",
       "    \n",
       "    \n",
       "            marker_56560013ab59d09fe662215f965f5416.bindTooltip(\n",
       "                `&lt;div&gt;\n",
       "                     武汉分仓\n",
       "                 &lt;/div&gt;`,\n",
       "                {\n",
       "  &quot;sticky&quot;: true,\n",
       "}\n",
       "            );\n",
       "        \n",
       "    \n",
       "            var marker_449ae4704ffe0e320d05a50213ccd615 = L.marker(\n",
       "                [41.7963, 123.4315],\n",
       "                {\n",
       "}\n",
       "            ).addTo(map_f191d6d071bfee5b3046ce2370246165);\n",
       "        \n",
       "    \n",
       "        var popup_c4c17d1953776affeaa8d53baf6a0008 = L.popup({\n",
       "  &quot;maxWidth&quot;: &quot;100%&quot;,\n",
       "});\n",
       "\n",
       "        \n",
       "            \n",
       "                var html_7ad7fd408e9e25f055f12ee265888157 = $(`&lt;div id=&quot;html_7ad7fd408e9e25f055f12ee265888157&quot; style=&quot;width: 100.0%; height: 100.0%;&quot;&gt;沈阳客户&lt;/div&gt;`)[0];\n",
       "                popup_c4c17d1953776affeaa8d53baf6a0008.setContent(html_7ad7fd408e9e25f055f12ee265888157);\n",
       "            \n",
       "        \n",
       "\n",
       "        marker_449ae4704ffe0e320d05a50213ccd615.bindPopup(popup_c4c17d1953776affeaa8d53baf6a0008)\n",
       "        ;\n",
       "\n",
       "        \n",
       "    \n",
       "    \n",
       "            marker_449ae4704ffe0e320d05a50213ccd615.bindTooltip(\n",
       "                `&lt;div&gt;\n",
       "                     沈阳客户\n",
       "                 &lt;/div&gt;`,\n",
       "                {\n",
       "  &quot;sticky&quot;: true,\n",
       "}\n",
       "            );\n",
       "        \n",
       "    \n",
       "            var marker_cd6c4d46f642e527ecc7c6488d30e0d8 = L.marker(\n",
       "                [22.5431, 114.0579],\n",
       "                {\n",
       "}\n",
       "            ).addTo(map_f191d6d071bfee5b3046ce2370246165);\n",
       "        \n",
       "    \n",
       "        var popup_a207294958b3eab082e1d5b691384acb = L.popup({\n",
       "  &quot;maxWidth&quot;: &quot;100%&quot;,\n",
       "});\n",
       "\n",
       "        \n",
       "            \n",
       "                var html_6ab13e0622d0520c182267dc556fc250 = $(`&lt;div id=&quot;html_6ab13e0622d0520c182267dc556fc250&quot; style=&quot;width: 100.0%; height: 100.0%;&quot;&gt;深圳客户&lt;/div&gt;`)[0];\n",
       "                popup_a207294958b3eab082e1d5b691384acb.setContent(html_6ab13e0622d0520c182267dc556fc250);\n",
       "            \n",
       "        \n",
       "\n",
       "        marker_cd6c4d46f642e527ecc7c6488d30e0d8.bindPopup(popup_a207294958b3eab082e1d5b691384acb)\n",
       "        ;\n",
       "\n",
       "        \n",
       "    \n",
       "    \n",
       "            marker_cd6c4d46f642e527ecc7c6488d30e0d8.bindTooltip(\n",
       "                `&lt;div&gt;\n",
       "                     深圳客户\n",
       "                 &lt;/div&gt;`,\n",
       "                {\n",
       "  &quot;sticky&quot;: true,\n",
       "}\n",
       "            );\n",
       "        \n",
       "    \n",
       "            var marker_f1ce0f05aa78d996c551b596920dfc01 = L.marker(\n",
       "                [30.5728, 104.0668],\n",
       "                {\n",
       "}\n",
       "            ).addTo(map_f191d6d071bfee5b3046ce2370246165);\n",
       "        \n",
       "    \n",
       "        var popup_f128a32fb8fca47fbe7c2f62e7c732e5 = L.popup({\n",
       "  &quot;maxWidth&quot;: &quot;100%&quot;,\n",
       "});\n",
       "\n",
       "        \n",
       "            \n",
       "                var html_e883c81b9d2582eb52f102be449e0338 = $(`&lt;div id=&quot;html_e883c81b9d2582eb52f102be449e0338&quot; style=&quot;width: 100.0%; height: 100.0%;&quot;&gt;成都客户&lt;/div&gt;`)[0];\n",
       "                popup_f128a32fb8fca47fbe7c2f62e7c732e5.setContent(html_e883c81b9d2582eb52f102be449e0338);\n",
       "            \n",
       "        \n",
       "\n",
       "        marker_f1ce0f05aa78d996c551b596920dfc01.bindPopup(popup_f128a32fb8fca47fbe7c2f62e7c732e5)\n",
       "        ;\n",
       "\n",
       "        \n",
       "    \n",
       "    \n",
       "            marker_f1ce0f05aa78d996c551b596920dfc01.bindTooltip(\n",
       "                `&lt;div&gt;\n",
       "                     成都客户\n",
       "                 &lt;/div&gt;`,\n",
       "                {\n",
       "  &quot;sticky&quot;: true,\n",
       "}\n",
       "            );\n",
       "        \n",
       "    \n",
       "            var poly_line_9940fb3a83e4a8b80f6f324570257ac4 = L.polyline(\n",
       "                [[23.1291, 113.2644], [31.2304, 121.4737]],\n",
       "                {&quot;bubblingMouseEvents&quot;: true, &quot;color&quot;: &quot;blue&quot;, &quot;dashArray&quot;: null, &quot;dashOffset&quot;: null, &quot;fill&quot;: false, &quot;fillColor&quot;: &quot;blue&quot;, &quot;fillOpacity&quot;: 0.2, &quot;fillRule&quot;: &quot;evenodd&quot;, &quot;lineCap&quot;: &quot;round&quot;, &quot;lineJoin&quot;: &quot;round&quot;, &quot;noClip&quot;: false, &quot;opacity&quot;: 0.7, &quot;smoothFactor&quot;: 1.0, &quot;stroke&quot;: true, &quot;weight&quot;: 2.388888888888889}\n",
       "            ).addTo(map_f191d6d071bfee5b3046ce2370246165);\n",
       "        \n",
       "    \n",
       "            poly_line_9940fb3a83e4a8b80f6f324570257ac4.bindTooltip(\n",
       "                `&lt;div&gt;\n",
       "                     从 广州工厂 到 上海分仓: 5000 件 苹果汁 (第 1 旬)\n",
       "                 &lt;/div&gt;`,\n",
       "                {\n",
       "  &quot;sticky&quot;: true,\n",
       "}\n",
       "            );\n",
       "        \n",
       "    \n",
       "            var poly_line_81deef3047baf7d725ca0bee11cb19b8 = L.polyline(\n",
       "                [[23.1291, 113.2644], [31.2304, 121.4737]],\n",
       "                {&quot;bubblingMouseEvents&quot;: true, &quot;color&quot;: &quot;blue&quot;, &quot;dashArray&quot;: null, &quot;dashOffset&quot;: null, &quot;fill&quot;: false, &quot;fillColor&quot;: &quot;blue&quot;, &quot;fillOpacity&quot;: 0.2, &quot;fillRule&quot;: &quot;evenodd&quot;, &quot;lineCap&quot;: &quot;round&quot;, &quot;lineJoin&quot;: &quot;round&quot;, &quot;noClip&quot;: false, &quot;opacity&quot;: 0.7, &quot;smoothFactor&quot;: 1.0, &quot;stroke&quot;: true, &quot;weight&quot;: 2.6666666666666665}\n",
       "            ).addTo(map_f191d6d071bfee5b3046ce2370246165);\n",
       "        \n",
       "    \n",
       "            poly_line_81deef3047baf7d725ca0bee11cb19b8.bindTooltip(\n",
       "                `&lt;div&gt;\n",
       "                     从 广州工厂 到 上海分仓: 6000 件 苹果汁 (第 2 旬)\n",
       "                 &lt;/div&gt;`,\n",
       "                {\n",
       "  &quot;sticky&quot;: true,\n",
       "}\n",
       "            );\n",
       "        \n",
       "    \n",
       "            var poly_line_1608e4f621d3985cd0940d5aae2ebdb3 = L.polyline(\n",
       "                [[23.1291, 113.2644], [31.2304, 121.4737]],\n",
       "                {&quot;bubblingMouseEvents&quot;: true, &quot;color&quot;: &quot;blue&quot;, &quot;dashArray&quot;: null, &quot;dashOffset&quot;: null, &quot;fill&quot;: false, &quot;fillColor&quot;: &quot;blue&quot;, &quot;fillOpacity&quot;: 0.2, &quot;fillRule&quot;: &quot;evenodd&quot;, &quot;lineCap&quot;: &quot;round&quot;, &quot;lineJoin&quot;: &quot;round&quot;, &quot;noClip&quot;: false, &quot;opacity&quot;: 0.7, &quot;smoothFactor&quot;: 1.0, &quot;stroke&quot;: true, &quot;weight&quot;: 2.9444444444444446}\n",
       "            ).addTo(map_f191d6d071bfee5b3046ce2370246165);\n",
       "        \n",
       "    \n",
       "            poly_line_1608e4f621d3985cd0940d5aae2ebdb3.bindTooltip(\n",
       "                `&lt;div&gt;\n",
       "                     从 广州工厂 到 上海分仓: 7000 件 苹果汁 (第 3 旬)\n",
       "                 &lt;/div&gt;`,\n",
       "                {\n",
       "  &quot;sticky&quot;: true,\n",
       "}\n",
       "            );\n",
       "        \n",
       "    \n",
       "            var poly_line_fa3cb824f8206e7d1656935540fa9663 = L.polyline(\n",
       "                [[23.1291, 113.2644], [30.5928, 114.3055]],\n",
       "                {&quot;bubblingMouseEvents&quot;: true, &quot;color&quot;: &quot;blue&quot;, &quot;dashArray&quot;: null, &quot;dashOffset&quot;: null, &quot;fill&quot;: false, &quot;fillColor&quot;: &quot;blue&quot;, &quot;fillOpacity&quot;: 0.2, &quot;fillRule&quot;: &quot;evenodd&quot;, &quot;lineCap&quot;: &quot;round&quot;, &quot;lineJoin&quot;: &quot;round&quot;, &quot;noClip&quot;: false, &quot;opacity&quot;: 0.7, &quot;smoothFactor&quot;: 1.0, &quot;stroke&quot;: true, &quot;weight&quot;: 4.333333333333333}\n",
       "            ).addTo(map_f191d6d071bfee5b3046ce2370246165);\n",
       "        \n",
       "    \n",
       "            poly_line_fa3cb824f8206e7d1656935540fa9663.bindTooltip(\n",
       "                `&lt;div&gt;\n",
       "                     从 广州工厂 到 武汉分仓: 12000 件 橙汁 (第 1 旬)\n",
       "                 &lt;/div&gt;`,\n",
       "                {\n",
       "  &quot;sticky&quot;: true,\n",
       "}\n",
       "            );\n",
       "        \n",
       "    \n",
       "            var poly_line_fca896f5aee4fab4b30a4ba7ea1c00c4 = L.polyline(\n",
       "                [[23.1291, 113.2644], [30.5928, 114.3055]],\n",
       "                {&quot;bubblingMouseEvents&quot;: true, &quot;color&quot;: &quot;blue&quot;, &quot;dashArray&quot;: null, &quot;dashOffset&quot;: null, &quot;fill&quot;: false, &quot;fillColor&quot;: &quot;blue&quot;, &quot;fillOpacity&quot;: 0.2, &quot;fillRule&quot;: &quot;evenodd&quot;, &quot;lineCap&quot;: &quot;round&quot;, &quot;lineJoin&quot;: &quot;round&quot;, &quot;noClip&quot;: false, &quot;opacity&quot;: 0.7, &quot;smoothFactor&quot;: 1.0, &quot;stroke&quot;: true, &quot;weight&quot;: 3.7777777777777777}\n",
       "            ).addTo(map_f191d6d071bfee5b3046ce2370246165);\n",
       "        \n",
       "    \n",
       "            poly_line_fca896f5aee4fab4b30a4ba7ea1c00c4.bindTooltip(\n",
       "                `&lt;div&gt;\n",
       "                     从 广州工厂 到 武汉分仓: 10000 件 橙汁 (第 2 旬)\n",
       "                 &lt;/div&gt;`,\n",
       "                {\n",
       "  &quot;sticky&quot;: true,\n",
       "}\n",
       "            );\n",
       "        \n",
       "    \n",
       "            var poly_line_ec198bb1264cb41c9c8f7875657427df = L.polyline(\n",
       "                [[23.1291, 113.2644], [30.5928, 114.3055]],\n",
       "                {&quot;bubblingMouseEvents&quot;: true, &quot;color&quot;: &quot;blue&quot;, &quot;dashArray&quot;: null, &quot;dashOffset&quot;: null, &quot;fill&quot;: false, &quot;fillColor&quot;: &quot;blue&quot;, &quot;fillOpacity&quot;: 0.2, &quot;fillRule&quot;: &quot;evenodd&quot;, &quot;lineCap&quot;: &quot;round&quot;, &quot;lineJoin&quot;: &quot;round&quot;, &quot;noClip&quot;: false, &quot;opacity&quot;: 0.7, &quot;smoothFactor&quot;: 1.0, &quot;stroke&quot;: true, &quot;weight&quot;: 4.888888888888889}\n",
       "            ).addTo(map_f191d6d071bfee5b3046ce2370246165);\n",
       "        \n",
       "    \n",
       "            poly_line_ec198bb1264cb41c9c8f7875657427df.bindTooltip(\n",
       "                `&lt;div&gt;\n",
       "                     从 广州工厂 到 武汉分仓: 14000 件 橙汁 (第 3 旬)\n",
       "                 &lt;/div&gt;`,\n",
       "                {\n",
       "  &quot;sticky&quot;: true,\n",
       "}\n",
       "            );\n",
       "        \n",
       "    \n",
       "            var poly_line_c589402a608ac25a5b61d9b411e5a146 = L.polyline(\n",
       "                [[23.1291, 113.2644], [30.5928, 114.3055]],\n",
       "                {&quot;bubblingMouseEvents&quot;: true, &quot;color&quot;: &quot;blue&quot;, &quot;dashArray&quot;: null, &quot;dashOffset&quot;: null, &quot;fill&quot;: false, &quot;fillColor&quot;: &quot;blue&quot;, &quot;fillOpacity&quot;: 0.2, &quot;fillRule&quot;: &quot;evenodd&quot;, &quot;lineCap&quot;: &quot;round&quot;, &quot;lineJoin&quot;: &quot;round&quot;, &quot;noClip&quot;: false, &quot;opacity&quot;: 0.7, &quot;smoothFactor&quot;: 1.0, &quot;stroke&quot;: true, &quot;weight&quot;: 2.9444444444444446}\n",
       "            ).addTo(map_f191d6d071bfee5b3046ce2370246165);\n",
       "        \n",
       "    \n",
       "            poly_line_c589402a608ac25a5b61d9b411e5a146.bindTooltip(\n",
       "                `&lt;div&gt;\n",
       "                     从 广州工厂 到 武汉分仓: 7000 件 苹果汁 (第 1 旬)\n",
       "                 &lt;/div&gt;`,\n",
       "                {\n",
       "  &quot;sticky&quot;: true,\n",
       "}\n",
       "            );\n",
       "        \n",
       "    \n",
       "            var poly_line_e2978a0420de087d483b03462f6d4ef9 = L.polyline(\n",
       "                [[23.1291, 113.2644], [30.5928, 114.3055]],\n",
       "                {&quot;bubblingMouseEvents&quot;: true, &quot;color&quot;: &quot;blue&quot;, &quot;dashArray&quot;: null, &quot;dashOffset&quot;: null, &quot;fill&quot;: false, &quot;fillColor&quot;: &quot;blue&quot;, &quot;fillOpacity&quot;: 0.2, &quot;fillRule&quot;: &quot;evenodd&quot;, &quot;lineCap&quot;: &quot;round&quot;, &quot;lineJoin&quot;: &quot;round&quot;, &quot;noClip&quot;: false, &quot;opacity&quot;: 0.7, &quot;smoothFactor&quot;: 1.0, &quot;stroke&quot;: true, &quot;weight&quot;: 2.6666666666666665}\n",
       "            ).addTo(map_f191d6d071bfee5b3046ce2370246165);\n",
       "        \n",
       "    \n",
       "            poly_line_e2978a0420de087d483b03462f6d4ef9.bindTooltip(\n",
       "                `&lt;div&gt;\n",
       "                     从 广州工厂 到 武汉分仓: 6000 件 苹果汁 (第 2 旬)\n",
       "                 &lt;/div&gt;`,\n",
       "                {\n",
       "  &quot;sticky&quot;: true,\n",
       "}\n",
       "            );\n",
       "        \n",
       "    \n",
       "            var poly_line_aae6ecd4b59df2c6025d70a652577843 = L.polyline(\n",
       "                [[23.1291, 113.2644], [30.5928, 114.3055]],\n",
       "                {&quot;bubblingMouseEvents&quot;: true, &quot;color&quot;: &quot;blue&quot;, &quot;dashArray&quot;: null, &quot;dashOffset&quot;: null, &quot;fill&quot;: false, &quot;fillColor&quot;: &quot;blue&quot;, &quot;fillOpacity&quot;: 0.2, &quot;fillRule&quot;: &quot;evenodd&quot;, &quot;lineCap&quot;: &quot;round&quot;, &quot;lineJoin&quot;: &quot;round&quot;, &quot;noClip&quot;: false, &quot;opacity&quot;: 0.7, &quot;smoothFactor&quot;: 1.0, &quot;stroke&quot;: true, &quot;weight&quot;: 3.2222222222222223}\n",
       "            ).addTo(map_f191d6d071bfee5b3046ce2370246165);\n",
       "        \n",
       "    \n",
       "            poly_line_aae6ecd4b59df2c6025d70a652577843.bindTooltip(\n",
       "                `&lt;div&gt;\n",
       "                     从 广州工厂 到 武汉分仓: 8000 件 苹果汁 (第 3 旬)\n",
       "                 &lt;/div&gt;`,\n",
       "                {\n",
       "  &quot;sticky&quot;: true,\n",
       "}\n",
       "            );\n",
       "        \n",
       "    \n",
       "            var poly_line_8ab1836c94fd848190c304ddf7b125d6 = L.polyline(\n",
       "                [[39.9042, 116.4074], [41.7963, 123.4315]],\n",
       "                {&quot;bubblingMouseEvents&quot;: true, &quot;color&quot;: &quot;blue&quot;, &quot;dashArray&quot;: null, &quot;dashOffset&quot;: null, &quot;fill&quot;: false, &quot;fillColor&quot;: &quot;blue&quot;, &quot;fillOpacity&quot;: 0.2, &quot;fillRule&quot;: &quot;evenodd&quot;, &quot;lineCap&quot;: &quot;round&quot;, &quot;lineJoin&quot;: &quot;round&quot;, &quot;noClip&quot;: false, &quot;opacity&quot;: 0.7, &quot;smoothFactor&quot;: 1.0, &quot;stroke&quot;: true, &quot;weight&quot;: 3.7777777777777777}\n",
       "            ).addTo(map_f191d6d071bfee5b3046ce2370246165);\n",
       "        \n",
       "    \n",
       "            poly_line_8ab1836c94fd848190c304ddf7b125d6.bindTooltip(\n",
       "                `&lt;div&gt;\n",
       "                     从 北京工厂 到 沈阳客户: 10000 件 橙汁 (第 1 旬)\n",
       "                 &lt;/div&gt;`,\n",
       "                {\n",
       "  &quot;sticky&quot;: true,\n",
       "}\n",
       "            );\n",
       "        \n",
       "    \n",
       "            var poly_line_1d885b95e22146f29a05f2bd4095b4ed = L.polyline(\n",
       "                [[39.9042, 116.4074], [41.7963, 123.4315]],\n",
       "                {&quot;bubblingMouseEvents&quot;: true, &quot;color&quot;: &quot;blue&quot;, &quot;dashArray&quot;: null, &quot;dashOffset&quot;: null, &quot;fill&quot;: false, &quot;fillColor&quot;: &quot;blue&quot;, &quot;fillOpacity&quot;: 0.2, &quot;fillRule&quot;: &quot;evenodd&quot;, &quot;lineCap&quot;: &quot;round&quot;, &quot;lineJoin&quot;: &quot;round&quot;, &quot;noClip&quot;: false, &quot;opacity&quot;: 0.7, &quot;smoothFactor&quot;: 1.0, &quot;stroke&quot;: true, &quot;weight&quot;: 4.333333333333333}\n",
       "            ).addTo(map_f191d6d071bfee5b3046ce2370246165);\n",
       "        \n",
       "    \n",
       "            poly_line_1d885b95e22146f29a05f2bd4095b4ed.bindTooltip(\n",
       "                `&lt;div&gt;\n",
       "                     从 北京工厂 到 沈阳客户: 12000 件 橙汁 (第 2 旬)\n",
       "                 &lt;/div&gt;`,\n",
       "                {\n",
       "  &quot;sticky&quot;: true,\n",
       "}\n",
       "            );\n",
       "        \n",
       "    \n",
       "            var poly_line_ee14f23cdd31eb9636fe3744f319addb = L.polyline(\n",
       "                [[39.9042, 116.4074], [41.7963, 123.4315]],\n",
       "                {&quot;bubblingMouseEvents&quot;: true, &quot;color&quot;: &quot;blue&quot;, &quot;dashArray&quot;: null, &quot;dashOffset&quot;: null, &quot;fill&quot;: false, &quot;fillColor&quot;: &quot;blue&quot;, &quot;fillOpacity&quot;: 0.2, &quot;fillRule&quot;: &quot;evenodd&quot;, &quot;lineCap&quot;: &quot;round&quot;, &quot;lineJoin&quot;: &quot;round&quot;, &quot;noClip&quot;: false, &quot;opacity&quot;: 0.7, &quot;smoothFactor&quot;: 1.0, &quot;stroke&quot;: true, &quot;weight&quot;: 3.2222222222222223}\n",
       "            ).addTo(map_f191d6d071bfee5b3046ce2370246165);\n",
       "        \n",
       "    \n",
       "            poly_line_ee14f23cdd31eb9636fe3744f319addb.bindTooltip(\n",
       "                `&lt;div&gt;\n",
       "                     从 北京工厂 到 沈阳客户: 8000 件 橙汁 (第 3 旬)\n",
       "                 &lt;/div&gt;`,\n",
       "                {\n",
       "  &quot;sticky&quot;: true,\n",
       "}\n",
       "            );\n",
       "        \n",
       "    \n",
       "            var poly_line_22284da07514f32009ba3b21f9e91013 = L.polyline(\n",
       "                [[23.1291, 113.2644], [22.5431, 114.0579]],\n",
       "                {&quot;bubblingMouseEvents&quot;: true, &quot;color&quot;: &quot;blue&quot;, &quot;dashArray&quot;: null, &quot;dashOffset&quot;: null, &quot;fill&quot;: false, &quot;fillColor&quot;: &quot;blue&quot;, &quot;fillOpacity&quot;: 0.2, &quot;fillRule&quot;: &quot;evenodd&quot;, &quot;lineCap&quot;: &quot;round&quot;, &quot;lineJoin&quot;: &quot;round&quot;, &quot;noClip&quot;: false, &quot;opacity&quot;: 0.7, &quot;smoothFactor&quot;: 1.0, &quot;stroke&quot;: true, &quot;weight&quot;: 5.166666666666667}\n",
       "            ).addTo(map_f191d6d071bfee5b3046ce2370246165);\n",
       "        \n",
       "    \n",
       "            poly_line_22284da07514f32009ba3b21f9e91013.bindTooltip(\n",
       "                `&lt;div&gt;\n",
       "                     从 广州工厂 到 深圳客户: 15000 件 橙汁 (第 1 旬)\n",
       "                 &lt;/div&gt;`,\n",
       "                {\n",
       "  &quot;sticky&quot;: true,\n",
       "}\n",
       "            );\n",
       "        \n",
       "    \n",
       "            var poly_line_7e6247a7c8810137db18c51980427959 = L.polyline(\n",
       "                [[23.1291, 113.2644], [22.5431, 114.0579]],\n",
       "                {&quot;bubblingMouseEvents&quot;: true, &quot;color&quot;: &quot;blue&quot;, &quot;dashArray&quot;: null, &quot;dashOffset&quot;: null, &quot;fill&quot;: false, &quot;fillColor&quot;: &quot;blue&quot;, &quot;fillOpacity&quot;: 0.2, &quot;fillRule&quot;: &quot;evenodd&quot;, &quot;lineCap&quot;: &quot;round&quot;, &quot;lineJoin&quot;: &quot;round&quot;, &quot;noClip&quot;: false, &quot;opacity&quot;: 0.7, &quot;smoothFactor&quot;: 1.0, &quot;stroke&quot;: true, &quot;weight&quot;: 6.0}\n",
       "            ).addTo(map_f191d6d071bfee5b3046ce2370246165);\n",
       "        \n",
       "    \n",
       "            poly_line_7e6247a7c8810137db18c51980427959.bindTooltip(\n",
       "                `&lt;div&gt;\n",
       "                     从 广州工厂 到 深圳客户: 18000 件 橙汁 (第 2 旬)\n",
       "                 &lt;/div&gt;`,\n",
       "                {\n",
       "  &quot;sticky&quot;: true,\n",
       "}\n",
       "            );\n",
       "        \n",
       "    \n",
       "            var poly_line_172eb559b679e64f7446d2b85a54e32c = L.polyline(\n",
       "                [[23.1291, 113.2644], [22.5431, 114.0579]],\n",
       "                {&quot;bubblingMouseEvents&quot;: true, &quot;color&quot;: &quot;blue&quot;, &quot;dashArray&quot;: null, &quot;dashOffset&quot;: null, &quot;fill&quot;: false, &quot;fillColor&quot;: &quot;blue&quot;, &quot;fillOpacity&quot;: 0.2, &quot;fillRule&quot;: &quot;evenodd&quot;, &quot;lineCap&quot;: &quot;round&quot;, &quot;lineJoin&quot;: &quot;round&quot;, &quot;noClip&quot;: false, &quot;opacity&quot;: 0.7, &quot;smoothFactor&quot;: 1.0, &quot;stroke&quot;: true, &quot;weight&quot;: 5.444444444444445}\n",
       "            ).addTo(map_f191d6d071bfee5b3046ce2370246165);\n",
       "        \n",
       "    \n",
       "            poly_line_172eb559b679e64f7446d2b85a54e32c.bindTooltip(\n",
       "                `&lt;div&gt;\n",
       "                     从 广州工厂 到 深圳客户: 16000 件 橙汁 (第 3 旬)\n",
       "                 &lt;/div&gt;`,\n",
       "                {\n",
       "  &quot;sticky&quot;: true,\n",
       "}\n",
       "            );\n",
       "        \n",
       "    \n",
       "            var poly_line_195f4c43cbd784a7780a3770484dac0c = L.polyline(\n",
       "                [[23.1291, 113.2644], [22.5431, 114.0579]],\n",
       "                {&quot;bubblingMouseEvents&quot;: true, &quot;color&quot;: &quot;blue&quot;, &quot;dashArray&quot;: null, &quot;dashOffset&quot;: null, &quot;fill&quot;: false, &quot;fillColor&quot;: &quot;blue&quot;, &quot;fillOpacity&quot;: 0.2, &quot;fillRule&quot;: &quot;evenodd&quot;, &quot;lineCap&quot;: &quot;round&quot;, &quot;lineJoin&quot;: &quot;round&quot;, &quot;noClip&quot;: false, &quot;opacity&quot;: 0.7, &quot;smoothFactor&quot;: 1.0, &quot;stroke&quot;: true, &quot;weight&quot;: 3.2222222222222223}\n",
       "            ).addTo(map_f191d6d071bfee5b3046ce2370246165);\n",
       "        \n",
       "    \n",
       "            poly_line_195f4c43cbd784a7780a3770484dac0c.bindTooltip(\n",
       "                `&lt;div&gt;\n",
       "                     从 广州工厂 到 深圳客户: 8000 件 苹果汁 (第 1 旬)\n",
       "                 &lt;/div&gt;`,\n",
       "                {\n",
       "  &quot;sticky&quot;: true,\n",
       "}\n",
       "            );\n",
       "        \n",
       "    \n",
       "            var poly_line_2913eee503de4d3de932ee0cf5f40001 = L.polyline(\n",
       "                [[23.1291, 113.2644], [22.5431, 114.0579]],\n",
       "                {&quot;bubblingMouseEvents&quot;: true, &quot;color&quot;: &quot;blue&quot;, &quot;dashArray&quot;: null, &quot;dashOffset&quot;: null, &quot;fill&quot;: false, &quot;fillColor&quot;: &quot;blue&quot;, &quot;fillOpacity&quot;: 0.2, &quot;fillRule&quot;: &quot;evenodd&quot;, &quot;lineCap&quot;: &quot;round&quot;, &quot;lineJoin&quot;: &quot;round&quot;, &quot;noClip&quot;: false, &quot;opacity&quot;: 0.7, &quot;smoothFactor&quot;: 1.0, &quot;stroke&quot;: true, &quot;weight&quot;: 3.5}\n",
       "            ).addTo(map_f191d6d071bfee5b3046ce2370246165);\n",
       "        \n",
       "    \n",
       "            poly_line_2913eee503de4d3de932ee0cf5f40001.bindTooltip(\n",
       "                `&lt;div&gt;\n",
       "                     从 广州工厂 到 深圳客户: 9000 件 苹果汁 (第 2 旬)\n",
       "                 &lt;/div&gt;`,\n",
       "                {\n",
       "  &quot;sticky&quot;: true,\n",
       "}\n",
       "            );\n",
       "        \n",
       "    \n",
       "            var poly_line_6211662afe3bde7f69a2d57d7a11bdf3 = L.polyline(\n",
       "                [[23.1291, 113.2644], [22.5431, 114.0579]],\n",
       "                {&quot;bubblingMouseEvents&quot;: true, &quot;color&quot;: &quot;blue&quot;, &quot;dashArray&quot;: null, &quot;dashOffset&quot;: null, &quot;fill&quot;: false, &quot;fillColor&quot;: &quot;blue&quot;, &quot;fillOpacity&quot;: 0.2, &quot;fillRule&quot;: &quot;evenodd&quot;, &quot;lineCap&quot;: &quot;round&quot;, &quot;lineJoin&quot;: &quot;round&quot;, &quot;noClip&quot;: false, &quot;opacity&quot;: 0.7, &quot;smoothFactor&quot;: 1.0, &quot;stroke&quot;: true, &quot;weight&quot;: 3.7777777777777777}\n",
       "            ).addTo(map_f191d6d071bfee5b3046ce2370246165);\n",
       "        \n",
       "    \n",
       "            poly_line_6211662afe3bde7f69a2d57d7a11bdf3.bindTooltip(\n",
       "                `&lt;div&gt;\n",
       "                     从 广州工厂 到 深圳客户: 10000 件 苹果汁 (第 3 旬)\n",
       "                 &lt;/div&gt;`,\n",
       "                {\n",
       "  &quot;sticky&quot;: true,\n",
       "}\n",
       "            );\n",
       "        \n",
       "    \n",
       "            var poly_line_2aeb21845bfdcdd12794145733c98187 = L.polyline(\n",
       "                [[31.2304, 121.4737], [41.7963, 123.4315]],\n",
       "                {&quot;bubblingMouseEvents&quot;: true, &quot;color&quot;: &quot;blue&quot;, &quot;dashArray&quot;: null, &quot;dashOffset&quot;: null, &quot;fill&quot;: false, &quot;fillColor&quot;: &quot;blue&quot;, &quot;fillOpacity&quot;: 0.2, &quot;fillRule&quot;: &quot;evenodd&quot;, &quot;lineCap&quot;: &quot;round&quot;, &quot;lineJoin&quot;: &quot;round&quot;, &quot;noClip&quot;: false, &quot;opacity&quot;: 0.7, &quot;smoothFactor&quot;: 1.0, &quot;stroke&quot;: true, &quot;weight&quot;: 2.388888888888889}\n",
       "            ).addTo(map_f191d6d071bfee5b3046ce2370246165);\n",
       "        \n",
       "    \n",
       "            poly_line_2aeb21845bfdcdd12794145733c98187.bindTooltip(\n",
       "                `&lt;div&gt;\n",
       "                     从 上海分仓 到 沈阳客户: 5000 件 苹果汁 (第 1 旬)\n",
       "                 &lt;/div&gt;`,\n",
       "                {\n",
       "  &quot;sticky&quot;: true,\n",
       "}\n",
       "            );\n",
       "        \n",
       "    \n",
       "            var poly_line_04529f2a9b03df586e4293a2b6b28380 = L.polyline(\n",
       "                [[31.2304, 121.4737], [41.7963, 123.4315]],\n",
       "                {&quot;bubblingMouseEvents&quot;: true, &quot;color&quot;: &quot;blue&quot;, &quot;dashArray&quot;: null, &quot;dashOffset&quot;: null, &quot;fill&quot;: false, &quot;fillColor&quot;: &quot;blue&quot;, &quot;fillOpacity&quot;: 0.2, &quot;fillRule&quot;: &quot;evenodd&quot;, &quot;lineCap&quot;: &quot;round&quot;, &quot;lineJoin&quot;: &quot;round&quot;, &quot;noClip&quot;: false, &quot;opacity&quot;: 0.7, &quot;smoothFactor&quot;: 1.0, &quot;stroke&quot;: true, &quot;weight&quot;: 2.6666666666666665}\n",
       "            ).addTo(map_f191d6d071bfee5b3046ce2370246165);\n",
       "        \n",
       "    \n",
       "            poly_line_04529f2a9b03df586e4293a2b6b28380.bindTooltip(\n",
       "                `&lt;div&gt;\n",
       "                     从 上海分仓 到 沈阳客户: 6000 件 苹果汁 (第 2 旬)\n",
       "                 &lt;/div&gt;`,\n",
       "                {\n",
       "  &quot;sticky&quot;: true,\n",
       "}\n",
       "            );\n",
       "        \n",
       "    \n",
       "            var poly_line_5234c0985f67cd364cc88d079a97b3b1 = L.polyline(\n",
       "                [[31.2304, 121.4737], [41.7963, 123.4315]],\n",
       "                {&quot;bubblingMouseEvents&quot;: true, &quot;color&quot;: &quot;blue&quot;, &quot;dashArray&quot;: null, &quot;dashOffset&quot;: null, &quot;fill&quot;: false, &quot;fillColor&quot;: &quot;blue&quot;, &quot;fillOpacity&quot;: 0.2, &quot;fillRule&quot;: &quot;evenodd&quot;, &quot;lineCap&quot;: &quot;round&quot;, &quot;lineJoin&quot;: &quot;round&quot;, &quot;noClip&quot;: false, &quot;opacity&quot;: 0.7, &quot;smoothFactor&quot;: 1.0, &quot;stroke&quot;: true, &quot;weight&quot;: 2.9444444444444446}\n",
       "            ).addTo(map_f191d6d071bfee5b3046ce2370246165);\n",
       "        \n",
       "    \n",
       "            poly_line_5234c0985f67cd364cc88d079a97b3b1.bindTooltip(\n",
       "                `&lt;div&gt;\n",
       "                     从 上海分仓 到 沈阳客户: 7000 件 苹果汁 (第 3 旬)\n",
       "                 &lt;/div&gt;`,\n",
       "                {\n",
       "  &quot;sticky&quot;: true,\n",
       "}\n",
       "            );\n",
       "        \n",
       "    \n",
       "            var poly_line_247f184cc28d45e538e40daf1524ff37 = L.polyline(\n",
       "                [[30.5928, 114.3055], [30.5728, 104.0668]],\n",
       "                {&quot;bubblingMouseEvents&quot;: true, &quot;color&quot;: &quot;blue&quot;, &quot;dashArray&quot;: null, &quot;dashOffset&quot;: null, &quot;fill&quot;: false, &quot;fillColor&quot;: &quot;blue&quot;, &quot;fillOpacity&quot;: 0.2, &quot;fillRule&quot;: &quot;evenodd&quot;, &quot;lineCap&quot;: &quot;round&quot;, &quot;lineJoin&quot;: &quot;round&quot;, &quot;noClip&quot;: false, &quot;opacity&quot;: 0.7, &quot;smoothFactor&quot;: 1.0, &quot;stroke&quot;: true, &quot;weight&quot;: 4.333333333333333}\n",
       "            ).addTo(map_f191d6d071bfee5b3046ce2370246165);\n",
       "        \n",
       "    \n",
       "            poly_line_247f184cc28d45e538e40daf1524ff37.bindTooltip(\n",
       "                `&lt;div&gt;\n",
       "                     从 武汉分仓 到 成都客户: 12000 件 橙汁 (第 1 旬)\n",
       "                 &lt;/div&gt;`,\n",
       "                {\n",
       "  &quot;sticky&quot;: true,\n",
       "}\n",
       "            );\n",
       "        \n",
       "    \n",
       "            var poly_line_19a3d5a91741b4eebfe2096120a9b071 = L.polyline(\n",
       "                [[30.5928, 114.3055], [30.5728, 104.0668]],\n",
       "                {&quot;bubblingMouseEvents&quot;: true, &quot;color&quot;: &quot;blue&quot;, &quot;dashArray&quot;: null, &quot;dashOffset&quot;: null, &quot;fill&quot;: false, &quot;fillColor&quot;: &quot;blue&quot;, &quot;fillOpacity&quot;: 0.2, &quot;fillRule&quot;: &quot;evenodd&quot;, &quot;lineCap&quot;: &quot;round&quot;, &quot;lineJoin&quot;: &quot;round&quot;, &quot;noClip&quot;: false, &quot;opacity&quot;: 0.7, &quot;smoothFactor&quot;: 1.0, &quot;stroke&quot;: true, &quot;weight&quot;: 3.7777777777777777}\n",
       "            ).addTo(map_f191d6d071bfee5b3046ce2370246165);\n",
       "        \n",
       "    \n",
       "            poly_line_19a3d5a91741b4eebfe2096120a9b071.bindTooltip(\n",
       "                `&lt;div&gt;\n",
       "                     从 武汉分仓 到 成都客户: 10000 件 橙汁 (第 2 旬)\n",
       "                 &lt;/div&gt;`,\n",
       "                {\n",
       "  &quot;sticky&quot;: true,\n",
       "}\n",
       "            );\n",
       "        \n",
       "    \n",
       "            var poly_line_38a645459e7a05cbf811650205eb2303 = L.polyline(\n",
       "                [[30.5928, 114.3055], [30.5728, 104.0668]],\n",
       "                {&quot;bubblingMouseEvents&quot;: true, &quot;color&quot;: &quot;blue&quot;, &quot;dashArray&quot;: null, &quot;dashOffset&quot;: null, &quot;fill&quot;: false, &quot;fillColor&quot;: &quot;blue&quot;, &quot;fillOpacity&quot;: 0.2, &quot;fillRule&quot;: &quot;evenodd&quot;, &quot;lineCap&quot;: &quot;round&quot;, &quot;lineJoin&quot;: &quot;round&quot;, &quot;noClip&quot;: false, &quot;opacity&quot;: 0.7, &quot;smoothFactor&quot;: 1.0, &quot;stroke&quot;: true, &quot;weight&quot;: 4.888888888888889}\n",
       "            ).addTo(map_f191d6d071bfee5b3046ce2370246165);\n",
       "        \n",
       "    \n",
       "            poly_line_38a645459e7a05cbf811650205eb2303.bindTooltip(\n",
       "                `&lt;div&gt;\n",
       "                     从 武汉分仓 到 成都客户: 14000 件 橙汁 (第 3 旬)\n",
       "                 &lt;/div&gt;`,\n",
       "                {\n",
       "  &quot;sticky&quot;: true,\n",
       "}\n",
       "            );\n",
       "        \n",
       "    \n",
       "            var poly_line_76302d617113199de545b692575e9a74 = L.polyline(\n",
       "                [[30.5928, 114.3055], [30.5728, 104.0668]],\n",
       "                {&quot;bubblingMouseEvents&quot;: true, &quot;color&quot;: &quot;blue&quot;, &quot;dashArray&quot;: null, &quot;dashOffset&quot;: null, &quot;fill&quot;: false, &quot;fillColor&quot;: &quot;blue&quot;, &quot;fillOpacity&quot;: 0.2, &quot;fillRule&quot;: &quot;evenodd&quot;, &quot;lineCap&quot;: &quot;round&quot;, &quot;lineJoin&quot;: &quot;round&quot;, &quot;noClip&quot;: false, &quot;opacity&quot;: 0.7, &quot;smoothFactor&quot;: 1.0, &quot;stroke&quot;: true, &quot;weight&quot;: 2.9444444444444446}\n",
       "            ).addTo(map_f191d6d071bfee5b3046ce2370246165);\n",
       "        \n",
       "    \n",
       "            poly_line_76302d617113199de545b692575e9a74.bindTooltip(\n",
       "                `&lt;div&gt;\n",
       "                     从 武汉分仓 到 成都客户: 7000 件 苹果汁 (第 1 旬)\n",
       "                 &lt;/div&gt;`,\n",
       "                {\n",
       "  &quot;sticky&quot;: true,\n",
       "}\n",
       "            );\n",
       "        \n",
       "    \n",
       "            var poly_line_ea122acaa5cd64215a54c3659c102dbb = L.polyline(\n",
       "                [[30.5928, 114.3055], [30.5728, 104.0668]],\n",
       "                {&quot;bubblingMouseEvents&quot;: true, &quot;color&quot;: &quot;blue&quot;, &quot;dashArray&quot;: null, &quot;dashOffset&quot;: null, &quot;fill&quot;: false, &quot;fillColor&quot;: &quot;blue&quot;, &quot;fillOpacity&quot;: 0.2, &quot;fillRule&quot;: &quot;evenodd&quot;, &quot;lineCap&quot;: &quot;round&quot;, &quot;lineJoin&quot;: &quot;round&quot;, &quot;noClip&quot;: false, &quot;opacity&quot;: 0.7, &quot;smoothFactor&quot;: 1.0, &quot;stroke&quot;: true, &quot;weight&quot;: 2.6666666666666665}\n",
       "            ).addTo(map_f191d6d071bfee5b3046ce2370246165);\n",
       "        \n",
       "    \n",
       "            poly_line_ea122acaa5cd64215a54c3659c102dbb.bindTooltip(\n",
       "                `&lt;div&gt;\n",
       "                     从 武汉分仓 到 成都客户: 6000 件 苹果汁 (第 2 旬)\n",
       "                 &lt;/div&gt;`,\n",
       "                {\n",
       "  &quot;sticky&quot;: true,\n",
       "}\n",
       "            );\n",
       "        \n",
       "    \n",
       "            var poly_line_163bd3d4f448a518651dfec64cf56777 = L.polyline(\n",
       "                [[30.5928, 114.3055], [30.5728, 104.0668]],\n",
       "                {&quot;bubblingMouseEvents&quot;: true, &quot;color&quot;: &quot;blue&quot;, &quot;dashArray&quot;: null, &quot;dashOffset&quot;: null, &quot;fill&quot;: false, &quot;fillColor&quot;: &quot;blue&quot;, &quot;fillOpacity&quot;: 0.2, &quot;fillRule&quot;: &quot;evenodd&quot;, &quot;lineCap&quot;: &quot;round&quot;, &quot;lineJoin&quot;: &quot;round&quot;, &quot;noClip&quot;: false, &quot;opacity&quot;: 0.7, &quot;smoothFactor&quot;: 1.0, &quot;stroke&quot;: true, &quot;weight&quot;: 3.2222222222222223}\n",
       "            ).addTo(map_f191d6d071bfee5b3046ce2370246165);\n",
       "        \n",
       "    \n",
       "            poly_line_163bd3d4f448a518651dfec64cf56777.bindTooltip(\n",
       "                `&lt;div&gt;\n",
       "                     从 武汉分仓 到 成都客户: 8000 件 苹果汁 (第 3 旬)\n",
       "                 &lt;/div&gt;`,\n",
       "                {\n",
       "  &quot;sticky&quot;: true,\n",
       "}\n",
       "            );\n",
       "        \n",
       "&lt;/script&gt;\n",
       "&lt;/html&gt;\" style=\"position:absolute;width:100%;height:100%;left:0;top:0;border:none !important;\" allowfullscreen webkitallowfullscreen mozallowfullscreen></iframe></div></div>"
      ],
      "text/plain": [
       "<folium.folium.Map at 0x756f0417b2e0>"
      ]
     },
     "metadata": {},
     "output_type": "display_data"
    }
   ],
   "source": [
    "\n",
    "# 提取流向数据用于地图\n",
    "flow_data = defaultdict(list)\n",
    "for f in factories:\n",
    "    for w in warehouses:\n",
    "        for p in products:\n",
    "            for t in periods:\n",
    "                if value(flow_fw[f][w][p][t]) > 0:\n",
    "                    flow_data['source'].append(f)\n",
    "                    flow_data['destination'].append(w)\n",
    "                    flow_data['product'].append(p)\n",
    "                    flow_data['period'].append(t)\n",
    "                    flow_data['quantity'].append(value(flow_fw[f][w][p][t]))\n",
    "for f in factories:\n",
    "    for c in customers:\n",
    "        for p in products:\n",
    "            for t in periods:\n",
    "                if value(flow_fc[f][c][p][t]) > 0:\n",
    "                    flow_data['source'].append(f)\n",
    "                    flow_data['destination'].append(c)\n",
    "                    flow_data['product'].append(p)\n",
    "                    flow_data['period'].append(t)\n",
    "                    flow_data['quantity'].append(value(flow_fc[f][c][p][t]))\n",
    "for w in warehouses:\n",
    "    for c in customers:\n",
    "        for p in products:\n",
    "            for t in periods:\n",
    "                if value(flow_wc[w][c][p][t]) > 0:\n",
    "                    flow_data['source'].append(w)\n",
    "                    flow_data['destination'].append(c)\n",
    "                    flow_data['product'].append(p)\n",
    "                    flow_data['period'].append(t)\n",
    "                    flow_data['quantity'].append(value(flow_wc[w][c][p][t]))\n",
    "\n",
    "flow_df = pd.DataFrame(flow_data)\n",
    "\n",
    "# 可视化2: 供应链流向地图\n",
    "if not flow_df.empty:\n",
    "    m = folium.Map(location=[34.7, 108.9], zoom_start=4)\n",
    "    for name, coords in locations.items():\n",
    "        folium.Marker(coords, popup=name, tooltip=name).add_to(m)\n",
    "    \n",
    "    max_flow = flow_df['quantity'].max()\n",
    "    for _, row in flow_df.iterrows():\n",
    "        source_coords = locations[row['source']]\n",
    "        dest_coords = locations[row['destination']]\n",
    "        line_weight = row['quantity'] / max_flow * 5 + 1\n",
    "        folium.PolyLine(\n",
    "            [source_coords, dest_coords],\n",
    "            color='blue',\n",
    "            weight=line_weight,\n",
    "            opacity=0.7,\n",
    "            tooltip=f\"从 {row['source']} 到 {row['destination']}: {row['quantity']:.0f} 件 {row['product']} (第 {row['period']} 旬)\"\n",
    "        ).add_to(m)\n",
    "    display(m)\n",
    "else:\n",
    "    print(\"没有可展示的流向数据。\")"
   ]
  }
 ],
 "metadata": {
  "kernelspec": {
   "display_name": ".venv (3.10.11)",
   "language": "python",
   "name": "python3"
  },
  "language_info": {
   "codemirror_mode": {
    "name": "ipython",
    "version": 3
   },
   "file_extension": ".py",
   "mimetype": "text/x-python",
   "name": "python",
   "nbconvert_exporter": "python",
   "pygments_lexer": "ipython3",
   "version": "3.10.11"
  }
 },
 "nbformat": 4,
 "nbformat_minor": 4
}
